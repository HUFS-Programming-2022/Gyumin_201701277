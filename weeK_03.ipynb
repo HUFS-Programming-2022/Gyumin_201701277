{
 "cells": [
  {
   "cell_type": "markdown",
   "metadata": {},
   "source": [
    "# Week_03"
   ]
  },
  {
   "cell_type": "markdown",
   "metadata": {},
   "source": [
    "### 중첩 조건문\n",
    "- nested conditional\n",
    "- if 블록 안에 또 다른 if 블록이 있는 경우\n",
    "- 들여쓰기로 논리를 구분한다."
   ]
  },
  {
   "cell_type": "code",
   "execution_count": 3,
   "metadata": {},
   "outputs": [
    {
     "name": "stdout",
     "output_type": "stream",
     "text": [
      "Block B\n"
     ]
    }
   ],
   "source": [
    "# 좋지 않은 예 1\n",
    "\n",
    "x = 0\n",
    "y = 1\n",
    "if x == y :\n",
    "    print(\"Block A\")\n",
    "else : \n",
    "    if x < y :\n",
    "        print(\"Block B\")\n",
    "    else :\n",
    "        print(\"Block C\")"
   ]
  },
  {
   "cell_type": "code",
   "execution_count": 7,
   "metadata": {},
   "outputs": [
    {
     "name": "stdout",
     "output_type": "stream",
     "text": [
      "Block C\n"
     ]
    }
   ],
   "source": [
    "# 좋지 않은 예 2  \n",
    "\n",
    "if x > 0 :\n",
    "    if x < 10 :\n",
    "        print(\"Block A\")\n",
    "    else :\n",
    "        print(\"Block B\")\n",
    "else : \n",
    "    print(\"Block C\")"
   ]
  },
  {
   "cell_type": "code",
   "execution_count": 4,
   "metadata": {},
   "outputs": [
    {
     "name": "stdout",
     "output_type": "stream",
     "text": [
      "Block B\n"
     ]
    }
   ],
   "source": [
    "# 좋은 예 1\n",
    "\n",
    "x = 0\n",
    "y = 1\n",
    "if x == y : \n",
    "    print(\"Block A\")\n",
    "elif x < y :\n",
    "    print(\"Block B\")\n",
    "else:\n",
    "    print(\"Block C\")\n"
   ]
  },
  {
   "cell_type": "code",
   "execution_count": 6,
   "metadata": {},
   "outputs": [
    {
     "name": "stdout",
     "output_type": "stream",
     "text": [
      "Block B\n",
      "Block B\n"
     ]
    }
   ],
   "source": [
    "# 좋은 예 2\n",
    "\n",
    "# 방법1\n",
    "if (x > 0) and (x < 10): # 논리 연산자\n",
    "    print(\"Block A\")\n",
    "else : \n",
    "    print(\"Block B\")\n",
    "    \n",
    "# 방법2\n",
    "if 0 < x < 10: # 논리 연산자\n",
    "    print(\"Block A\")\n",
    "else : \n",
    "    print(\"Block B\")"
   ]
  },
  {
   "cell_type": "markdown",
   "metadata": {},
   "source": [
    "### 논리 연산자\n",
    "- 비교 연산자가 여러 번 사용될 때 사용하는 것\n",
    "- and, or, not :\n",
    "    - A and(&) B : A도 참이고, B도 참일 때 True\n",
    "    - A or(|) B : A 혹은 B 둘 중 하나라도 참일 때 True\n",
    "    - not (A) : A가 False 일 때 True, True 일 때 False\n",
    "- 비교연산자의 괄호는 가독성을 위해 (optional)\n",
    "- 파이썬에서만 가능한 표현 : 0 < x < 10"
   ]
  },
  {
   "cell_type": "markdown",
   "metadata": {},
   "source": [
    "### True, False\n",
    "- \"만약 a가 참이라면, ... \" \n",
    "- a == True"
   ]
  },
  {
   "cell_type": "code",
   "execution_count": null,
   "metadata": {},
   "outputs": [],
   "source": [
    "if a == True :\n",
    "    print() # 틀림\n",
    "    \n",
    "if a :\n",
    "    print() # 맞음"
   ]
  },
  {
   "cell_type": "markdown",
   "metadata": {},
   "source": [
    "### in\n",
    "- membership operator\n",
    "- 어떤 요소가 그 안에 있는지 확인할 때\n",
    "- 비슷한 조건이 여러 번 반복될 때"
   ]
  },
  {
   "cell_type": "code",
   "execution_count": 11,
   "metadata": {},
   "outputs": [
    {
     "name": "stdout",
     "output_type": "stream",
     "text": [
      "모음이다.\n"
     ]
    }
   ],
   "source": [
    "letter = 'a'\n",
    "\n",
    "# letter가 모음인지 확인 : a, e, i, o, u\n",
    "if letter in ['a', 'e', 'i', 'o', 'u'] : # 리스트 요소에 letter와 일치하는 것이 있는가?\n",
    "    print(\"모음이다.\")\n",
    "else : \n",
    "    print(\"모음이 아니다.\")"
   ]
  },
  {
   "cell_type": "code",
   "execution_count": 8,
   "metadata": {},
   "outputs": [
    {
     "name": "stdout",
     "output_type": "stream",
     "text": [
      "모음이 있다.\n"
     ]
    }
   ],
   "source": [
    "word = 'abcde'\n",
    "flag = 0\n",
    "# word에 모음이 있는지 확인\n",
    "\n",
    "for i in word :\n",
    "    if i in ['a', 'e', 'i', 'o', 'u'] :\n",
    "        flag = 1\n",
    "        break\n",
    "        \n",
    "if flag == 1 :\n",
    "    print(\"모음이 있다.\")\n",
    "else :\n",
    "    print(\"모음이 없다.\")   "
   ]
  },
  {
   "cell_type": "markdown",
   "metadata": {},
   "source": [
    "### 바다코끼리 연산자\n",
    "- walrus operator\n",
    "- 할당과 테스트를 동시에 하는 기능\n",
    "- :="
   ]
  },
  {
   "cell_type": "code",
   "execution_count": 18,
   "metadata": {},
   "outputs": [
    {
     "data": {
      "text/plain": [
       "'blahblahblahblahblahblahblahblahblahblahblahblahblahblahblahblahblahblahblahblahblahblahblahblahblahblahblahblahblahblahblahblahblahblahblahblahblahblahblahblahblahblahblahblahblahblahblahblahblahblah'"
      ]
     },
     "execution_count": 18,
     "metadata": {},
     "output_type": "execute_result"
    }
   ],
   "source": [
    "tweet_limit = 200\n",
    "tweet_string = \"blah\" * 50 # 공백없이 스트링 4 * 50개\n",
    "tweet_string"
   ]
  },
  {
   "cell_type": "code",
   "execution_count": 21,
   "metadata": {},
   "outputs": [
    {
     "name": "stdout",
     "output_type": "stream",
     "text": [
      "불가능\n"
     ]
    }
   ],
   "source": [
    "diff = tweet_limit - len(tweet_string)\n",
    "if diff > 0:\n",
    "    print(\"가능\")\n",
    "else : \n",
    "    print(\"불가능\")"
   ]
  },
  {
   "cell_type": "code",
   "execution_count": null,
   "metadata": {},
   "outputs": [],
   "source": [
    "if (diff := tweet_limit - len(tweet_string)) > 0 :\n",
    "     print(\"가능\")\n",
    "else : \n",
    "    print(\"불가능\")"
   ]
  },
  {
   "cell_type": "markdown",
   "metadata": {},
   "source": [
    "### Quiz\n",
    "- 윤년을 구하는 코드\n",
    "    - 연도가 4로 나눠떨어지면 윤년\n",
    "    - 100으로 나눠 떨어지면 안된다.\n",
    "    - 400으로 나눠 떨어지면 된다.\n",
    "\n",
    "- year를 입력받는다.\n",
    "- 윤년이면 'xxxx년은 윤년입니다.' / 'xxxx년은 윤년이 아닙니다.'"
   ]
  },
  {
   "cell_type": "code",
   "execution_count": 10,
   "metadata": {},
   "outputs": [
    {
     "name": "stdout",
     "output_type": "stream",
     "text": [
      "년도를 입력하세요 : 2004\n",
      "2004년은 윤년입니다.\n"
     ]
    }
   ],
   "source": [
    "year = int(input(\"년도를 입력하세요 : \"))\n",
    "\n",
    "if (year % 4 == 0) and (year % 100 != 0) or (year % 400 == 0):\n",
    "    print(str(year) + \"년은 윤년입니다.\")\n",
    "else :\n",
    "    print(str(year) + \"년은 윤년이 아닙니다.\")\n",
    "    "
   ]
  },
  {
   "cell_type": "markdown",
   "metadata": {},
   "source": [
    "### String | 문자열\n",
    "- str type\n",
    "- 시스템에서 가장 작은 단위\n",
    "- 불변적인 성격 (immutable)\n",
    "    - 'abcd' - > b를 a로 바꿀 수 없다.\n",
    "- 문법 : \"\", 또는 ''로 감싸면 모두 문자열\n",
    "    - 예: '24'\n",
    "- ''' or \"\"\"는 주석.\n",
    "- 형 변환은 str()\n",
    "\n",
    "### Escape character | 이스케이프 문자\n",
    "- 눈에 보이는 대로 인식되지 않는 문자열\n",
    "- 문법 : \\ + character\n",
    "- \\n, \\t, \\b, \\'\n",
    "- print() 함수 쓰지 않으면 형태가 출력은 된다.\n",
    "- '\\n' 그대로 출력은 어떻게?\n",
    "    - \\\\n\n",
    "    - r\"\" (raw string)\n",
    "- 문자열을 바꾸는 것이 아니라 표면상의 형태를 말하는 것"
   ]
  },
  {
   "cell_type": "code",
   "execution_count": 16,
   "metadata": {},
   "outputs": [
    {
     "name": "stdout",
     "output_type": "stream",
     "text": [
      "hello\tworld\n"
     ]
    }
   ],
   "source": [
    "print(\"hello\\tworld\") # 탭"
   ]
  },
  {
   "cell_type": "code",
   "execution_count": 17,
   "metadata": {},
   "outputs": [
    {
     "name": "stdout",
     "output_type": "stream",
     "text": [
      "hello\bworld\n"
     ]
    }
   ],
   "source": [
    "print(\"hello\\bworld\") # 백스페이스"
   ]
  },
  {
   "cell_type": "code",
   "execution_count": 18,
   "metadata": {},
   "outputs": [
    {
     "name": "stdout",
     "output_type": "stream",
     "text": [
      "hello\n",
      "world\n"
     ]
    }
   ],
   "source": [
    "print(\"hello\\nworld\") # 줄 변경"
   ]
  },
  {
   "cell_type": "markdown",
   "metadata": {},
   "source": [
    "print('i\\'m a boy') # ''안에서 '를 문자로 사용하는 방법"
   ]
  },
  {
   "cell_type": "code",
   "execution_count": 20,
   "metadata": {},
   "outputs": [
    {
     "name": "stdout",
     "output_type": "stream",
     "text": [
      "hello \\n world\n"
     ]
    }
   ],
   "source": [
    "print(\"hello \\\\n world\") # \\n을 문자로 사용하는 방법"
   ]
  },
  {
   "cell_type": "code",
   "execution_count": 22,
   "metadata": {},
   "outputs": [
    {
     "name": "stdout",
     "output_type": "stream",
     "text": [
      "hello \\n \\tworld\n"
     ]
    }
   ],
   "source": [
    "print(r\"hello \\n \\tworld\") # 문자열 안에 r 붙여주면 이스케이프 문자 적용 안됨."
   ]
  },
  {
   "cell_type": "markdown",
   "metadata": {},
   "source": [
    "### 연산\n",
    "- concatenation (+)\n",
    "    - '' + '' => 붙이기\n",
    "- 복제 (*)\n",
    "    - '' * 4 => 4번 반복"
   ]
  },
  {
   "cell_type": "code",
   "execution_count": 23,
   "metadata": {},
   "outputs": [
    {
     "data": {
      "text/plain": [
       "'brainbrain'"
      ]
     },
     "execution_count": 23,
     "metadata": {},
     "output_type": "execute_result"
    }
   ],
   "source": [
    "word = \"brain\" # 공백 없이 붙는다.\n",
    "word + word"
   ]
  },
  {
   "cell_type": "code",
   "execution_count": 24,
   "metadata": {},
   "outputs": [
    {
     "data": {
      "text/plain": [
       "'brainbrainbrainbrain'"
      ]
     },
     "execution_count": 24,
     "metadata": {},
     "output_type": "execute_result"
    }
   ],
   "source": [
    "word * 4 # 복제 또한 공백 없이 붙는다."
   ]
  },
  {
   "cell_type": "code",
   "execution_count": 25,
   "metadata": {},
   "outputs": [
    {
     "data": {
      "text/plain": [
       "'My name isJake'"
      ]
     },
     "execution_count": 25,
     "metadata": {},
     "output_type": "execute_result"
    }
   ],
   "source": [
    "\"My name is\" + \"Jake\" # 띄어쓰기 잘 생각해서 사용"
   ]
  },
  {
   "cell_type": "markdown",
   "metadata": {},
   "source": [
    "### Slicing\n",
    "- 지정 범위의 문자열을 추출하는 것\n",
    "- 문법 : 대괄호 + 오프셋 이용 [offset]\n",
    "    - [start : end : step]\n",
    "- offset은 0부터 시작\n",
    "- 0일 경우 생략.\n",
    "    - 예: ~4까지 출력 = >[:5]\n",
    "    - 처음부터 끝까지 2스텝씩 => [::2]\n",
    "    - 처음부터 끝까지 역순으로 => [::-1]\n",
    "- offset은 음수로도 접근 가능하다.\n",
    "    - 0 1 2 ..\n",
    "    - h e l l o\n",
    "    - -5      -1"
   ]
  },
  {
   "cell_type": "code",
   "execution_count": 27,
   "metadata": {},
   "outputs": [
    {
     "data": {
      "text/plain": [
       "('brain', 'r')"
      ]
     },
     "execution_count": 27,
     "metadata": {},
     "output_type": "execute_result"
    }
   ],
   "source": [
    "word, word[1] # 2번째 글자"
   ]
  },
  {
   "cell_type": "code",
   "execution_count": 28,
   "metadata": {},
   "outputs": [
    {
     "data": {
      "text/plain": [
       "'i'"
      ]
     },
     "execution_count": 28,
     "metadata": {},
     "output_type": "execute_result"
    }
   ],
   "source": [
    "word[3 : 4] # strat, end / word[3]만 나옴, end 부분 -> 4번 인덱스 미포함"
   ]
  },
  {
   "cell_type": "code",
   "execution_count": 29,
   "metadata": {},
   "outputs": [
    {
     "data": {
      "text/plain": [
       "'brain'"
      ]
     },
     "execution_count": 29,
     "metadata": {},
     "output_type": "execute_result"
    }
   ],
   "source": [
    "# 처음부터 4까지\n",
    "word[:5] # end는 end 숫자 미포함. 즉 ~4까지"
   ]
  },
  {
   "cell_type": "code",
   "execution_count": 31,
   "metadata": {},
   "outputs": [
    {
     "data": {
      "text/plain": [
       "'brain'"
      ]
     },
     "execution_count": 31,
     "metadata": {},
     "output_type": "execute_result"
    }
   ],
   "source": [
    "word[:] # 처음부터 끝까지"
   ]
  },
  {
   "cell_type": "code",
   "execution_count": 33,
   "metadata": {},
   "outputs": [
    {
     "data": {
      "text/plain": [
       "11"
      ]
     },
     "execution_count": 33,
     "metadata": {},
     "output_type": "execute_result"
    }
   ],
   "source": [
    "sent2 = \"Hello World\"\n",
    "len(sent2) #length 문자열의 길이(공백포함)"
   ]
  },
  {
   "cell_type": "code",
   "execution_count": 34,
   "metadata": {},
   "outputs": [
    {
     "data": {
      "text/plain": [
       "'HloWrd'"
      ]
     },
     "execution_count": 34,
     "metadata": {},
     "output_type": "execute_result"
    }
   ],
   "source": [
    "# 처음부터 끝까지 2스텝씩 출력\n",
    "sent2[::2]"
   ]
  },
  {
   "cell_type": "code",
   "execution_count": 35,
   "metadata": {},
   "outputs": [
    {
     "data": {
      "text/plain": [
       "'dlroW olleH'"
      ]
     },
     "execution_count": 35,
     "metadata": {},
     "output_type": "execute_result"
    }
   ],
   "source": [
    "#처음부터 끝까지 역순으로\n",
    "sent2[::-1]"
   ]
  },
  {
   "cell_type": "code",
   "execution_count": 37,
   "metadata": {},
   "outputs": [
    {
     "ename": "NameError",
     "evalue": "name 'hello' is not defined",
     "output_type": "error",
     "traceback": [
      "\u001b[1;31m---------------------------------------------------------------------------\u001b[0m",
      "\u001b[1;31mNameError\u001b[0m                                 Traceback (most recent call last)",
      "\u001b[1;32m<ipython-input-37-fd3dc8edb690>\u001b[0m in \u001b[0;36m<module>\u001b[1;34m()\u001b[0m\n\u001b[1;32m----> 1\u001b[1;33m \u001b[0mhello\u001b[0m\u001b[1;33m[\u001b[0m\u001b[1;36m2\u001b[0m\u001b[1;33m]\u001b[0m \u001b[1;33m=\u001b[0m \u001b[1;34m'L'\u001b[0m \u001b[1;31m# 불변 타입이라 변경할 수 없다.\u001b[0m\u001b[1;33m\u001b[0m\u001b[0m\n\u001b[0m",
      "\u001b[1;31mNameError\u001b[0m: name 'hello' is not defined"
     ]
    }
   ],
   "source": [
    "hello[2] = 'L' # 불변 타입이라 변경할 수 없다. 오류 발생."
   ]
  },
  {
   "cell_type": "markdown",
   "metadata": {},
   "source": [
    "### NLTK\n",
    "- natural language toolkit\n",
    "- 교육용으로 개발된 자연어처리 패키지\n",
    "- 코퍼스 제공하는데 어떤 처리가 되어있다.\n",
    "    - 토크나이즈, 파싱, 태깅 등.."
   ]
  },
  {
   "cell_type": "code",
   "execution_count": 38,
   "metadata": {},
   "outputs": [
    {
     "name": "stdout",
     "output_type": "stream",
     "text": [
      "Requirement already satisfied: pip in d:\\anaconda3\\lib\\site-packages (22.0.4)\n"
     ]
    }
   ],
   "source": [
    "!python -m pip install --upgrade pip"
   ]
  },
  {
   "cell_type": "code",
   "execution_count": 39,
   "metadata": {},
   "outputs": [
    {
     "name": "stdout",
     "output_type": "stream",
     "text": [
      "Requirement already satisfied: nltk in d:\\anaconda3\\lib\\site-packages (3.3)\n",
      "Requirement already satisfied: six in d:\\anaconda3\\lib\\site-packages (from nltk) (1.11.0)\n"
     ]
    }
   ],
   "source": [
    "!pip install nltk"
   ]
  },
  {
   "cell_type": "code",
   "execution_count": 40,
   "metadata": {},
   "outputs": [
    {
     "data": {
      "text/plain": [
       "True"
      ]
     },
     "execution_count": 40,
     "metadata": {},
     "output_type": "execute_result"
    }
   ],
   "source": [
    "import nltk\n",
    "nltk.download('book', quiet = True) # dot으로 접근"
   ]
  },
  {
   "cell_type": "code",
   "execution_count": 41,
   "metadata": {},
   "outputs": [
    {
     "name": "stdout",
     "output_type": "stream",
     "text": [
      "*** Introductory Examples for the NLTK Book ***\n",
      "Loading text1, ..., text9 and sent1, ..., sent9\n",
      "Type the name of the text or sentence to view it.\n",
      "Type: 'texts()' or 'sents()' to list the materials.\n",
      "text1: Moby Dick by Herman Melville 1851\n",
      "text2: Sense and Sensibility by Jane Austen 1811\n",
      "text3: The Book of Genesis\n",
      "text4: Inaugural Address Corpus\n",
      "text5: Chat Corpus\n",
      "text6: Monty Python and the Holy Grail\n",
      "text7: Wall Street Journal\n",
      "text8: Personals Corpus\n",
      "text9: The Man Who Was Thursday by G . K . Chesterton 1908\n"
     ]
    }
   ],
   "source": [
    "from nltk import book"
   ]
  },
  {
   "cell_type": "code",
   "execution_count": 42,
   "metadata": {},
   "outputs": [],
   "source": [
    "moby = book.text1"
   ]
  },
  {
   "cell_type": "code",
   "execution_count": 43,
   "metadata": {},
   "outputs": [
    {
     "data": {
      "text/plain": [
       "['[',\n",
       " 'Moby',\n",
       " 'Dick',\n",
       " 'by',\n",
       " 'Herman',\n",
       " 'Melville',\n",
       " '1851',\n",
       " ']',\n",
       " 'ETYMOLOGY',\n",
       " '.',\n",
       " '(',\n",
       " 'Supplied',\n",
       " 'by',\n",
       " 'a',\n",
       " 'Late',\n",
       " 'Consumptive',\n",
       " 'Usher',\n",
       " 'to',\n",
       " 'a',\n",
       " 'Grammar']"
      ]
     },
     "execution_count": 43,
     "metadata": {},
     "output_type": "execute_result"
    }
   ],
   "source": [
    "moby.tokens[0:20] # 단어에 접근"
   ]
  },
  {
   "cell_type": "markdown",
   "metadata": {},
   "source": [
    "\"\"\"\n",
    "토큰? 프로그래밍에서 정의하는 단어 \n",
    "    \"I'm a boy.\" i'm, i am, i 'm \n",
    "\"\"\""
   ]
  },
  {
   "cell_type": "code",
   "execution_count": 44,
   "metadata": {},
   "outputs": [
    {
     "data": {
      "text/plain": [
       "260819"
      ]
     },
     "execution_count": 44,
     "metadata": {},
     "output_type": "execute_result"
    }
   ],
   "source": [
    "# 총 길이\n",
    "len(moby.tokens)"
   ]
  },
  {
   "cell_type": "code",
   "execution_count": 45,
   "metadata": {},
   "outputs": [
    {
     "data": {
      "text/plain": [
       "{'serfs',\n",
       " 'stem',\n",
       " 'tilting',\n",
       " 'minor',\n",
       " 'soever',\n",
       " 'constantly',\n",
       " 'merman',\n",
       " 'act',\n",
       " 'monied',\n",
       " 'excursion',\n",
       " 'therein',\n",
       " 'thanked',\n",
       " 'bearer',\n",
       " 'Parisians',\n",
       " 'woeful',\n",
       " 'blundering',\n",
       " 'apply',\n",
       " 'dismasting',\n",
       " 'descended',\n",
       " 'king',\n",
       " 'considerable',\n",
       " 'pikes',\n",
       " 'waiting',\n",
       " 'rider',\n",
       " 'roses',\n",
       " 'pugilists',\n",
       " 'appeal',\n",
       " 'Indian',\n",
       " 'ills',\n",
       " 'expectantly',\n",
       " 'breezy',\n",
       " 'pass',\n",
       " 'beside',\n",
       " 'TOOLS',\n",
       " 'hardly',\n",
       " 'liquor',\n",
       " 'punishment',\n",
       " 'deriding',\n",
       " 'die',\n",
       " 'mugs',\n",
       " 'dung',\n",
       " 'prone',\n",
       " 'compactness',\n",
       " 'arrogance',\n",
       " 'vastly',\n",
       " 'discharge',\n",
       " 'loo',\n",
       " 'searching',\n",
       " 'traverse',\n",
       " 'rang',\n",
       " 'labelled',\n",
       " 'planks',\n",
       " 'SHOALS',\n",
       " 'pirouetting',\n",
       " 'Sailing',\n",
       " 'growl',\n",
       " 'unforgiven',\n",
       " 'proprietor',\n",
       " 'crave',\n",
       " 'churches',\n",
       " 'Mend',\n",
       " 'Shaking',\n",
       " 'cause',\n",
       " 'ecliptics',\n",
       " 'hermit',\n",
       " 'Frankfort',\n",
       " 'WATCH',\n",
       " 'periodicalness',\n",
       " 'lily',\n",
       " 'silenced',\n",
       " 'COFFIN',\n",
       " 'robed',\n",
       " 'exclamations',\n",
       " 'bank',\n",
       " 'garments',\n",
       " 'levelled',\n",
       " 'impetuously',\n",
       " 'Cleveland',\n",
       " 'indications',\n",
       " 'tacks',\n",
       " 'reelman',\n",
       " 'bodies',\n",
       " 'scarcely',\n",
       " 'Coopman',\n",
       " '63',\n",
       " 'Chaldee',\n",
       " 'overstocked',\n",
       " 'abound',\n",
       " 'archbishopric',\n",
       " 'driving',\n",
       " 'appearing',\n",
       " 'strongly',\n",
       " 'dew',\n",
       " 'tale',\n",
       " 'natives',\n",
       " \":--'\",\n",
       " 'Ark',\n",
       " 'Europa',\n",
       " 'Horn',\n",
       " 'Swim',\n",
       " 'poky',\n",
       " 'filaments',\n",
       " 'glimmering',\n",
       " 'veined',\n",
       " 'sporty',\n",
       " 'fobbing',\n",
       " 'oppose',\n",
       " 'Shaker',\n",
       " 'Rome',\n",
       " 'extracting',\n",
       " 'controllable',\n",
       " 'professors',\n",
       " 'Indiaman',\n",
       " 'waxed',\n",
       " 'stricken',\n",
       " 'doubling',\n",
       " 'untouchable',\n",
       " 'allow',\n",
       " 'squares',\n",
       " 'dismembering',\n",
       " 'patted',\n",
       " 'hamlets',\n",
       " 'published',\n",
       " 'reduced',\n",
       " 'arrives',\n",
       " 'spreads',\n",
       " 'erudite',\n",
       " 'prop',\n",
       " 'burghers',\n",
       " 'historians',\n",
       " 'mission',\n",
       " 'persuade',\n",
       " 'hearted',\n",
       " '1821',\n",
       " 'clever',\n",
       " 'deacon',\n",
       " 'depends',\n",
       " 'ruined',\n",
       " 'distinguish',\n",
       " 'Nail',\n",
       " 'vague',\n",
       " 'granting',\n",
       " 'administered',\n",
       " 'marshalled',\n",
       " 'Bone',\n",
       " 'styled',\n",
       " 'rod',\n",
       " 'Honourary',\n",
       " 'candies',\n",
       " 'whirlwinds',\n",
       " 'steel',\n",
       " 'Commodore',\n",
       " 'Between',\n",
       " 'HOLLAND',\n",
       " 'like',\n",
       " 'HUMP',\n",
       " 'diagonically',\n",
       " 'escape',\n",
       " 'lastly',\n",
       " 'lack',\n",
       " 'opera',\n",
       " 'theology',\n",
       " 'riggers',\n",
       " 'wherever',\n",
       " 'pickle',\n",
       " 'house',\n",
       " 'imperilled',\n",
       " 'ply',\n",
       " 'Hebrews',\n",
       " 'yielded',\n",
       " 'gardenny',\n",
       " 'spectrally',\n",
       " 'peddlin',\n",
       " 'Tomahawk',\n",
       " 'treachery',\n",
       " 'Curses',\n",
       " 'vineyards',\n",
       " 'Myself',\n",
       " 'interlude',\n",
       " 'cometh',\n",
       " 'quilt',\n",
       " 'portion',\n",
       " 'PEQUOD',\n",
       " 'whom',\n",
       " 'torments',\n",
       " 'feline',\n",
       " 'esteemed',\n",
       " 'Whelped',\n",
       " 'Fool',\n",
       " 'reading',\n",
       " 'available',\n",
       " 'ugliest',\n",
       " 'affairs',\n",
       " 'loaded',\n",
       " 'desperado',\n",
       " 'receiving',\n",
       " 'fixing',\n",
       " 'pulling',\n",
       " 'branch',\n",
       " 'inexhaustible',\n",
       " 'disposition',\n",
       " 'Philopater',\n",
       " '33',\n",
       " 'accidents',\n",
       " 'impeach',\n",
       " 'assault',\n",
       " 'browsing',\n",
       " 'plaudits',\n",
       " 'friendly',\n",
       " 'connection',\n",
       " 'cucumbers',\n",
       " 'fountain',\n",
       " 'rogues',\n",
       " 'firmament',\n",
       " 'Nut',\n",
       " 'obsolete',\n",
       " 'finish',\n",
       " 'cajoling',\n",
       " 'purchased',\n",
       " 'dey',\n",
       " 'indecorous',\n",
       " 'awarded',\n",
       " 'hundreds',\n",
       " 'Ebony',\n",
       " 'population',\n",
       " 'speeding',\n",
       " 'cant',\n",
       " 'Webster',\n",
       " 'U',\n",
       " 'towers',\n",
       " 'vacancy',\n",
       " 'closed',\n",
       " 'joke',\n",
       " 'Polynesia',\n",
       " 'gathered',\n",
       " 'Yale',\n",
       " 'attached',\n",
       " 'studying',\n",
       " 'broom',\n",
       " 'tucked',\n",
       " 'ghosts',\n",
       " 'dozed',\n",
       " 'gasped',\n",
       " 'brood',\n",
       " 'prosperous',\n",
       " 'dietetically',\n",
       " 'antichronical',\n",
       " 'stringy',\n",
       " 'ribby',\n",
       " 'subterraneous',\n",
       " 'buckskin',\n",
       " 'Land',\n",
       " 'lath',\n",
       " 'gate',\n",
       " 'dictator',\n",
       " 'assurance',\n",
       " 'sage',\n",
       " 'means',\n",
       " 'fared',\n",
       " 'sockets',\n",
       " 'historic',\n",
       " 'rigid',\n",
       " 'sich',\n",
       " 'vesper',\n",
       " 'Bench',\n",
       " 'strands',\n",
       " 'cleanse',\n",
       " 'market',\n",
       " 'raal',\n",
       " 'RETAKING',\n",
       " 'celebrated',\n",
       " 'horrors',\n",
       " 'Book',\n",
       " 'picturesque',\n",
       " 'For',\n",
       " 'doomed',\n",
       " 'belfry',\n",
       " 'preciousness',\n",
       " 'infatuation',\n",
       " 'She',\n",
       " 'dismembered',\n",
       " 'marching',\n",
       " 'interblending',\n",
       " 'giddily',\n",
       " 'nice',\n",
       " 'wheresoe',\n",
       " 'whose',\n",
       " 'protection',\n",
       " 'kindness',\n",
       " 'Windsor',\n",
       " 'Hurriedly',\n",
       " 'supplying',\n",
       " 'chilled',\n",
       " 'modelled',\n",
       " 'averages',\n",
       " 'tumultuously',\n",
       " 'wrist',\n",
       " 'antelope',\n",
       " 'interferes',\n",
       " 'PROFANE',\n",
       " 'impatiently',\n",
       " 'gladness',\n",
       " 'disappears',\n",
       " 'smackin',\n",
       " 'men',\n",
       " '890',\n",
       " 'stubbornest',\n",
       " 'buoy',\n",
       " 'lessons',\n",
       " 'thanks',\n",
       " 'management',\n",
       " 'crow',\n",
       " 'thorough',\n",
       " 'emerging',\n",
       " 'drive',\n",
       " 'happens',\n",
       " 'fetch',\n",
       " 'isolation',\n",
       " 'sensibly',\n",
       " 'strand',\n",
       " '16th',\n",
       " 'springs',\n",
       " 'touchest',\n",
       " 'snort',\n",
       " 'tinder',\n",
       " 'coopers',\n",
       " 'CRUISE',\n",
       " 'remonstrance',\n",
       " 'leathern',\n",
       " 'humorousness',\n",
       " 'dislocation',\n",
       " 'entered',\n",
       " 'systemized',\n",
       " 'dotings',\n",
       " 'eddied',\n",
       " 'Pillar',\n",
       " 'enlarged',\n",
       " 'landsmen',\n",
       " 'innocent',\n",
       " 'plumping',\n",
       " 'gabled',\n",
       " 'Darmonodes',\n",
       " 'keel',\n",
       " 'emulation',\n",
       " 'happiness',\n",
       " 'displaced',\n",
       " 'alike',\n",
       " 'transom',\n",
       " 'howled',\n",
       " 'Rhyme',\n",
       " 'paintings',\n",
       " 'chases',\n",
       " 'TROIL',\n",
       " 'comes',\n",
       " 'torsoes',\n",
       " 'mortal',\n",
       " 'Cowper',\n",
       " 'CHACE',\n",
       " 'hastily',\n",
       " '113',\n",
       " 'spiritually',\n",
       " 'printing',\n",
       " 'suspends',\n",
       " 'added',\n",
       " 'eulogy',\n",
       " 'Peru',\n",
       " 'Pollard',\n",
       " 'regard',\n",
       " 'rush',\n",
       " 'rapacious',\n",
       " 'CAPTAIN',\n",
       " 'whispers',\n",
       " 'needs',\n",
       " 'whelmings',\n",
       " 'comprehensible',\n",
       " 'treacherously',\n",
       " 'hardness',\n",
       " 'Nun',\n",
       " 'seized',\n",
       " 'dived',\n",
       " 'Though',\n",
       " 'hammer',\n",
       " 'joyously',\n",
       " 'involved',\n",
       " 'lactantem',\n",
       " 'resist',\n",
       " 'avenger',\n",
       " 'hooked',\n",
       " 'Mammoth',\n",
       " 'rhyme',\n",
       " 'steak',\n",
       " 'RIGHT',\n",
       " 'violence',\n",
       " 'g',\n",
       " 'Anne',\n",
       " 'spade',\n",
       " 'assertion',\n",
       " 'hide',\n",
       " 'BOTTOM',\n",
       " 'anticipative',\n",
       " 'moulded',\n",
       " 'wherefore',\n",
       " 'tags',\n",
       " 'prowling',\n",
       " 'Wonder',\n",
       " 'Hyperborean',\n",
       " 'Entering',\n",
       " 'Awful',\n",
       " 'Overhearing',\n",
       " 'bullies',\n",
       " 'windlass',\n",
       " 'Hang',\n",
       " 'wait',\n",
       " 'Right',\n",
       " 'forbid',\n",
       " 'brackish',\n",
       " 'looking',\n",
       " 'walked',\n",
       " 'fountains',\n",
       " 'showing',\n",
       " 'radiating',\n",
       " 'dock',\n",
       " 'pounce',\n",
       " 'Ex',\n",
       " 'unrustlingly',\n",
       " 'reef',\n",
       " 'protrusion',\n",
       " 'whist',\n",
       " 'remonstrating',\n",
       " 'fatter',\n",
       " 'assigns',\n",
       " 'square',\n",
       " 'Bashee',\n",
       " 'plaster',\n",
       " 'harboring',\n",
       " 'copestone',\n",
       " 'soldiers',\n",
       " 'perceptibly',\n",
       " 'fitness',\n",
       " 'slighter',\n",
       " 'apprise',\n",
       " 'Oceans',\n",
       " 'netted',\n",
       " 'overleap',\n",
       " 'functions',\n",
       " 'laudanum',\n",
       " 'destroys',\n",
       " 'hempen',\n",
       " 'proportions',\n",
       " 'roundabout',\n",
       " 'redoubled',\n",
       " 'Woe',\n",
       " 'tablets',\n",
       " 'effaced',\n",
       " 'cruisings',\n",
       " 'downcast',\n",
       " 'sought',\n",
       " 'fishy',\n",
       " 'importunity',\n",
       " 'dexterous',\n",
       " 'gross',\n",
       " 'Swallow',\n",
       " 'warning',\n",
       " 'Terra',\n",
       " 'fragmentary',\n",
       " 'fluke',\n",
       " 'puncheons',\n",
       " 'L1',\n",
       " 'Hindoo',\n",
       " 'urbane',\n",
       " 'enjoining',\n",
       " 'latch',\n",
       " 'applies',\n",
       " 'befall',\n",
       " 'ineffectually',\n",
       " 'cultured',\n",
       " 'Cassock',\n",
       " 'duty',\n",
       " 'forborne',\n",
       " 'lunges',\n",
       " 'strangers',\n",
       " 'rigorous',\n",
       " 'tomorrow',\n",
       " 'Physeter',\n",
       " 'Xerxes',\n",
       " 'gesture',\n",
       " 'How',\n",
       " 'appellations',\n",
       " 'inward',\n",
       " 'ding',\n",
       " 'Queen',\n",
       " 'fagot',\n",
       " 'forenoon',\n",
       " 'maddening',\n",
       " 'nostril',\n",
       " 'breakers',\n",
       " 'froze',\n",
       " 'sceptical',\n",
       " 'Thirty',\n",
       " 'pommel',\n",
       " 'fog',\n",
       " 'stormed',\n",
       " 'glide',\n",
       " 'operated',\n",
       " 'toes',\n",
       " 'tattooings',\n",
       " 'chamber',\n",
       " 'paralysis',\n",
       " 'incorruptible',\n",
       " 'betaken',\n",
       " 'Continents',\n",
       " 'divided',\n",
       " 'Bachelor',\n",
       " 'extremest',\n",
       " 'gait',\n",
       " 'phrenologist',\n",
       " 'effulgent',\n",
       " 'Satan',\n",
       " 'winds',\n",
       " 'spaciousness',\n",
       " 'fearlessness',\n",
       " 'digestion',\n",
       " 'encamp',\n",
       " 'sane',\n",
       " 'bible',\n",
       " 'appears',\n",
       " 'scared',\n",
       " 'painful',\n",
       " 'contest',\n",
       " 'promontory',\n",
       " 'security',\n",
       " 'hate',\n",
       " 'tight',\n",
       " 'Words',\n",
       " 'fungi',\n",
       " 'jerkingly',\n",
       " 'wondrousness',\n",
       " 'upheaved',\n",
       " 'linear',\n",
       " 'luggers',\n",
       " 'Twins',\n",
       " 'monumental',\n",
       " 'selecting',\n",
       " 'slicings',\n",
       " 'Tut',\n",
       " 'circle',\n",
       " 'Winding',\n",
       " 'improvements',\n",
       " 'elaborately',\n",
       " 'hisself',\n",
       " 'cheese',\n",
       " 'dense',\n",
       " 'longingly',\n",
       " 'chasm',\n",
       " 'baptismal',\n",
       " 'SOMEWHERE',\n",
       " 'Justice',\n",
       " 'robes',\n",
       " 'mountains',\n",
       " 'latter',\n",
       " 'abbreviate',\n",
       " 'Jesus',\n",
       " 'overruling',\n",
       " 'bayonet',\n",
       " 'Witness',\n",
       " 'repartees',\n",
       " 'streets',\n",
       " 'Albino',\n",
       " 'vitality',\n",
       " 'stander',\n",
       " 'mumbling',\n",
       " 'galls',\n",
       " 'inestimable',\n",
       " 'blazed',\n",
       " 'pleasing',\n",
       " 'partly',\n",
       " 'suspect',\n",
       " 'sense',\n",
       " 'inside',\n",
       " 'severs',\n",
       " 'consequence',\n",
       " 'Berkshire',\n",
       " 'witted',\n",
       " 'chin',\n",
       " 'drained',\n",
       " 'pushing',\n",
       " 'Archbishop',\n",
       " 'FLASHES',\n",
       " 'planed',\n",
       " 'pudding',\n",
       " 'Prynne',\n",
       " 'splashing',\n",
       " 'smallest',\n",
       " 'Melville',\n",
       " 'haunts',\n",
       " 'rolled',\n",
       " 'tablecloth',\n",
       " 'demonisms',\n",
       " 'blossom',\n",
       " 'mockingly',\n",
       " '84',\n",
       " 'jubilations',\n",
       " 'weighing',\n",
       " 'headers',\n",
       " 'nobler',\n",
       " 'Whirlpooles',\n",
       " 'regal',\n",
       " 'echo',\n",
       " 'dismantled',\n",
       " 'matched',\n",
       " 'LORD',\n",
       " 'hamstring',\n",
       " 'room',\n",
       " 'skull',\n",
       " 'lbs',\n",
       " 'ANCHORS',\n",
       " 'vindicated',\n",
       " 'ISAIAH',\n",
       " 'Mt',\n",
       " 'immersed',\n",
       " 'humps',\n",
       " 'we',\n",
       " 'Shakespeare',\n",
       " 'courting',\n",
       " 'nation',\n",
       " 'frock',\n",
       " 'six',\n",
       " 'Good',\n",
       " 'Surmises',\n",
       " 'affirm',\n",
       " 'domed',\n",
       " 'fatherless',\n",
       " 'WORLD',\n",
       " 'chattering',\n",
       " 'feebler',\n",
       " 'JAGO',\n",
       " 'amusing',\n",
       " 'structural',\n",
       " 'pelisse',\n",
       " 'reminds',\n",
       " 'amend',\n",
       " 'life',\n",
       " 'pursuits',\n",
       " 'smallness',\n",
       " 'whalesmen',\n",
       " 'Upper',\n",
       " 'based',\n",
       " 'party',\n",
       " 'embalming',\n",
       " 'OCEAN',\n",
       " 'brig',\n",
       " 'leering',\n",
       " 'De',\n",
       " 'Gospel',\n",
       " 'churchyard',\n",
       " 'vapoury',\n",
       " 'revolving',\n",
       " 'eighty',\n",
       " 'brevet',\n",
       " 'wasted',\n",
       " 'screwed',\n",
       " 'retreat',\n",
       " 'smites',\n",
       " 'annihilated',\n",
       " 'couriers',\n",
       " 'gritted',\n",
       " 'before',\n",
       " 'Nantucketers',\n",
       " 'combination',\n",
       " 'ruins',\n",
       " 'feeds',\n",
       " 'whetstone',\n",
       " 'damage',\n",
       " 'unreverenced',\n",
       " 'comprises',\n",
       " 'clams',\n",
       " 'BLOODY',\n",
       " 'HATCHWAY',\n",
       " 'ragamuffin',\n",
       " 'augment',\n",
       " 'chess',\n",
       " 'HO',\n",
       " 'trip',\n",
       " 'hung',\n",
       " 'island',\n",
       " 'goggling',\n",
       " 'frogs',\n",
       " 'vinegar',\n",
       " 'romantic',\n",
       " 'LASCAR',\n",
       " 'entitled',\n",
       " 'inexperience',\n",
       " 'stubbs',\n",
       " 'Midnight',\n",
       " 'Yes',\n",
       " 'HELM',\n",
       " 'links',\n",
       " 'hereupon',\n",
       " 'vibrating',\n",
       " 'All',\n",
       " 'impregnable',\n",
       " 'expending',\n",
       " 'deeps',\n",
       " 'Island',\n",
       " 'peopled',\n",
       " 'ob',\n",
       " 'washes',\n",
       " 'propped',\n",
       " 'restore',\n",
       " 'unprofitable',\n",
       " 'roared',\n",
       " 'lengthen',\n",
       " 'Antilles',\n",
       " '13',\n",
       " 'calls',\n",
       " 'Scarcely',\n",
       " 'inquiringly',\n",
       " 'Reality',\n",
       " 'doctors',\n",
       " 'gripping',\n",
       " 'watching',\n",
       " 'friction',\n",
       " 'dong',\n",
       " 'expanding',\n",
       " 'ball',\n",
       " 'shade',\n",
       " 'connected',\n",
       " 'devious',\n",
       " 'augmented',\n",
       " 'yonder',\n",
       " 'homewards',\n",
       " 'unload',\n",
       " 'fantastic',\n",
       " 'relented',\n",
       " 'bright',\n",
       " 'cloven',\n",
       " 'Throw',\n",
       " 'unaccounted',\n",
       " 'odious',\n",
       " 'unlighted',\n",
       " 'prostrate',\n",
       " 'RAPE',\n",
       " 'sluggishly',\n",
       " 'boys',\n",
       " 'THEM',\n",
       " 'trudging',\n",
       " 'festooning',\n",
       " 'tucking',\n",
       " 'limits',\n",
       " 'Setting',\n",
       " '64',\n",
       " 'slumbers',\n",
       " 'punches',\n",
       " 'murdered',\n",
       " 'Israelites',\n",
       " 'forfeitures',\n",
       " 'rebels',\n",
       " 'silently',\n",
       " 'uninhabited',\n",
       " 'wanton',\n",
       " 'fifties',\n",
       " 'Aloft',\n",
       " 'comforted',\n",
       " 'deprecatory',\n",
       " 'bottling',\n",
       " 'Purchas',\n",
       " 'papered',\n",
       " 'disputes',\n",
       " 'hand',\n",
       " 'grievances',\n",
       " 'Clap',\n",
       " 'quoted',\n",
       " 'aspiring',\n",
       " 'splits',\n",
       " 'tyrannical',\n",
       " 'shuts',\n",
       " 'HIST',\n",
       " 'contradict',\n",
       " 'dull',\n",
       " 'Port',\n",
       " 'depths',\n",
       " 'purge',\n",
       " 'you',\n",
       " 'Broad',\n",
       " 'Verdes',\n",
       " 'Asphaltites',\n",
       " 'humor',\n",
       " 'issues',\n",
       " 'Har',\n",
       " 'halving',\n",
       " 'healthful',\n",
       " 'Carpenter',\n",
       " 'unspeakably',\n",
       " 'involuntary',\n",
       " 'scout',\n",
       " 'squash',\n",
       " 'draughtsmen',\n",
       " 'softest',\n",
       " 'ghost',\n",
       " 'monstrous',\n",
       " 'treating',\n",
       " 'outyell',\n",
       " 'mocking',\n",
       " 'Till',\n",
       " 'visit',\n",
       " 'voided',\n",
       " 'plight',\n",
       " 'counters',\n",
       " 'drifting',\n",
       " 'regularly',\n",
       " 'headmost',\n",
       " 'hump',\n",
       " 'fire',\n",
       " 'Standing',\n",
       " 'eyes',\n",
       " 'safety',\n",
       " 'crape',\n",
       " 'nay',\n",
       " 'spent',\n",
       " 'post',\n",
       " 'undulation',\n",
       " 'cunningly',\n",
       " 'supperless',\n",
       " 'erring',\n",
       " 'billion',\n",
       " 'None',\n",
       " 'lashless',\n",
       " 'drowsiness',\n",
       " 'vanity',\n",
       " 'emptying',\n",
       " 'abstinence',\n",
       " 'enhances',\n",
       " 'consecrating',\n",
       " 'marched',\n",
       " 'shell',\n",
       " 'European',\n",
       " 'all',\n",
       " 'swaller',\n",
       " 'precedents',\n",
       " 'inducing',\n",
       " 'madness',\n",
       " 'Icelandic',\n",
       " 'Shadrach',\n",
       " 'moot',\n",
       " 'cuttle',\n",
       " 'WHERE',\n",
       " 'healthily',\n",
       " 'Devils',\n",
       " 'sail',\n",
       " 'Boy',\n",
       " 'To',\n",
       " 'submission',\n",
       " 'begets',\n",
       " 'flavorish',\n",
       " 'shallows',\n",
       " 'field',\n",
       " 'BLACKSMITH',\n",
       " 'concerned',\n",
       " 'heaviest',\n",
       " 'bunched',\n",
       " 'deemed',\n",
       " 'mittened',\n",
       " 'capsizing',\n",
       " 'saltcellar',\n",
       " 'which',\n",
       " 'mean',\n",
       " 'unmistakably',\n",
       " 'dug',\n",
       " 'Pulpit',\n",
       " 'Alarmed',\n",
       " 'unusual',\n",
       " 'ranging',\n",
       " 'sharply',\n",
       " 'glimmer',\n",
       " 'INN',\n",
       " 'gull',\n",
       " 'revellers',\n",
       " 'Rondeletius',\n",
       " 'straightened',\n",
       " 'filers',\n",
       " 'fever',\n",
       " 'ISOLATO',\n",
       " 'rowing',\n",
       " 'willingness',\n",
       " 'Isaiah',\n",
       " 'inevitable',\n",
       " 'shingled',\n",
       " 'Richard',\n",
       " 'Jenny',\n",
       " 'eighteen',\n",
       " 'urchins',\n",
       " 'operates',\n",
       " 'Goldsmith',\n",
       " 'parched',\n",
       " 'AHAB',\n",
       " 'thence',\n",
       " 'blossoms',\n",
       " 'fanged',\n",
       " 'prate',\n",
       " 'Bay',\n",
       " 'tombs',\n",
       " 'hardihood',\n",
       " 'hatchways',\n",
       " 'glorified',\n",
       " 'affect',\n",
       " 'criticism',\n",
       " 'tattooed',\n",
       " 'flashes',\n",
       " 'unfaltering',\n",
       " 'akin',\n",
       " 'possesses',\n",
       " 'LETTER',\n",
       " 'unshunned',\n",
       " 'bewildering',\n",
       " 'motives',\n",
       " 'voted',\n",
       " 'brief',\n",
       " 'muscle',\n",
       " 'summary',\n",
       " 'two',\n",
       " 'Lombardy',\n",
       " '30',\n",
       " 'pelvis',\n",
       " 'maiming',\n",
       " 'deliciousness',\n",
       " 'despatched',\n",
       " 'broods',\n",
       " \"--'\",\n",
       " 'banded',\n",
       " 'protesting',\n",
       " 'newspaper',\n",
       " 'Louisiana',\n",
       " 'political',\n",
       " 'sights',\n",
       " 'plan',\n",
       " 'murky',\n",
       " 'Wild',\n",
       " 'menial',\n",
       " 'MCCULLOCH',\n",
       " 'dexterity',\n",
       " 'barrels',\n",
       " 'frosts',\n",
       " 'bridals',\n",
       " 'carrying',\n",
       " 'recklessly',\n",
       " 'compiled',\n",
       " 'whizzings',\n",
       " 'cures',\n",
       " 'Narwhale',\n",
       " 'gettest',\n",
       " 'flyin',\n",
       " 'overflowed',\n",
       " 'sign',\n",
       " 'leaders',\n",
       " 'imparts',\n",
       " 'knobbed',\n",
       " 'Scotland',\n",
       " 'trump',\n",
       " 'scare',\n",
       " 'incense',\n",
       " 'unworshipping',\n",
       " 'BATTLE',\n",
       " 'runs',\n",
       " ']',\n",
       " 'curiosity',\n",
       " 'founded',\n",
       " 'Bibles',\n",
       " 'footstep',\n",
       " 'befooled',\n",
       " 'gout',\n",
       " 'sketches',\n",
       " 'held',\n",
       " 'puissant',\n",
       " 'Imperial',\n",
       " 'quiver',\n",
       " 'topmost',\n",
       " 'awoke',\n",
       " 'ringing',\n",
       " 'violets',\n",
       " 'Pott',\n",
       " '31',\n",
       " 'vacation',\n",
       " 'longings',\n",
       " 'took',\n",
       " 'healed',\n",
       " 'freshets',\n",
       " 'honours',\n",
       " 'jungle',\n",
       " 'Roses',\n",
       " 'alternate',\n",
       " 'Turkish',\n",
       " 'Sciences',\n",
       " 'applicable',\n",
       " 'sure',\n",
       " 'hain',\n",
       " 'sweeping',\n",
       " 'Fasting',\n",
       " 'reciprocating',\n",
       " 'Esquimaux',\n",
       " 'allurings',\n",
       " ...}"
      ]
     },
     "execution_count": 45,
     "metadata": {},
     "output_type": "execute_result"
    }
   ],
   "source": [
    "set(moby.tokens) # set 형식으로 변환해줌."
   ]
  },
  {
   "cell_type": "markdown",
   "metadata": {},
   "source": [
    "- set\n",
    "    -{a, b, c, ...}\n",
    "    - 중복 불가능\n",
    "    - 수학의 집합과 동일한 개념\n",
    "    - 순서 없음. = > 슬라이싱 불가능\n",
    "- list\n",
    "    - [a, b, c, ...]\n",
    "    - 중복 가능\n",
    "    - 순서 있음."
   ]
  },
  {
   "cell_type": "code",
   "execution_count": 47,
   "metadata": {},
   "outputs": [
    {
     "data": {
      "text/plain": [
       "['kia', 'benz', 'kia']"
      ]
     },
     "execution_count": 47,
     "metadata": {},
     "output_type": "execute_result"
    }
   ],
   "source": [
    "cars = ['kia', 'benz', 'kia']\n",
    "cars"
   ]
  },
  {
   "cell_type": "code",
   "execution_count": 48,
   "metadata": {},
   "outputs": [
    {
     "data": {
      "text/plain": [
       "{'benz', 'kia'}"
      ]
     },
     "execution_count": 48,
     "metadata": {},
     "output_type": "execute_result"
    }
   ],
   "source": [
    "cars = {'kia', 'benz', 'kia'} # set는 {}으로 묶어줌. 중복된 원소는 자동으로 삭제됨.\n",
    "cars"
   ]
  },
  {
   "cell_type": "code",
   "execution_count": 49,
   "metadata": {},
   "outputs": [
    {
     "data": {
      "text/plain": [
       "19317"
      ]
     },
     "execution_count": 49,
     "metadata": {},
     "output_type": "execute_result"
    }
   ],
   "source": [
    "# 중복 없는 단어 수\n",
    "len(set(moby.tokens))"
   ]
  },
  {
   "cell_type": "code",
   "execution_count": 50,
   "metadata": {},
   "outputs": [
    {
     "data": {
      "text/plain": [
       "0.07406285585022564"
      ]
     },
     "execution_count": 50,
     "metadata": {},
     "output_type": "execute_result"
    }
   ],
   "source": [
    "# lexical diversity\n",
    "len(set(moby.tokens)) / len(moby.tokens)"
   ]
  },
  {
   "cell_type": "code",
   "execution_count": 51,
   "metadata": {},
   "outputs": [
    {
     "data": {
      "text/plain": [
       "['kia', 'benz']"
      ]
     },
     "execution_count": 51,
     "metadata": {},
     "output_type": "execute_result"
    }
   ],
   "source": [
    "# 오름차순, 내림차순 정렬\n",
    "sorted(cars, reverse = True)"
   ]
  },
  {
   "cell_type": "code",
   "execution_count": 52,
   "metadata": {},
   "outputs": [
    {
     "data": {
      "text/plain": [
       "['zoology',\n",
       " 'zones',\n",
       " 'zoned',\n",
       " 'zone',\n",
       " 'zodiac',\n",
       " 'zig',\n",
       " 'zephyr',\n",
       " 'zeal',\n",
       " 'zay',\n",
       " 'zag']"
      ]
     },
     "execution_count": 52,
     "metadata": {},
     "output_type": "execute_result"
    }
   ],
   "source": [
    "sorted(set(moby.tokens), reverse = True)[:10]"
   ]
  },
  {
   "cell_type": "markdown",
   "metadata": {},
   "source": [
    "### Quiz 1\n",
    "- text9에서 lexical diversity 계산하기.\n",
    "- text6에서 중복없는 set 내림차순 정렬\n",
    "    - 앞에서 단어 10개 추출\n",
    "    - 조건문 연습 : 'z'가 있으면 대문자로 바꾸기, 'z'가 없는데 4글자 이상이면 끝           글자 대문자로 바꾸기\n",
    "    \n",
    "### Quiz 2\n",
    "- 주민등록번호, 휴대폰 번호, 이메일 입력받는다.\n",
    "    - 주민번호, 휴대폰은 숫자만 입력(- 없다.)\n",
    "    - 이메일은 아이디 부분만 입력(@~ 없다.)\n",
    "    \n",
    "- 출력 :\n",
    "    - \"당신은 {}년 {}월 {}일 출생의 {남성/여성}입니다.\"\n",
    "    - \"휴대폰 번호 : {} # 하이픈으로 연결하기\n",
    "    - 이메일 주소 : {아이디}@gmail.com"
   ]
  },
  {
   "cell_type": "code",
   "execution_count": 53,
   "metadata": {},
   "outputs": [
    {
     "name": "stdout",
     "output_type": "stream",
     "text": [
      "0.0983485761345412\n"
     ]
    }
   ],
   "source": [
    "### Quiz 1-1\n",
    "text = book.text9\n",
    "\n",
    "lex_div = len(set(text.tokens)) / len(text.tokens) \n",
    "              \n",
    "print(lex_div)"
   ]
  },
  {
   "cell_type": "code",
   "execution_count": 54,
   "metadata": {},
   "outputs": [
    {
     "name": "stdout",
     "output_type": "stream",
     "text": [
      "['Zoosh', 'Zoop', 'Zoo', 'Zone', 'Zhiv', 'yourselF', 'yourS', 'youR', 'younG', 'you']\n"
     ]
    }
   ],
   "source": [
    "### Quiz 1-2\n",
    "text = book.text6\n",
    "\n",
    "text_set = set(text.tokens)\n",
    "text_slice = sorted(text_set, reverse = True)[:10] # 내림차순으로 정렬된 set를 0~9까지 10개 추출\n",
    "\n",
    "for i in range(len(text_slice)):\n",
    "    if ('z' not in text_slice[i]) and (len(text_slice[i]) >= 4) : # text_slice[i]에 해당하는 단어에 'z'가 존재하고, 그 단어의 길이가 4 이상일 때\n",
    "        text_slice[i] = text_slice[i][:len(text_slice[i]) - 1] + text_slice[i][len(text_slice[i]) - 1].upper() # 해당 단어의 (0번 인덱스 ~ 마지막-1 인덱스) + 마지막 인덱스를 대문자로 변환한 것을 다시 text_slice[i]에 대입\n",
    "        \n",
    "        \n",
    "    for j in range(len(text_slice[i])): \n",
    "        if text_slice[i][j] == 'z':    # text_slice[i]에 해당하는 단어에 'z'가 존재할 때\n",
    "            text_slice[i] = text_slice[i][:j] + \"Z\" + text_slice[i][j + 1:]\n",
    "            # (0번 인덱스 ~ 'z'가 있는 직전의 인덱스) + 대문자 'Z' + ('z'가 있던 직후의 인덱스 ~ 마지막 인덱스)\n",
    "        \n",
    "print(text_slice)"
   ]
  },
  {
   "cell_type": "code",
   "execution_count": 55,
   "metadata": {},
   "outputs": [
    {
     "name": "stdout",
     "output_type": "stream",
     "text": [
      "주민등록번호 입력 : 9805121185814\n",
      "핸드폰 번호 입력 : 01092879750\n",
      "이메일(아이디) 입력 : rbals980\n",
      "\n",
      "당신은 98년 05월 12일 출생의 남성입니다.\n",
      "휴대폰 번호 : 010 - 9287 - 9750\n",
      "이메일 주소 : rbals980@gmail.com\n"
     ]
    }
   ],
   "source": [
    "rrNumber = input(\"주민등록번호 입력 : \")\n",
    "pNumber = input(\"핸드폰 번호 입력 : \")\n",
    "eMail = input(\"이메일(아이디) 입력 : \")\n",
    "\n",
    "year = rrNumber[0:2]\n",
    "month = rrNumber[2:4]\n",
    "day = rrNumber[4:6]\n",
    "sex = None\n",
    "\n",
    "if rrNumber[6] == '1':\n",
    "    sex = \"남성\"\n",
    "else : \n",
    "    sex = \"여성\"\n",
    "    \n",
    "print()\n",
    "\n",
    "print(f\"당신은 {year}년 {month}월 {day}일 출생의 {sex}입니다.\")\n",
    "print(f\"휴대폰 번호 : {pNumber[0:3]} - {pNumber[3:7]} - {pNumber[7:]}\")\n",
    "print(f\"이메일 주소 : {eMail}@gmail.com\")"
   ]
  },
  {
   "cell_type": "markdown",
   "metadata": {},
   "source": []
  }
 ],
 "metadata": {
  "kernelspec": {
   "display_name": "Python 3",
   "language": "python",
   "name": "python3"
  },
  "language_info": {
   "codemirror_mode": {
    "name": "ipython",
    "version": 3
   },
   "file_extension": ".py",
   "mimetype": "text/x-python",
   "name": "python",
   "nbconvert_exporter": "python",
   "pygments_lexer": "ipython3",
   "version": "3.7.0"
  }
 },
 "nbformat": 4,
 "nbformat_minor": 2
}
