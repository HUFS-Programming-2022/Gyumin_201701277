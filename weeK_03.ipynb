{
 "cells": [
  {
   "cell_type": "markdown",
   "metadata": {},
   "source": [
    "# Week_03"
   ]
  },
  {
   "cell_type": "markdown",
   "metadata": {},
   "source": [
    "### 중첩 조건문\n",
    "- nested conditional\n",
    "- if 블록 안에 또 다른 if 블록이 있는 경우\n",
    "- 들여쓰기로 논리를 구분한다."
   ]
  },
  {
   "cell_type": "code",
   "execution_count": 3,
   "metadata": {},
   "outputs": [
    {
     "name": "stdout",
     "output_type": "stream",
     "text": [
      "Block B\n"
     ]
    }
   ],
   "source": [
    "# 좋지 않은 예 1\n",
    "\n",
    "x = 0\n",
    "y = 1\n",
    "if x == y :\n",
    "    print(\"Block A\")\n",
    "else : \n",
    "    if x < y :\n",
    "        print(\"Block B\")\n",
    "    else :\n",
    "        print(\"Block C\")"
   ]
  },
  {
   "cell_type": "code",
   "execution_count": 7,
   "metadata": {},
   "outputs": [
    {
     "name": "stdout",
     "output_type": "stream",
     "text": [
      "Block C\n"
     ]
    }
   ],
   "source": [
    "# 좋지 않은 예 2  \n",
    "\n",
    "if x > 0 :\n",
    "    if x < 10 :\n",
    "        print(\"Block A\")\n",
    "    else :\n",
    "        print(\"Block B\")\n",
    "else : \n",
    "    print(\"Block C\")"
   ]
  },
  {
   "cell_type": "code",
   "execution_count": 4,
   "metadata": {},
   "outputs": [
    {
     "name": "stdout",
     "output_type": "stream",
     "text": [
      "Block B\n"
     ]
    }
   ],
   "source": [
    "# 좋은 예 1\n",
    "\n",
    "x = 0\n",
    "y = 1\n",
    "if x == y : \n",
    "    print(\"Block A\")\n",
    "elif x < y :\n",
    "    print(\"Block B\")\n",
    "else:\n",
    "    print(\"Block C\")\n"
   ]
  },
  {
   "cell_type": "code",
   "execution_count": 6,
   "metadata": {},
   "outputs": [
    {
     "name": "stdout",
     "output_type": "stream",
     "text": [
      "Block B\n",
      "Block B\n"
     ]
    }
   ],
   "source": [
    "# 좋은 예 2\n",
    "\n",
    "# 방법1\n",
    "if (x > 0) and (x < 10): # 논리 연산자\n",
    "    print(\"Block A\")\n",
    "else : \n",
    "    print(\"Block B\")\n",
    "    \n",
    "# 방법2\n",
    "if 0 < x < 10: # 논리 연산자\n",
    "    print(\"Block A\")\n",
    "else : \n",
    "    print(\"Block B\")"
   ]
  },
  {
   "cell_type": "markdown",
   "metadata": {},
   "source": [
    "### 논리 연산자\n",
    "- 비교 연산자가 여러 번 사용될 때 사용하는 것\n",
    "- and, or, not :\n",
    "    - A and(&) B : A도 참이고, B도 참일 때 True\n",
    "    - A or(|) B : A 혹은 B 둘 중 하나라도 참일 때 True\n",
    "    - not (A) : A가 False 일 때 True, True 일 때 False\n",
    "- 비교연산자의 괄호는 가독성을 위해 (optional)\n",
    "- 파이썬에서만 가능한 표현 : 0 < x < 10"
   ]
  },
  {
   "cell_type": "markdown",
   "metadata": {},
   "source": [
    "### True, False\n",
    "- \"만약 a가 참이라면, ... \" \n",
    "- a == True"
   ]
  },
  {
   "cell_type": "code",
   "execution_count": null,
   "metadata": {},
   "outputs": [],
   "source": [
    "if a == True :\n",
    "    print() # 틀림\n",
    "    \n",
    "if a :\n",
    "    print() # 맞음"
   ]
  },
  {
   "cell_type": "markdown",
   "metadata": {},
   "source": [
    "### in\n",
    "- membership operator\n",
    "- 어떤 요소가 그 안에 있는지 확인할 때\n",
    "- 비슷한 조건이 여러 번 반복될 때"
   ]
  },
  {
   "cell_type": "code",
   "execution_count": 11,
   "metadata": {},
   "outputs": [
    {
     "name": "stdout",
     "output_type": "stream",
     "text": [
      "모음이다.\n"
     ]
    }
   ],
   "source": [
    "letter = 'a'\n",
    "\n",
    "# letter가 모음인지 확인 : a, e, i, o, u\n",
    "if letter in ['a', 'e', 'i', 'o', 'u'] : # 리스트 요소에 letter와 일치하는 것이 있는가?\n",
    "    print(\"모음이다.\")\n",
    "else : \n",
    "    print(\"모음이 아니다.\")"
   ]
  },
  {
   "cell_type": "code",
   "execution_count": 8,
   "metadata": {},
   "outputs": [
    {
     "name": "stdout",
     "output_type": "stream",
     "text": [
      "모음이 있다.\n"
     ]
    }
   ],
   "source": [
    "word = 'abcde'\n",
    "flag = 0\n",
    "# word에 모음이 있는지 확인\n",
    "\n",
    "for i in word :\n",
    "    if i in ['a', 'e', 'i', 'o', 'u'] :\n",
    "        flag = 1\n",
    "        break\n",
    "        \n",
    "if flag == 1 :\n",
    "    print(\"모음이 있다.\")\n",
    "else :\n",
    "    print(\"모음이 없다.\")   "
   ]
  },
  {
   "cell_type": "markdown",
   "metadata": {},
   "source": [
    "### 바다코끼리 연산자\n",
    "- walrus operator\n",
    "- 할당과 테스트를 동시에 하는 기능\n",
    "- :="
   ]
  },
  {
   "cell_type": "code",
   "execution_count": 18,
   "metadata": {},
   "outputs": [
    {
     "data": {
      "text/plain": [
       "'blahblahblahblahblahblahblahblahblahblahblahblahblahblahblahblahblahblahblahblahblahblahblahblahblahblahblahblahblahblahblahblahblahblahblahblahblahblahblahblahblahblahblahblahblahblahblahblahblahblah'"
      ]
     },
     "execution_count": 18,
     "metadata": {},
     "output_type": "execute_result"
    }
   ],
   "source": [
    "tweet_limit = 200\n",
    "tweet_string = \"blah\" * 50 # 공백없이 스트링 4 * 50개\n",
    "tweet_string"
   ]
  },
  {
   "cell_type": "code",
   "execution_count": 21,
   "metadata": {},
   "outputs": [
    {
     "name": "stdout",
     "output_type": "stream",
     "text": [
      "불가능\n"
     ]
    }
   ],
   "source": [
    "diff = tweet_limit - len(tweet_string)\n",
    "if diff > 0:\n",
    "    print(\"가능\")\n",
    "else : \n",
    "    print(\"불가능\")"
   ]
  },
  {
   "cell_type": "code",
   "execution_count": null,
   "metadata": {},
   "outputs": [],
   "source": [
    "if (diff := tweet_limit - len(tweet_string)) > 0 :\n",
    "     print(\"가능\")\n",
    "else : \n",
    "    print(\"불가능\")"
   ]
  },
  {
   "cell_type": "markdown",
   "metadata": {},
   "source": [
    "### Quiz\n",
    "- 윤년을 구하는 코드\n",
    "    - 연도가 4로 나눠떨어지면 윤년\n",
    "    - 100으로 나눠 떨어지면 안된다.\n",
    "    - 400으로 나눠 떨어지면 된다.\n",
    "\n",
    "- year를 입력받는다.\n",
    "- 윤년이면 'xxxx년은 윤년입니다.' / 'xxxx년은 윤년이 아닙니다.'"
   ]
  },
  {
   "cell_type": "code",
   "execution_count": 10,
   "metadata": {},
   "outputs": [
    {
     "name": "stdout",
     "output_type": "stream",
     "text": [
      "년도를 입력하세요 : 2004\n",
      "2004년은 윤년입니다.\n"
     ]
    }
   ],
   "source": [
    "year = int(input(\"년도를 입력하세요 : \"))\n",
    "\n",
    "if (year % 4 == 0) and (year % 100 != 0) or (year % 400 == 0):\n",
    "    print(str(year) + \"년은 윤년입니다.\")\n",
    "else :\n",
    "    print(str(year) + \"년은 윤년이 아닙니다.\")\n",
    "    "
   ]
  },
  {
   "cell_type": "markdown",
   "metadata": {},
   "source": [
    "### String | 문자열\n",
    "- str type\n",
    "- 시스템에서 가장 작은 단위\n",
    "- 불변적인 성격 (immutable)\n",
    "    - 'abcd' - > b를 a로 바꿀 수 없다.\n",
    "- 문법 : \"\", 또는 ''로 감싸면 모두 문자열\n",
    "    - 예: '24'\n",
    "- ''' or \"\"\"는 주석.\n",
    "- 형 변환은 str()\n",
    "\n",
    "### Escape character | 이스케이프 문자\n",
    "- 눈에 보이는 대로 인식되지 않는 문자열\n",
    "- 문법 : \\ + character\n",
    "- \\n, \\t, \\b, \\'\n",
    "- print() 함수 쓰지 않으면 형태가 출력은 된다.\n",
    "- '\\n' 그대로 출력은 어떻게?\n",
    "    - \\\\n\n",
    "    - r\"\" (raw string)\n",
    "- 문자열을 바꾸는 것이 아니라 표면상의 형태를 말하는 것"
   ]
  },
  {
   "cell_type": "code",
   "execution_count": 16,
   "metadata": {},
   "outputs": [
    {
     "name": "stdout",
     "output_type": "stream",
     "text": [
      "hello\tworld\n"
     ]
    }
   ],
   "source": [
    "print(\"hello\\tworld\") # 탭"
   ]
  },
  {
   "cell_type": "code",
   "execution_count": 17,
   "metadata": {},
   "outputs": [
    {
     "name": "stdout",
     "output_type": "stream",
     "text": [
      "hello\bworld\n"
     ]
    }
   ],
   "source": [
    "print(\"hello\\bworld\") # 백스페이스"
   ]
  },
  {
   "cell_type": "code",
   "execution_count": 18,
   "metadata": {},
   "outputs": [
    {
     "name": "stdout",
     "output_type": "stream",
     "text": [
      "hello\n",
      "world\n"
     ]
    }
   ],
   "source": [
    "print(\"hello\\nworld\") # 줄 변경"
   ]
  },
  {
   "cell_type": "markdown",
   "metadata": {},
   "source": [
    "print('i\\'m a boy') # ''안에서 '를 문자로 사용하는 방법"
   ]
  },
  {
   "cell_type": "code",
   "execution_count": 20,
   "metadata": {},
   "outputs": [
    {
     "name": "stdout",
     "output_type": "stream",
     "text": [
      "hello \\n world\n"
     ]
    }
   ],
   "source": [
    "print(\"hello \\\\n world\") # \\n을 문자로 사용하는 방법"
   ]
  },
  {
   "cell_type": "code",
   "execution_count": 22,
   "metadata": {},
   "outputs": [
    {
     "name": "stdout",
     "output_type": "stream",
     "text": [
      "hello \\n \\tworld\n"
     ]
    }
   ],
   "source": [
    "print(r\"hello \\n \\tworld\") # 문자열 안에 r 붙여주면 이스케이프 문자 적용 안됨."
   ]
  },
  {
   "cell_type": "markdown",
   "metadata": {},
   "source": [
    "### 연산\n",
    "- concatenation (+)\n",
    "    - '' + '' => 붙이기\n",
    "- 복제 (*)\n",
    "    - '' * 4 => 4번 반복"
   ]
  },
  {
   "cell_type": "code",
   "execution_count": 23,
   "metadata": {},
   "outputs": [
    {
     "data": {
      "text/plain": [
       "'brainbrain'"
      ]
     },
     "execution_count": 23,
     "metadata": {},
     "output_type": "execute_result"
    }
   ],
   "source": [
    "word = \"brain\" # 공백 없이 붙는다.\n",
    "word + word"
   ]
  },
  {
   "cell_type": "code",
   "execution_count": 24,
   "metadata": {},
   "outputs": [
    {
     "data": {
      "text/plain": [
       "'brainbrainbrainbrain'"
      ]
     },
     "execution_count": 24,
     "metadata": {},
     "output_type": "execute_result"
    }
   ],
   "source": [
    "word * 4 # 복제 또한 공백 없이 붙는다."
   ]
  },
  {
   "cell_type": "code",
   "execution_count": 25,
   "metadata": {},
   "outputs": [
    {
     "data": {
      "text/plain": [
       "'My name isJake'"
      ]
     },
     "execution_count": 25,
     "metadata": {},
     "output_type": "execute_result"
    }
   ],
   "source": [
    "\"My name is\" + \"Jake\" # 띄어쓰기 잘 생각해서 사용"
   ]
  },
  {
   "cell_type": "markdown",
   "metadata": {},
   "source": [
    "### Slicing\n",
    "- 지정 범위의 문자열을 추출하는 것\n",
    "- 문법 : 대괄호 + 오프셋 이용 [offset]\n",
    "    - [start : end : step]\n",
    "- offset은 0부터 시작\n",
    "- 0일 경우 생략.\n",
    "    - 예: ~4까지 출력 = >[:5]\n",
    "    - 처음부터 끝까지 2스텝씩 => [::2]\n",
    "    - 처음부터 끝까지 역순으로 => [::-1]\n",
    "- offset은 음수로도 접근 가능하다.\n",
    "    - 0 1 2 ..\n",
    "    - h e l l o\n",
    "    - -5      -1"
   ]
  },
  {
   "cell_type": "code",
   "execution_count": 27,
   "metadata": {},
   "outputs": [
    {
     "data": {
      "text/plain": [
       "('brain', 'r')"
      ]
     },
     "execution_count": 27,
     "metadata": {},
     "output_type": "execute_result"
    }
   ],
   "source": [
    "word, word[1] # 2번째 글자"
   ]
  },
  {
   "cell_type": "code",
   "execution_count": 28,
   "metadata": {},
   "outputs": [
    {
     "data": {
      "text/plain": [
       "'i'"
      ]
     },
     "execution_count": 28,
     "metadata": {},
     "output_type": "execute_result"
    }
   ],
   "source": [
    "word[3 : 4] # strat, end / word[3]만 나옴, end 부분 -> 4번 인덱스 미포함"
   ]
  },
  {
   "cell_type": "code",
   "execution_count": 29,
   "metadata": {},
   "outputs": [
    {
     "data": {
      "text/plain": [
       "'brain'"
      ]
     },
     "execution_count": 29,
     "metadata": {},
     "output_type": "execute_result"
    }
   ],
   "source": [
    "# 처음부터 4까지\n",
    "word[:5] # end는 end 숫자 미포함. 즉 ~4까지"
   ]
  },
  {
   "cell_type": "code",
   "execution_count": 31,
   "metadata": {},
   "outputs": [
    {
     "data": {
      "text/plain": [
       "'brain'"
      ]
     },
     "execution_count": 31,
     "metadata": {},
     "output_type": "execute_result"
    }
   ],
   "source": [
    "word[:] # 처음부터 끝까지"
   ]
  },
  {
   "cell_type": "code",
   "execution_count": 33,
   "metadata": {},
   "outputs": [
    {
     "data": {
      "text/plain": [
       "11"
      ]
     },
     "execution_count": 33,
     "metadata": {},
     "output_type": "execute_result"
    }
   ],
   "source": [
    "sent2 = \"Hello World\"\n",
    "len(sent2) #length 문자열의 길이(공백포함)"
   ]
  },
  {
   "cell_type": "code",
   "execution_count": 34,
   "metadata": {},
   "outputs": [
    {
     "data": {
      "text/plain": [
       "'HloWrd'"
      ]
     },
     "execution_count": 34,
     "metadata": {},
     "output_type": "execute_result"
    }
   ],
   "source": [
    "# 처음부터 끝까지 2스텝씩 출력\n",
    "sent2[::2]"
   ]
  },
  {
   "cell_type": "code",
   "execution_count": 35,
   "metadata": {},
   "outputs": [
    {
     "data": {
      "text/plain": [
       "'dlroW olleH'"
      ]
     },
     "execution_count": 35,
     "metadata": {},
     "output_type": "execute_result"
    }
   ],
   "source": [
    "#처음부터 끝까지 역순으로\n",
    "sent2[::-1]"
   ]
  },
  {
   "cell_type": "code",
   "execution_count": 37,
   "metadata": {},
   "outputs": [
    {
     "ename": "NameError",
     "evalue": "name 'hello' is not defined",
     "output_type": "error",
     "traceback": [
      "\u001b[1;31m---------------------------------------------------------------------------\u001b[0m",
      "\u001b[1;31mNameError\u001b[0m                                 Traceback (most recent call last)",
      "\u001b[1;32m<ipython-input-37-fd3dc8edb690>\u001b[0m in \u001b[0;36m<module>\u001b[1;34m()\u001b[0m\n\u001b[1;32m----> 1\u001b[1;33m \u001b[0mhello\u001b[0m\u001b[1;33m[\u001b[0m\u001b[1;36m2\u001b[0m\u001b[1;33m]\u001b[0m \u001b[1;33m=\u001b[0m \u001b[1;34m'L'\u001b[0m \u001b[1;31m# 불변 타입이라 변경할 수 없다.\u001b[0m\u001b[1;33m\u001b[0m\u001b[0m\n\u001b[0m",
      "\u001b[1;31mNameError\u001b[0m: name 'hello' is not defined"
     ]
    }
   ],
   "source": [
    "hello[2] = 'L' # 불변 타입이라 변경할 수 없다. 오류 발생."
   ]
  },
  {
   "cell_type": "markdown",
   "metadata": {},
   "source": [
    "### NLTK\n",
    "- natural language toolkit\n",
    "- 교육용으로 개발된 자연어처리 패키지\n",
    "- 코퍼스 제공하는데 어떤 처리가 되어있다.\n",
    "    - 토크나이즈, 파싱, 태깅 등.."
   ]
  },
  {
   "cell_type": "code",
   "execution_count": 38,
   "metadata": {},
   "outputs": [
    {
     "name": "stdout",
     "output_type": "stream",
     "text": [
      "Requirement already satisfied: pip in d:\\anaconda3\\lib\\site-packages (22.0.4)\n"
     ]
    }
   ],
   "source": [
    "!python -m pip install --upgrade pip"
   ]
  },
  {
   "cell_type": "code",
   "execution_count": 39,
   "metadata": {},
   "outputs": [
    {
     "name": "stdout",
     "output_type": "stream",
     "text": [
      "Requirement already satisfied: nltk in d:\\anaconda3\\lib\\site-packages (3.3)\n",
      "Requirement already satisfied: six in d:\\anaconda3\\lib\\site-packages (from nltk) (1.11.0)\n"
     ]
    }
   ],
   "source": [
    "!pip install nltk"
   ]
  },
  {
   "cell_type": "code",
   "execution_count": 3,
   "metadata": {},
   "outputs": [
    {
     "data": {
      "text/plain": [
       "True"
      ]
     },
     "execution_count": 3,
     "metadata": {},
     "output_type": "execute_result"
    }
   ],
   "source": [
    "import nltk\n",
    "nltk.download('book', quiet = True) # dot으로 접근"
   ]
  },
  {
   "cell_type": "code",
   "execution_count": 4,
   "metadata": {},
   "outputs": [
    {
     "name": "stdout",
     "output_type": "stream",
     "text": [
      "*** Introductory Examples for the NLTK Book ***\n",
      "Loading text1, ..., text9 and sent1, ..., sent9\n",
      "Type the name of the text or sentence to view it.\n",
      "Type: 'texts()' or 'sents()' to list the materials.\n",
      "text1: Moby Dick by Herman Melville 1851\n",
      "text2: Sense and Sensibility by Jane Austen 1811\n",
      "text3: The Book of Genesis\n",
      "text4: Inaugural Address Corpus\n",
      "text5: Chat Corpus\n",
      "text6: Monty Python and the Holy Grail\n",
      "text7: Wall Street Journal\n",
      "text8: Personals Corpus\n",
      "text9: The Man Who Was Thursday by G . K . Chesterton 1908\n"
     ]
    }
   ],
   "source": [
    "from nltk import book"
   ]
  },
  {
   "cell_type": "code",
   "execution_count": 5,
   "metadata": {},
   "outputs": [],
   "source": [
    "moby = book.text1"
   ]
  },
  {
   "cell_type": "code",
   "execution_count": 6,
   "metadata": {},
   "outputs": [
    {
     "data": {
      "text/plain": [
       "['[',\n",
       " 'Moby',\n",
       " 'Dick',\n",
       " 'by',\n",
       " 'Herman',\n",
       " 'Melville',\n",
       " '1851',\n",
       " ']',\n",
       " 'ETYMOLOGY',\n",
       " '.',\n",
       " '(',\n",
       " 'Supplied',\n",
       " 'by',\n",
       " 'a',\n",
       " 'Late',\n",
       " 'Consumptive',\n",
       " 'Usher',\n",
       " 'to',\n",
       " 'a',\n",
       " 'Grammar']"
      ]
     },
     "execution_count": 6,
     "metadata": {},
     "output_type": "execute_result"
    }
   ],
   "source": [
    "moby.tokens[0:20] # 단어에 접근"
   ]
  },
  {
   "cell_type": "markdown",
   "metadata": {},
   "source": [
    "\"\"\"\n",
    "토큰? 프로그래밍에서 정의하는 단어 \n",
    "    \"I'm a boy.\" i'm, i am, i 'm \n",
    "\"\"\""
   ]
  },
  {
   "cell_type": "code",
   "execution_count": 7,
   "metadata": {},
   "outputs": [
    {
     "data": {
      "text/plain": [
       "260819"
      ]
     },
     "execution_count": 7,
     "metadata": {},
     "output_type": "execute_result"
    }
   ],
   "source": [
    "# 총 길이\n",
    "len(moby.tokens)"
   ]
  },
  {
   "cell_type": "code",
   "execution_count": 8,
   "metadata": {},
   "outputs": [
    {
     "data": {
      "text/plain": [
       "{'(',\n",
       " '.',\n",
       " '1851',\n",
       " 'Consumptive',\n",
       " 'Dick',\n",
       " 'ETYMOLOGY',\n",
       " 'Grammar',\n",
       " 'Herman',\n",
       " 'Late',\n",
       " 'Melville',\n",
       " 'Moby',\n",
       " 'Supplied',\n",
       " 'Usher',\n",
       " '[',\n",
       " ']',\n",
       " 'a',\n",
       " 'by',\n",
       " 'to'}"
      ]
     },
     "execution_count": 8,
     "metadata": {},
     "output_type": "execute_result"
    }
   ],
   "source": [
    "set(moby.tokens[0:20]) # set 형식으로 변환해줌."
   ]
  },
  {
   "cell_type": "markdown",
   "metadata": {},
   "source": [
    "- set\n",
    "    -{a, b, c, ...}\n",
    "    - 중복 불가능\n",
    "    - 수학의 집합과 동일한 개념\n",
    "    - 순서 없음. = > 슬라이싱 불가능\n",
    "- list\n",
    "    - [a, b, c, ...]\n",
    "    - 중복 가능\n",
    "    - 순서 있음."
   ]
  },
  {
   "cell_type": "code",
   "execution_count": 47,
   "metadata": {},
   "outputs": [
    {
     "data": {
      "text/plain": [
       "['kia', 'benz', 'kia']"
      ]
     },
     "execution_count": 47,
     "metadata": {},
     "output_type": "execute_result"
    }
   ],
   "source": [
    "cars = ['kia', 'benz', 'kia']\n",
    "cars"
   ]
  },
  {
   "cell_type": "code",
   "execution_count": 48,
   "metadata": {},
   "outputs": [
    {
     "data": {
      "text/plain": [
       "{'benz', 'kia'}"
      ]
     },
     "execution_count": 48,
     "metadata": {},
     "output_type": "execute_result"
    }
   ],
   "source": [
    "cars = {'kia', 'benz', 'kia'} # set는 {}으로 묶어줌. 중복된 원소는 자동으로 삭제됨.\n",
    "cars"
   ]
  },
  {
   "cell_type": "code",
   "execution_count": 49,
   "metadata": {},
   "outputs": [
    {
     "data": {
      "text/plain": [
       "19317"
      ]
     },
     "execution_count": 49,
     "metadata": {},
     "output_type": "execute_result"
    }
   ],
   "source": [
    "# 중복 없는 단어 수\n",
    "len(set(moby.tokens))"
   ]
  },
  {
   "cell_type": "code",
   "execution_count": 50,
   "metadata": {},
   "outputs": [
    {
     "data": {
      "text/plain": [
       "0.07406285585022564"
      ]
     },
     "execution_count": 50,
     "metadata": {},
     "output_type": "execute_result"
    }
   ],
   "source": [
    "# lexical diversity\n",
    "len(set(moby.tokens)) / len(moby.tokens)"
   ]
  },
  {
   "cell_type": "code",
   "execution_count": 51,
   "metadata": {},
   "outputs": [
    {
     "data": {
      "text/plain": [
       "['kia', 'benz']"
      ]
     },
     "execution_count": 51,
     "metadata": {},
     "output_type": "execute_result"
    }
   ],
   "source": [
    "# 오름차순, 내림차순 정렬\n",
    "sorted(cars, reverse = True)"
   ]
  },
  {
   "cell_type": "code",
   "execution_count": 52,
   "metadata": {},
   "outputs": [
    {
     "data": {
      "text/plain": [
       "['zoology',\n",
       " 'zones',\n",
       " 'zoned',\n",
       " 'zone',\n",
       " 'zodiac',\n",
       " 'zig',\n",
       " 'zephyr',\n",
       " 'zeal',\n",
       " 'zay',\n",
       " 'zag']"
      ]
     },
     "execution_count": 52,
     "metadata": {},
     "output_type": "execute_result"
    }
   ],
   "source": [
    "sorted(set(moby.tokens), reverse = True)[:10]"
   ]
  },
  {
   "cell_type": "markdown",
   "metadata": {},
   "source": [
    "### Quiz 1\n",
    "- text9에서 lexical diversity 계산하기.\n",
    "- text6에서 중복없는 set 내림차순 정렬\n",
    "    - 앞에서 단어 10개 추출\n",
    "    - 조건문 연습 : 'z'가 있으면 대문자로 바꾸기, 'z'가 없는데 4글자 이상이면 끝           글자 대문자로 바꾸기\n",
    "    \n",
    "### Quiz 2\n",
    "- 주민등록번호, 휴대폰 번호, 이메일 입력받는다.\n",
    "    - 주민번호, 휴대폰은 숫자만 입력(- 없다.)\n",
    "    - 이메일은 아이디 부분만 입력(@~ 없다.)\n",
    "    \n",
    "- 출력 :\n",
    "    - \"당신은 {}년 {}월 {}일 출생의 {남성/여성}입니다.\"\n",
    "    - \"휴대폰 번호 : {} # 하이픈으로 연결하기\n",
    "    - 이메일 주소 : {아이디}@gmail.com"
   ]
  },
  {
   "cell_type": "code",
   "execution_count": 53,
   "metadata": {},
   "outputs": [
    {
     "name": "stdout",
     "output_type": "stream",
     "text": [
      "0.0983485761345412\n"
     ]
    }
   ],
   "source": [
    "### Quiz 1-1\n",
    "text = book.text9\n",
    "\n",
    "lex_div = len(set(text.tokens)) / len(text.tokens) \n",
    "              \n",
    "print(lex_div)"
   ]
  },
  {
   "cell_type": "code",
   "execution_count": 54,
   "metadata": {},
   "outputs": [
    {
     "name": "stdout",
     "output_type": "stream",
     "text": [
      "['Zoosh', 'Zoop', 'Zoo', 'Zone', 'Zhiv', 'yourselF', 'yourS', 'youR', 'younG', 'you']\n"
     ]
    }
   ],
   "source": [
    "### Quiz 1-2\n",
    "text = book.text6\n",
    "\n",
    "text_set = set(text.tokens)\n",
    "text_slice = sorted(text_set, reverse = True)[:10] # 내림차순으로 정렬된 set를 0~9까지 10개 추출\n",
    "\n",
    "for i in range(len(text_slice)):\n",
    "    if ('z' not in text_slice[i]) and (len(text_slice[i]) >= 4) : # text_slice[i]에 해당하는 단어에 'z'가 존재하고, 그 단어의 길이가 4 이상일 때\n",
    "        text_slice[i] = text_slice[i][:len(text_slice[i]) - 1] + text_slice[i][len(text_slice[i]) - 1].upper() # 해당 단어의 (0번 인덱스 ~ 마지막-1 인덱스) + 마지막 인덱스를 대문자로 변환한 것을 다시 text_slice[i]에 대입\n",
    "        \n",
    "        \n",
    "    for j in range(len(text_slice[i])): \n",
    "        if text_slice[i][j] == 'z':    # text_slice[i]에 해당하는 단어에 'z'가 존재할 때\n",
    "            text_slice[i] = text_slice[i][:j] + \"Z\" + text_slice[i][j + 1:]\n",
    "            # (0번 인덱스 ~ 'z'가 있는 직전의 인덱스) + 대문자 'Z' + ('z'가 있던 직후의 인덱스 ~ 마지막 인덱스)\n",
    "        \n",
    "print(text_slice)"
   ]
  },
  {
   "cell_type": "code",
   "execution_count": 55,
   "metadata": {},
   "outputs": [
    {
     "name": "stdout",
     "output_type": "stream",
     "text": [
      "주민등록번호 입력 : 9805121185814\n",
      "핸드폰 번호 입력 : 01092879750\n",
      "이메일(아이디) 입력 : rbals980\n",
      "\n",
      "당신은 98년 05월 12일 출생의 남성입니다.\n",
      "휴대폰 번호 : 010 - 9287 - 9750\n",
      "이메일 주소 : rbals980@gmail.com\n"
     ]
    }
   ],
   "source": [
    "rrNumber = input(\"주민등록번호 입력 : \")\n",
    "pNumber = input(\"핸드폰 번호 입력 : \")\n",
    "eMail = input(\"이메일(아이디) 입력 : \")\n",
    "\n",
    "year = rrNumber[0:2]\n",
    "month = rrNumber[2:4]\n",
    "day = rrNumber[4:6]\n",
    "sex = None\n",
    "\n",
    "if rrNumber[6] == '1':\n",
    "    sex = \"남성\"\n",
    "else : \n",
    "    sex = \"여성\"\n",
    "    \n",
    "print()\n",
    "\n",
    "print(f\"당신은 {year}년 {month}월 {day}일 출생의 {sex}입니다.\")\n",
    "print(f\"휴대폰 번호 : {pNumber[0:3]} - {pNumber[3:7]} - {pNumber[7:]}\")\n",
    "print(f\"이메일 주소 : {eMail}@gmail.com\")"
   ]
  },
  {
   "cell_type": "markdown",
   "metadata": {},
   "source": []
  }
 ],
 "metadata": {
  "kernelspec": {
   "display_name": "Python 3",
   "language": "python",
   "name": "python3"
  },
  "language_info": {
   "codemirror_mode": {
    "name": "ipython",
    "version": 3
   },
   "file_extension": ".py",
   "mimetype": "text/x-python",
   "name": "python",
   "nbconvert_exporter": "python",
   "pygments_lexer": "ipython3",
   "version": "3.7.0"
  }
 },
 "nbformat": 4,
 "nbformat_minor": 2
}
