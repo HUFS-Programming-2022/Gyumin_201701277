{
 "cells": [
  {
   "cell_type": "markdown",
   "metadata": {},
   "source": [
    "# Week_05"
   ]
  },
  {
   "cell_type": "code",
   "execution_count": 32,
   "metadata": {},
   "outputs": [
    {
     "name": "stdout",
     "output_type": "stream",
     "text": [
      "*** Introductory Examples for the NLTK Book ***\n",
      "Loading text1, ..., text9 and sent1, ..., sent9\n",
      "Type the name of the text or sentence to view it.\n",
      "Type: 'texts()' or 'sents()' to list the materials.\n",
      "text1: Moby Dick by Herman Melville 1851\n",
      "text2: Sense and Sensibility by Jane Austen 1811\n",
      "text3: The Book of Genesis\n",
      "text4: Inaugural Address Corpus\n",
      "text5: Chat Corpus\n",
      "text6: Monty Python and the Holy Grail\n",
      "text7: Wall Street Journal\n",
      "text8: Personals Corpus\n",
      "text9: The Man Who Was Thursday by G . K . Chesterton 1908\n"
     ]
    },
    {
     "data": {
      "text/plain": [
       "True"
      ]
     },
     "execution_count": 32,
     "metadata": {},
     "output_type": "execute_result"
    }
   ],
   "source": [
    "import nltk\n",
    "from nltk.book import*\n",
    "nltk.download('book', quiet = True)"
   ]
  },
  {
   "cell_type": "markdown",
   "metadata": {},
   "source": [
    "## 반복문\n",
    "- for, while\n",
    "\n",
    "### while\n",
    "- 어떤 조건을 만족할 때까지 블록 수행\n",
    "- 해당 조건이 거짓이면 수행을 멈춘다.\n",
    "    - 언제 빠져나오는지 정확이 알아야 한다.\n",
    "- for + if\n",
    "\n",
    "### for vs while\n",
    "- for loop : 반복 횟수 정확히 알고, 반복 횟수 변하지 않을 때\n",
    "    - 예 : 전체 학생 성적 산출\n",
    "- while loop : 반복 횟수 정확하지 않고, 어떤 조건을 만족시키면 프로그램을 종료하고 싶을 때\n",
    "    - 예 : 가위바위보 이기면 종료"
   ]
  },
  {
   "cell_type": "code",
   "execution_count": 5,
   "metadata": {},
   "outputs": [
    {
     "name": "stdout",
     "output_type": "stream",
     "text": [
      "0\n",
      "1\n",
      "2\n",
      "3\n",
      "4\n",
      "5\n",
      "6\n",
      "7\n",
      "8\n",
      "9\n"
     ]
    }
   ],
   "source": [
    "for i in range(10) :\n",
    "    print(i)"
   ]
  },
  {
   "cell_type": "code",
   "execution_count": 33,
   "metadata": {},
   "outputs": [
    {
     "data": {
      "text/plain": [
       "['[',\n",
       " 'Moby',\n",
       " 'Dick',\n",
       " 'by',\n",
       " 'Herman',\n",
       " 'Melville',\n",
       " '1851',\n",
       " ']',\n",
       " 'ETYMOLOGY',\n",
       " '.',\n",
       " '(',\n",
       " 'Supplied',\n",
       " 'by',\n",
       " 'a',\n",
       " 'Late',\n",
       " 'Consumptive',\n",
       " 'Usher',\n",
       " 'to',\n",
       " 'a',\n",
       " 'Grammar']"
      ]
     },
     "execution_count": 33,
     "metadata": {},
     "output_type": "execute_result"
    }
   ],
   "source": [
    "[word for word in text1.tokens][:20]"
   ]
  },
  {
   "cell_type": "code",
   "execution_count": 34,
   "metadata": {},
   "outputs": [
    {
     "name": "stdout",
     "output_type": "stream",
     "text": [
      "[\n",
      "Moby\n",
      "Dick\n",
      "by\n",
      "Herman\n",
      "Melville\n",
      "1851\n",
      "]\n",
      "ETYMOLOGY\n",
      ".\n",
      "(\n",
      "Supplied\n",
      "by\n",
      "a\n",
      "Late\n",
      "Consumptive\n",
      "Usher\n",
      "to\n",
      "a\n",
      "Grammar\n"
     ]
    }
   ],
   "source": [
    "for word in text1.tokens[:20]:\n",
    "    print(word)"
   ]
  },
  {
   "cell_type": "code",
   "execution_count": 10,
   "metadata": {},
   "outputs": [
    {
     "name": "stdout",
     "output_type": "stream",
     "text": [
      "0\n",
      "1\n",
      "2\n",
      "3\n",
      "4\n",
      "5\n",
      "6\n",
      "7\n",
      "8\n",
      "9\n"
     ]
    }
   ],
   "source": [
    "j = 0;\n",
    "while j < 10: # 0 1 2 3 4 5 6 7 8 9\n",
    "    print(j) # 0 1 2 3 4 5 6 7 8 9\n",
    "    j += 1 # j 값은? -> 1 2 3 4 5 6 7 8 9 10"
   ]
  },
  {
   "cell_type": "code",
   "execution_count": 11,
   "metadata": {},
   "outputs": [
    {
     "name": "stdout",
     "output_type": "stream",
     "text": [
      "a\n",
      "b\n",
      "c\n"
     ]
    }
   ],
   "source": [
    "characters = ['a', 'b', 'c']\n",
    "for ch in characters:\n",
    "    print(ch)"
   ]
  },
  {
   "cell_type": "code",
   "execution_count": 20,
   "metadata": {},
   "outputs": [
    {
     "name": "stdout",
     "output_type": "stream",
     "text": [
      "a\n",
      "b\n",
      "c\n"
     ]
    }
   ],
   "source": [
    "ch = 0;\n",
    "while ch < len(characters):\n",
    "    print(characters[ch])\n",
    "    ch += 1;"
   ]
  },
  {
   "cell_type": "markdown",
   "metadata": {},
   "source": [
    "### 반복문의 제어\n",
    "- 의도치 않게 코드를 종료시킬 수 있기 때문에 되도록 사용하지 않는다.\n",
    "\n",
    "- break : 논리적으로 반복을 종료시키는 방법, break 시점을 잘 알아야함.\n",
    "- else : 어떤 조건이 완전히 끝났을 때 한번 더 실행하는 블록, break로 끝난 것과 구분할 수 있다.\n",
    "- continue : 특정 조건 건너뛰고 다음 조건 수행"
   ]
  },
  {
   "cell_type": "code",
   "execution_count": 25,
   "metadata": {},
   "outputs": [
    {
     "name": "stdout",
     "output_type": "stream",
     "text": [
      "0\n",
      "1\n",
      "2\n",
      "3\n",
      "4\n",
      "5\n",
      "7\n",
      "8\n",
      "9\n",
      "ended\n"
     ]
    }
   ],
   "source": [
    "for i in range(10) :\n",
    "    if i == 6 : \n",
    "        continue\n",
    "    print(i)\n",
    "else : \n",
    "    print(\"ended\")"
   ]
  },
  {
   "cell_type": "code",
   "execution_count": 3,
   "metadata": {},
   "outputs": [
    {
     "name": "stdout",
     "output_type": "stream",
     "text": [
      "0\n",
      "1\n",
      "2\n",
      "3\n",
      "4\n",
      "4\n"
     ]
    }
   ],
   "source": [
    "j = 0;\n",
    "while j < 5: # 0 1 2 3 4 \n",
    "    print(j) # 0 1 2 3 4\n",
    "    if  j == 4 : break\n",
    "    j += 1 # j 값은? -> 1 2 3 4\n",
    "\n",
    "print(j)"
   ]
  },
  {
   "cell_type": "markdown",
   "metadata": {},
   "source": [
    "### 구구단\n",
    "- 1. for, while 선택한 뒤, n단을 입력 받아서 n단 출력\n",
    "    - 출력 : == 3단 ==\n",
    "        3 x 1 = 3\n",
    "        3 x 2 = 6\n",
    "        ...\n",
    "        3 x 9 = 27\n",
    "        \n",
    "- 2. 1단부터 n단까지 출력하는 코드\n",
    "- 3. 시작단, 끝단 둘 다 입력받을 것\n",
    "    - 예 : 4 - 7단\n",
    "- 4. 프로그램으로 만든다.\n",
    "     1) n단 2) 1-n단 3) n-m단"
   ]
  },
  {
   "cell_type": "code",
   "execution_count": 4,
   "metadata": {},
   "outputs": [
    {
     "name": "stdout",
     "output_type": "stream",
     "text": [
      "몇 단을 출력할까요? : 3\n",
      "===3단===\n",
      "3 x 1 = 3\n",
      "3 x 2 = 6\n",
      "3 x 3 = 9\n",
      "3 x 4 = 12\n",
      "3 x 5 = 15\n",
      "3 x 6 = 18\n",
      "3 x 7 = 21\n",
      "3 x 8 = 24\n",
      "3 x 9 = 27\n"
     ]
    }
   ],
   "source": [
    "# 1. n단\n",
    "n = int(input('몇 단을 출력할까요? : '))\n",
    "print(f\"==={n}단===\")\n",
    "for i in range(1,10) : \n",
    "    print(f'{n} x {i} = {n*i}')"
   ]
  },
  {
   "cell_type": "code",
   "execution_count": 5,
   "metadata": {},
   "outputs": [
    {
     "name": "stdout",
     "output_type": "stream",
     "text": [
      "1단부터 몇 단까지 출력할까요? : 3\n",
      "===1단===\n",
      "1 x 1 = 1\n",
      "1 x 2 = 2\n",
      "1 x 3 = 3\n",
      "1 x 4 = 4\n",
      "1 x 5 = 5\n",
      "1 x 6 = 6\n",
      "1 x 7 = 7\n",
      "1 x 8 = 8\n",
      "1 x 9 = 9\n",
      "\n",
      "\n",
      "===2단===\n",
      "2 x 1 = 2\n",
      "2 x 2 = 4\n",
      "2 x 3 = 6\n",
      "2 x 4 = 8\n",
      "2 x 5 = 10\n",
      "2 x 6 = 12\n",
      "2 x 7 = 14\n",
      "2 x 8 = 16\n",
      "2 x 9 = 18\n",
      "\n",
      "\n",
      "===3단===\n",
      "3 x 1 = 3\n",
      "3 x 2 = 6\n",
      "3 x 3 = 9\n",
      "3 x 4 = 12\n",
      "3 x 5 = 15\n",
      "3 x 6 = 18\n",
      "3 x 7 = 21\n",
      "3 x 8 = 24\n",
      "3 x 9 = 27\n",
      "\n",
      "\n"
     ]
    }
   ],
   "source": [
    "# 2. 1 - n단\n",
    "n = int(input(\"1단부터 몇 단까지 출력할까요? : \"))\n",
    "\n",
    "for i in range(1, n + 1) :\n",
    "    print(f\"==={i}단===\")\n",
    "    for j in range(1, 10) :\n",
    "        print(f'{i} x {j} = {j*i}')\n",
    "    print(\"\\n\")"
   ]
  },
  {
   "cell_type": "code",
   "execution_count": 6,
   "metadata": {},
   "outputs": [
    {
     "name": "stdout",
     "output_type": "stream",
     "text": [
      "몇 단부터 시작할까요? : 1\n",
      "몇 단까지 출력할까요? : 3\n",
      "===1단===\n",
      "1 x 1 = 1\n",
      "1 x 2 = 2\n",
      "1 x 3 = 3\n",
      "1 x 4 = 4\n",
      "1 x 5 = 5\n",
      "1 x 6 = 6\n",
      "1 x 7 = 7\n",
      "1 x 8 = 8\n",
      "1 x 9 = 9\n",
      "\n",
      "\n",
      "===2단===\n",
      "2 x 1 = 2\n",
      "2 x 2 = 4\n",
      "2 x 3 = 6\n",
      "2 x 4 = 8\n",
      "2 x 5 = 10\n",
      "2 x 6 = 12\n",
      "2 x 7 = 14\n",
      "2 x 8 = 16\n",
      "2 x 9 = 18\n",
      "\n",
      "\n",
      "===3단===\n",
      "3 x 1 = 3\n",
      "3 x 2 = 6\n",
      "3 x 3 = 9\n",
      "3 x 4 = 12\n",
      "3 x 5 = 15\n",
      "3 x 6 = 18\n",
      "3 x 7 = 21\n",
      "3 x 8 = 24\n",
      "3 x 9 = 27\n",
      "\n",
      "\n"
     ]
    }
   ],
   "source": [
    "# 3. n - m단\n",
    "start = int(input(\"몇 단부터 시작할까요? : \"))\n",
    "last = int(input(\"몇 단까지 출력할까요? : \"))\n",
    "\n",
    "for i in range(start, last + 1) :\n",
    "    print(f\"==={i}단===\")\n",
    "    for j in range(1, 10) :\n",
    "        print(f\"{i} x {j} = {j*i}\")\n",
    "    print(\"\\n\")\n"
   ]
  },
  {
   "cell_type": "code",
   "execution_count": 7,
   "metadata": {},
   "outputs": [
    {
     "name": "stdout",
     "output_type": "stream",
     "text": [
      "(1)n단 (2)1-n단 (3)n-m단 (1, 2, 3 외 숫자 입력시 종료) : 3\n",
      "몇 단부터 시작할까요? : 1\n",
      "몇 단까지 출력할까요? : 3\n",
      "===1단===\n",
      "1 x 1 = 1\n",
      "1 x 2 = 2\n",
      "1 x 3 = 3\n",
      "1 x 4 = 4\n",
      "1 x 5 = 5\n",
      "1 x 6 = 6\n",
      "1 x 7 = 7\n",
      "1 x 8 = 8\n",
      "1 x 9 = 9\n",
      "\n",
      "\n",
      "===2단===\n",
      "2 x 1 = 2\n",
      "2 x 2 = 4\n",
      "2 x 3 = 6\n",
      "2 x 4 = 8\n",
      "2 x 5 = 10\n",
      "2 x 6 = 12\n",
      "2 x 7 = 14\n",
      "2 x 8 = 16\n",
      "2 x 9 = 18\n",
      "\n",
      "\n",
      "===3단===\n",
      "3 x 1 = 3\n",
      "3 x 2 = 6\n",
      "3 x 3 = 9\n",
      "3 x 4 = 12\n",
      "3 x 5 = 15\n",
      "3 x 6 = 18\n",
      "3 x 7 = 21\n",
      "3 x 8 = 24\n",
      "3 x 9 = 27\n",
      "\n",
      "\n",
      "(1)n단 (2)1-n단 (3)n-m단 (1, 2, 3 외 숫자 입력시 종료) : 4\n",
      "프로그램을 종료합니다.\n"
     ]
    }
   ],
   "source": [
    "# 4. 프로그램 작성\n",
    "answer = 0;\n",
    "\n",
    "while(True) :\n",
    "    answer = int(input(\"(1)n단 (2)1-n단 (3)n-m단 (1, 2, 3 외 숫자 입력시 종료) : \"))\n",
    "    \n",
    "    if answer == 1 :\n",
    "        n = int(input('몇 단을 출력할까요? : '))\n",
    "        print(f\"==={n}단===\")\n",
    "        for i in range(1,10) : \n",
    "            print(f'{n} x {i} = {n*i}')\n",
    "        \n",
    "    elif answer == 2 :\n",
    "        n = int(input(\"1단부터 몇 단까지 출력할까요? : \"))\n",
    "        for i in range(1, n + 1) :\n",
    "            print(f\"==={i}단===\")\n",
    "            for j in range(1, 10) :\n",
    "                print(f'{i} x {j} = {j*i}')\n",
    "            print(\"\\n\")\n",
    "            \n",
    "    elif answer == 3 :\n",
    "        start = int(input(\"몇 단부터 시작할까요? : \"))\n",
    "        last = int(input(\"몇 단까지 출력할까요? : \"))\n",
    "\n",
    "        for i in range(start, last + 1) :\n",
    "            print(f\"==={i}단===\")\n",
    "            for j in range(1, 10) :\n",
    "                print(f\"{i} x {j} = {j*i}\")\n",
    "            print(\"\\n\")\n",
    "    else :\n",
    "        print(\"프로그램을 종료합니다.\")\n",
    "        break\n"
   ]
  },
  {
   "cell_type": "markdown",
   "metadata": {},
   "source": [
    "### print formatting\n",
    "- 1. f string\n",
    "    - f, F 둘 다 사용 가능\n",
    "    - f'{var}'\n",
    "    \n",
    "- 2. format\n",
    "    - '{}'.format(var)\n",
    "    \n",
    "- 3. %\n",
    "    - '%type' %var"
   ]
  },
  {
   "cell_type": "code",
   "execution_count": 8,
   "metadata": {},
   "outputs": [
    {
     "name": "stdout",
     "output_type": "stream",
     "text": [
      "너의 이름은 lee!!!\n"
     ]
    }
   ],
   "source": [
    "name = 'lee'\n",
    "print(f'너의 이름은 {name}!!!')"
   ]
  },
  {
   "cell_type": "code",
   "execution_count": 9,
   "metadata": {},
   "outputs": [
    {
     "name": "stdout",
     "output_type": "stream",
     "text": [
      "너의 이름은 lee park!!!\n"
     ]
    }
   ],
   "source": [
    "name2 = 'park'\n",
    "print('너의 이름은 {} {}!!!'.format(name,name2))"
   ]
  },
  {
   "cell_type": "code",
   "execution_count": 10,
   "metadata": {},
   "outputs": [
    {
     "name": "stdout",
     "output_type": "stream",
     "text": [
      "너의 이름은 lee park!!!\n"
     ]
    }
   ],
   "source": [
    "print('너의 이름은 %s %s!!!' %(name, name2))"
   ]
  },
  {
   "cell_type": "markdown",
   "metadata": {},
   "source": [
    "# NLTK : Corpus\n",
    "- 다양한 종류의 코퍼스가 있다.\n",
    "- 더 다양한 언어 분석 가능\n",
    "\n",
    "- 종류\n",
    "    - gutenberg\n",
    "    - brown\n",
    "    - inaugural\n",
    "- 함수\n",
    "    - raw() : 글자\n",
    "    - words() : 단어\n",
    "    - sents() : 문장\n",
    "    - fileids() : 파일 아이디"
   ]
  },
  {
   "cell_type": "markdown",
   "metadata": {},
   "source": [
    "## gutenberg"
   ]
  },
  {
   "cell_type": "code",
   "execution_count": 13,
   "metadata": {},
   "outputs": [
    {
     "data": {
      "text/plain": [
       "True"
      ]
     },
     "execution_count": 13,
     "metadata": {},
     "output_type": "execute_result"
    }
   ],
   "source": [
    "import nltk\n",
    "from nltk.corpus import gutenberg\n",
    "nltk.download('gutenberg', quiet = True)"
   ]
  },
  {
   "cell_type": "code",
   "execution_count": 14,
   "metadata": {},
   "outputs": [
    {
     "data": {
      "text/plain": [
       "<PlaintextCorpusReader in 'C:\\\\Users\\\\user\\\\AppData\\\\Roaming\\\\nltk_data\\\\corpora\\\\gutenberg'>"
      ]
     },
     "execution_count": 14,
     "metadata": {},
     "output_type": "execute_result"
    }
   ],
   "source": [
    "gutenberg"
   ]
  },
  {
   "cell_type": "code",
   "execution_count": 15,
   "metadata": {},
   "outputs": [
    {
     "data": {
      "text/plain": [
       "['[', 'Emma', 'by', 'Jane', 'Austen', '1816', ']', ...]"
      ]
     },
     "execution_count": 15,
     "metadata": {},
     "output_type": "execute_result"
    }
   ],
   "source": [
    "gutenberg.words()"
   ]
  },
  {
   "cell_type": "code",
   "execution_count": 16,
   "metadata": {},
   "outputs": [
    {
     "data": {
      "text/plain": [
       "['austen-emma.txt',\n",
       " 'austen-persuasion.txt',\n",
       " 'austen-sense.txt',\n",
       " 'bible-kjv.txt',\n",
       " 'blake-poems.txt',\n",
       " 'bryant-stories.txt',\n",
       " 'burgess-busterbrown.txt',\n",
       " 'carroll-alice.txt',\n",
       " 'chesterton-ball.txt',\n",
       " 'chesterton-brown.txt',\n",
       " 'chesterton-thursday.txt',\n",
       " 'edgeworth-parents.txt',\n",
       " 'melville-moby_dick.txt',\n",
       " 'milton-paradise.txt',\n",
       " 'shakespeare-caesar.txt',\n",
       " 'shakespeare-hamlet.txt',\n",
       " 'shakespeare-macbeth.txt',\n",
       " 'whitman-leaves.txt']"
      ]
     },
     "execution_count": 16,
     "metadata": {},
     "output_type": "execute_result"
    }
   ],
   "source": [
    "gutenberg.fileids()"
   ]
  },
  {
   "cell_type": "code",
   "execution_count": 19,
   "metadata": {},
   "outputs": [
    {
     "name": "stdout",
     "output_type": "stream",
     "text": [
      "austen-emma | 글자 수 = 887071개, 단어 수 = 192427개, 문장 수 = 7752개 \n",
      "austen-persuasion | 글자 수 = 466292개, 단어 수 = 98171개, 문장 수 = 3747개 \n",
      "austen-sense | 글자 수 = 673022개, 단어 수 = 141576개, 문장 수 = 4999개 \n",
      "bible-kjv | 글자 수 = 4332554개, 단어 수 = 1010654개, 문장 수 = 30103개 \n",
      "blake-poems | 글자 수 = 38153개, 단어 수 = 8354개, 문장 수 = 438개 \n",
      "bryant-stories | 글자 수 = 249439개, 단어 수 = 55563개, 문장 수 = 2863개 \n",
      "burgess-busterbrown | 글자 수 = 84663개, 단어 수 = 18963개, 문장 수 = 1054개 \n",
      "carroll-alice | 글자 수 = 144395개, 단어 수 = 34110개, 문장 수 = 1703개 \n",
      "chesterton-ball | 글자 수 = 457450개, 단어 수 = 96996개, 문장 수 = 4779개 \n",
      "chesterton-brown | 글자 수 = 406629개, 단어 수 = 86063개, 문장 수 = 3806개 \n",
      "chesterton-thursday | 글자 수 = 320525개, 단어 수 = 69213개, 문장 수 = 3742개 \n",
      "edgeworth-parents | 글자 수 = 935158개, 단어 수 = 210663개, 문장 수 = 10230개 \n",
      "melville-moby_dick | 글자 수 = 1242990개, 단어 수 = 260819개, 문장 수 = 10059개 \n",
      "milton-paradise | 글자 수 = 468220개, 단어 수 = 96825개, 문장 수 = 1851개 \n",
      "shakespeare-caesar | 글자 수 = 112310개, 단어 수 = 25833개, 문장 수 = 2163개 \n",
      "shakespeare-hamlet | 글자 수 = 162881개, 단어 수 = 37360개, 문장 수 = 3106개 \n",
      "shakespeare-macbeth | 글자 수 = 100351개, 단어 수 = 23140개, 문장 수 = 1907개 \n",
      "whitman-leaves | 글자 수 = 711215개, 단어 수 = 154883개, 문장 수 = 4250개 \n"
     ]
    }
   ],
   "source": [
    "# 구텐버그의 각 파일을 돌아가면서 글자수, 단어 수, 문장 수를 출력\n",
    "\"\"\"\n",
    "austen-emma | 글자 수 = 12개, 단어 수 = 14개, 문장 수 = 15개\n",
    "\"\"\"\n",
    "\n",
    "for file in gutenberg.fileids():\n",
    "    text = len(gutenberg.raw(file))\n",
    "    token = len(gutenberg.words(file))\n",
    "    sent = len(gutenberg.sents(file))\n",
    "    file = file[0:-4]\n",
    "    print(f'{file} | 글자 수 = {text}개, 단어 수 = {token}개, 문장 수 = {sent}개 ')"
   ]
  },
  {
   "cell_type": "code",
   "execution_count": 20,
   "metadata": {},
   "outputs": [],
   "source": [
    "corpus1 = gutenberg.words(fileids = 'whitman-leaves.txt')\n",
    "fdist = nltk.FreqDist([w for w in corpus1])\n",
    "fdist2 = nltk.FreqDist(corpus1) # 위와 같은 것. corpus1는 이미 리스트로 되어있기 때문에 굳이 list comprehension 안 써도 되는 듯?"
   ]
  },
  {
   "cell_type": "code",
   "execution_count": 21,
   "metadata": {},
   "outputs": [
    {
     "data": {
      "text/plain": [
       "27"
      ]
     },
     "execution_count": 21,
     "metadata": {},
     "output_type": "execute_result"
    }
   ],
   "source": [
    "fdist['tree']"
   ]
  },
  {
   "cell_type": "code",
   "execution_count": 22,
   "metadata": {},
   "outputs": [
    {
     "data": {
      "text/plain": [
       "27"
      ]
     },
     "execution_count": 22,
     "metadata": {},
     "output_type": "execute_result"
    }
   ],
   "source": [
    "fdist2['tree']"
   ]
  },
  {
   "cell_type": "markdown",
   "metadata": {},
   "source": [
    "## Brown\n",
    "- categories()"
   ]
  },
  {
   "cell_type": "code",
   "execution_count": 24,
   "metadata": {},
   "outputs": [
    {
     "name": "stdout",
     "output_type": "stream",
     "text": [
      "[nltk_data] Downloading package brown to\n",
      "[nltk_data]     C:\\Users\\user\\AppData\\Roaming\\nltk_data...\n",
      "[nltk_data]   Package brown is already up-to-date!\n"
     ]
    }
   ],
   "source": [
    "# from nltk.corpus import brown\n",
    "nltk.download('brown')\n",
    "brown_corpus = nltk.corpus.brown"
   ]
  },
  {
   "cell_type": "code",
   "execution_count": 25,
   "metadata": {},
   "outputs": [
    {
     "data": {
      "text/plain": [
       "['adventure',\n",
       " 'belles_lettres',\n",
       " 'editorial',\n",
       " 'fiction',\n",
       " 'government',\n",
       " 'hobbies',\n",
       " 'humor',\n",
       " 'learned',\n",
       " 'lore',\n",
       " 'mystery',\n",
       " 'news',\n",
       " 'religion',\n",
       " 'reviews',\n",
       " 'romance',\n",
       " 'science_fiction']"
      ]
     },
     "execution_count": 25,
     "metadata": {},
     "output_type": "execute_result"
    }
   ],
   "source": [
    "brown_corpus.categories()"
   ]
  },
  {
   "cell_type": "code",
   "execution_count": 26,
   "metadata": {},
   "outputs": [
    {
     "data": {
      "text/plain": [
       "['It', 'was', 'among', 'these', 'that', 'Hinkle', ...]"
      ]
     },
     "execution_count": 26,
     "metadata": {},
     "output_type": "execute_result"
    }
   ],
   "source": [
    "brown_corpus.words(categories = \"humor\")"
   ]
  },
  {
   "cell_type": "code",
   "execution_count": 27,
   "metadata": {},
   "outputs": [],
   "source": [
    "humor = brown_corpus.words(categories = \"humor\")"
   ]
  },
  {
   "cell_type": "code",
   "execution_count": 28,
   "metadata": {},
   "outputs": [
    {
     "name": "stdout",
     "output_type": "stream",
     "text": [
      "can 17\n",
      "could 33\n",
      "may 8\n",
      "might 8\n",
      "will 13\n",
      "would 56\n"
     ]
    }
   ],
   "source": [
    "# modal verbs의 쓰임\n",
    "modals = ['can', 'could', 'may', 'might', 'will', 'would']\n",
    "fdist_brown = nltk.FreqDist([w.lower() for w in humor])\n",
    "\n",
    "for verb in modals :\n",
    "    print(verb, fdist_brown[verb])"
   ]
  },
  {
   "cell_type": "markdown",
   "metadata": {},
   "source": [
    "## conditional frequency distrubution (cfd)\n",
    "- 조건이 붙은 fdist"
   ]
  },
  {
   "cell_type": "code",
   "execution_count": 29,
   "metadata": {},
   "outputs": [],
   "source": [
    "brown_corpus = nltk.corpus.brown\n",
    "\n",
    "cfd = nltk.ConditionalFreqDist(\n",
    "    # genre에 따른 fdist\n",
    "    (genre, word.lower())\n",
    "    for genre in brown_corpus.categories()\n",
    "    for word in brown_corpus.words(categories = genre)\n",
    ")"
   ]
  },
  {
   "cell_type": "code",
   "execution_count": 30,
   "metadata": {},
   "outputs": [
    {
     "data": {
      "text/plain": [
       "[('.', 4057),\n",
       " ('the', 3780),\n",
       " (',', 3488),\n",
       " ('and', 1706),\n",
       " ('a', 1432),\n",
       " ('of', 1327),\n",
       " ('to', 1322),\n",
       " ('he', 1283),\n",
       " ('``', 998),\n",
       " (\"''\", 995)]"
      ]
     },
     "execution_count": 30,
     "metadata": {},
     "output_type": "execute_result"
    }
   ],
   "source": [
    "cfd['adventure'].most_common(10)"
   ]
  },
  {
   "cell_type": "code",
   "execution_count": 31,
   "metadata": {},
   "outputs": [
    {
     "name": "stdout",
     "output_type": "stream",
     "text": [
      "                 can could   may might  will would \n",
      "     adventure    48   154     7    59    51   194 \n",
      "belles_lettres   249   216   221   113   246   397 \n",
      "     editorial   124    57    79    39   235   185 \n"
     ]
    }
   ],
   "source": [
    "cfd.tabulate(conditions = brown_corpus.categories()[:3], samples = modals)"
   ]
  }
 ],
 "metadata": {
  "kernelspec": {
   "display_name": "Python 3",
   "language": "python",
   "name": "python3"
  },
  "language_info": {
   "codemirror_mode": {
    "name": "ipython",
    "version": 3
   },
   "file_extension": ".py",
   "mimetype": "text/x-python",
   "name": "python",
   "nbconvert_exporter": "python",
   "pygments_lexer": "ipython3",
   "version": "3.7.0"
  },
  "toc": {
   "base_numbering": 1,
   "nav_menu": {},
   "number_sections": true,
   "sideBar": true,
   "skip_h1_title": false,
   "title_cell": "Table of Contents",
   "title_sidebar": "Contents",
   "toc_cell": false,
   "toc_position": {},
   "toc_section_display": true,
   "toc_window_display": false
  }
 },
 "nbformat": 4,
 "nbformat_minor": 2
}
