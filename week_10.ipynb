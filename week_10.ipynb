{
 "cells": [
  {
   "cell_type": "code",
   "execution_count": 1,
   "metadata": {},
   "outputs": [],
   "source": [
    "from collections import defaultdict"
   ]
  },
  {
   "cell_type": "markdown",
   "metadata": {},
   "source": [
    "### defaultdict\n",
    "- 값이 없으면 0으로 설정될 수 있게 해주는 딕셔너리\n",
    "- defaultdict(list) # []"
   ]
  },
  {
   "cell_type": "code",
   "execution_count": 2,
   "metadata": {},
   "outputs": [],
   "source": [
    "letter = 'defaultdict'\n",
    "empty = {} # a : [a, a]\n",
    "for ch in letter :\n",
    "    # if empty[ch] = 0\n",
    "    # else 값을 넣어라\n",
    "    empty.setdefault(ch, 0) # a가 없으면 기본값으로 0을 넣어라.\n",
    "    empty[ch] += 1"
   ]
  },
  {
   "cell_type": "code",
   "execution_count": 3,
   "metadata": {},
   "outputs": [
    {
     "data": {
      "text/plain": [
       "{'d': 2, 'e': 1, 'f': 1, 'a': 1, 'u': 1, 'l': 1, 't': 2, 'i': 1, 'c': 1}"
      ]
     },
     "execution_count": 3,
     "metadata": {},
     "output_type": "execute_result"
    }
   ],
   "source": [
    "empty"
   ]
  },
  {
   "cell_type": "code",
   "execution_count": 4,
   "metadata": {},
   "outputs": [
    {
     "data": {
      "text/plain": [
       "defaultdict(int,\n",
       "            {'d': 2,\n",
       "             'e': 1,\n",
       "             'f': 1,\n",
       "             'a': 1,\n",
       "             'u': 1,\n",
       "             'l': 1,\n",
       "             't': 2,\n",
       "             'i': 1,\n",
       "             'c': 1})"
      ]
     },
     "execution_count": 4,
     "metadata": {},
     "output_type": "execute_result"
    }
   ],
   "source": [
    "empty2 = defaultdict(int)\n",
    "for ch in letter :\n",
    "    empty2[ch] += 1\n",
    "    \n",
    "empty2"
   ]
  },
  {
   "cell_type": "markdown",
   "metadata": {},
   "source": [
    "## Object & Class\n",
    "- 객체? 실제적인 물건, 개념\n",
    "- 속성, 행동을 가지는 개념\n",
    "- 자동차\n",
    "    - 속성 : 엔진, 브랜드, 가격, 색상, 이름, ... => 변수\n",
    "    - 행동 : 나가다, 정지하다, 좌회전, 우회전, ... => 메소드(함수)\n",
    "- 고양이\n",
    "    - 속성 : 종, 이름, 색상, 몸무게, 성별, ...\n",
    "    - 행동 : 짖다, 뛰다, 걷다, 째려보다, ...\n",
    "- 사전\n",
    "    - 속성 : 글자 수, 시작 글자, 출현 빈도수, ...\n",
    "    - 행동 : 추가하다, 제외하다, ...\n",
    "- 관련짓는 방법\n",
    "    - 사람             상점                        물건\n",
    "    - 이름, 돈         재고, 이익, 고객명단        브랜드, 이름, 가격\n",
    "    - 사다             회원등록, 팔다, 수익계산  \n",
    "    \n",
    "- 객체 사용하는 이유 : 코드 재사용 수월"
   ]
  },
  {
   "cell_type": "markdown",
   "metadata": {},
   "source": [
    "### 클래스 \n",
    "- 객체가 가져야 할 기본 정보를 담은 코드\n",
    "- 설계도, 틀, 프레임워크\n",
    "- 붕어빵의 틀 == 클래스 / 붕어빵 == 인스턴스\n",
    "- 'class Car :'\n",
    "    - 클래스명은 카멜표기법을 쓴다."
   ]
  },
  {
   "cell_type": "code",
   "execution_count": 6,
   "metadata": {},
   "outputs": [
    {
     "data": {
      "text/plain": [
       "<__main__.Car at 0x4304190>"
      ]
     },
     "execution_count": 6,
     "metadata": {},
     "output_type": "execute_result"
    }
   ],
   "source": [
    "# 정의\n",
    "class Car : \n",
    "    pass\n",
    "\n",
    "# 선언 (괄호 꼭 쓸 것)\n",
    "car1 = Car()\n",
    "car1"
   ]
  },
  {
   "cell_type": "code",
   "execution_count": 7,
   "metadata": {},
   "outputs": [
    {
     "data": {
      "text/plain": [
       "<__main__.Car at 0x4304070>"
      ]
     },
     "execution_count": 7,
     "metadata": {},
     "output_type": "execute_result"
    }
   ],
   "source": [
    "car2 = Car()\n",
    "car2"
   ]
  },
  {
   "cell_type": "code",
   "execution_count": 8,
   "metadata": {},
   "outputs": [
    {
     "data": {
      "text/plain": [
       "__main__.Car"
      ]
     },
     "execution_count": 8,
     "metadata": {},
     "output_type": "execute_result"
    }
   ],
   "source": [
    "type(car2) # nltk.book type == Text"
   ]
  },
  {
   "cell_type": "code",
   "execution_count": 9,
   "metadata": {},
   "outputs": [],
   "source": [
    "car1.brand = 'mercedes'\n",
    "car2.brand = 'kia'"
   ]
  },
  {
   "cell_type": "code",
   "execution_count": 10,
   "metadata": {},
   "outputs": [
    {
     "name": "stdout",
     "output_type": "stream",
     "text": [
      "mercedes\n",
      "kia\n"
     ]
    }
   ],
   "source": [
    "for car in [car1, car2] :\n",
    "    print(car.brand)"
   ]
  },
  {
   "cell_type": "code",
   "execution_count": 13,
   "metadata": {},
   "outputs": [
    {
     "data": {
      "text/plain": [
       "'mercedes'"
      ]
     },
     "execution_count": 13,
     "metadata": {},
     "output_type": "execute_result"
    }
   ],
   "source": [
    "class Car:\n",
    "    brand = 'mercedes' # 속성 별 기본값을 정해놓음\n",
    "    \n",
    "car3 = Car()\n",
    "car3.brand"
   ]
  },
  {
   "cell_type": "code",
   "execution_count": 48,
   "metadata": {},
   "outputs": [],
   "source": [
    "# 다양한 속성을 원한다.\n",
    "class Car : \n",
    "    def __init__(self, brand, color, model) : # 속성을 초기화 하는 함수\n",
    "        self.brand = brand # self == instance\n",
    "        # self.brand = 어떤 객체가 만들어지더라도 가져갈 브랜드 명\n",
    "        # brand = 객체 생성 시 설정되는 브랜드 명 (처음에 들어오는 값)\n",
    "        self.color = color\n",
    "        self.model = model\n",
    "        \n",
    "    def drive(self) :\n",
    "        # 출력 : 내 차(브랜드 = {})이 움직인다.\n",
    "        print(f\"내 차(브랜드 = {self.brand})가 움직인다.\")\n",
    "    \n",
    "    def stop(self) :\n",
    "        print(\"차가 멈춘다.\")\n",
    "        \n",
    "    def change_color(self) :\n",
    "        # self.color -> 'pink'\n",
    "        self.color = 'pink'"
   ]
  },
  {
   "cell_type": "code",
   "execution_count": 49,
   "metadata": {},
   "outputs": [
    {
     "data": {
      "text/plain": [
       "'kia'"
      ]
     },
     "execution_count": 49,
     "metadata": {},
     "output_type": "execute_result"
    }
   ],
   "source": [
    "my_morning = Car('kia', 'white', 'morning') # (self == my_car)\n",
    "my_morning.brand"
   ]
  },
  {
   "cell_type": "code",
   "execution_count": 55,
   "metadata": {},
   "outputs": [
    {
     "data": {
      "text/plain": [
       "'white'"
      ]
     },
     "execution_count": 55,
     "metadata": {},
     "output_type": "execute_result"
    }
   ],
   "source": [
    "# 이 객체에 대해서만 속성 바꾸기\n",
    "my_morning.color = 'white' \n",
    "my_morning.color"
   ]
  },
  {
   "cell_type": "code",
   "execution_count": 57,
   "metadata": {},
   "outputs": [
    {
     "name": "stdout",
     "output_type": "stream",
     "text": [
      "내 차(브랜드 = kia)가 움직인다.\n"
     ]
    }
   ],
   "source": [
    "my_morning.drive()"
   ]
  },
  {
   "cell_type": "code",
   "execution_count": 54,
   "metadata": {},
   "outputs": [
    {
     "data": {
      "text/plain": [
       "'pink'"
      ]
     },
     "execution_count": 54,
     "metadata": {},
     "output_type": "execute_result"
    }
   ],
   "source": [
    "my_morning.change_color()\n",
    "my_morning.color"
   ]
  },
  {
   "cell_type": "code",
   "execution_count": 72,
   "metadata": {},
   "outputs": [],
   "source": [
    "# 1. 내가 원하는 컬러로 바꾸기\n",
    "# 2. 컬러가 있으면 있는 컬러, 없으면 orange로 기본값 설정하기\n",
    "# 다양한 속성을 원한다.\n",
    "class Car : \n",
    "    def __init__(self, brand, model = None, color = 'orange') : # 속성을 초기화 하는 함수\n",
    "        self.brand = brand # self == instance\n",
    "        self.color = color\n",
    "        self.model = model\n",
    "        \n",
    "        # model 기본적으로는 값을 안 받아도 되게 설정하기?\n",
    "        \n",
    "    def drive(self) :\n",
    "        # 출력 : 내 차(브랜드 = {})이 움직인다.\n",
    "        print(f\"내 차(브랜드 = {self.brand})가 움직인다.\")\n",
    "    \n",
    "    def stop(self) :\n",
    "        print(\"차가 멈춘다.\")\n",
    "        \n",
    "    def change_color(self, color) :\n",
    "        self.color = color"
   ]
  },
  {
   "cell_type": "code",
   "execution_count": 73,
   "metadata": {},
   "outputs": [
    {
     "data": {
      "text/plain": [
       "'orange'"
      ]
     },
     "execution_count": 73,
     "metadata": {},
     "output_type": "execute_result"
    }
   ],
   "source": [
    "my_huracan = Car('lamborghini', 'huracan')\n",
    "my_huracan.color"
   ]
  },
  {
   "cell_type": "code",
   "execution_count": 74,
   "metadata": {},
   "outputs": [
    {
     "data": {
      "text/plain": [
       "'yellow'"
      ]
     },
     "execution_count": 74,
     "metadata": {},
     "output_type": "execute_result"
    }
   ],
   "source": [
    "my_huracan = Car('lamborghini', 'huracan', 'yellow')\n",
    "my_huracan.color"
   ]
  },
  {
   "cell_type": "code",
   "execution_count": 75,
   "metadata": {},
   "outputs": [
    {
     "data": {
      "text/plain": [
       "'black'"
      ]
     },
     "execution_count": 75,
     "metadata": {},
     "output_type": "execute_result"
    }
   ],
   "source": [
    "my_huracan.change_color('black')\n",
    "my_huracan.color"
   ]
  },
  {
   "cell_type": "code",
   "execution_count": 79,
   "metadata": {},
   "outputs": [
    {
     "name": "stdout",
     "output_type": "stream",
     "text": [
      "None\n",
      "orange\n"
     ]
    }
   ],
   "source": [
    "# model 기본적으로는 값을 안 받아도 되게 설정하기\n",
    "my_huracan = Car('lamborghini')\n",
    "print(my_huracan.model)\n",
    "print(my_huracan.color)"
   ]
  },
  {
   "cell_type": "markdown",
   "metadata": {},
   "source": [
    "### getter, settter\n",
    "- 캡슐화, 정보 은닉\n",
    "- 클래스 외부에서 변수 접근을 용이하지 못하게 하는 것"
   ]
  },
  {
   "cell_type": "code",
   "execution_count": 85,
   "metadata": {},
   "outputs": [],
   "source": [
    "# 1. 틀에서 변수를 바꾸는 것\n",
    "# 2. 인스턴스에서 변수를 바꾸는 것"
   ]
  },
  {
   "cell_type": "code",
   "execution_count": 86,
   "metadata": {},
   "outputs": [],
   "source": [
    "class Fruit : \n",
    "    color = 'red'"
   ]
  },
  {
   "cell_type": "code",
   "execution_count": 87,
   "metadata": {},
   "outputs": [
    {
     "data": {
      "text/plain": [
       "'red'"
      ]
     },
     "execution_count": 87,
     "metadata": {},
     "output_type": "execute_result"
    }
   ],
   "source": [
    "apple = Fruit()\n",
    "apple.color"
   ]
  },
  {
   "cell_type": "code",
   "execution_count": 88,
   "metadata": {},
   "outputs": [],
   "source": [
    "Fruit.color = 'purple'"
   ]
  },
  {
   "cell_type": "code",
   "execution_count": 89,
   "metadata": {},
   "outputs": [
    {
     "data": {
      "text/plain": [
       "'purple'"
      ]
     },
     "execution_count": 89,
     "metadata": {},
     "output_type": "execute_result"
    }
   ],
   "source": [
    "orange = Fruit()\n",
    "orange.color # 문제 발생"
   ]
  },
  {
   "cell_type": "code",
   "execution_count": 91,
   "metadata": {},
   "outputs": [],
   "source": [
    "# 1.\n",
    "class Car : \n",
    "    def __init__(self, input_brand) : # 속성을 초기화 하는 함수\n",
    "        self.brand = input_brand\n",
    "        \n",
    "    def get_brand(self) :\n",
    "        # 원래 변수명에 접근하도록\n",
    "        print('from the getter')\n",
    "        return self.brand\n",
    "    \n",
    "    def set_brand(self, input_brand) :\n",
    "        # 변수명을 바꾸는 작업\n",
    "        print('from the setter')\n",
    "        self.brand = input_brand"
   ]
  },
  {
   "cell_type": "code",
   "execution_count": 92,
   "metadata": {},
   "outputs": [
    {
     "data": {
      "text/plain": [
       "'toyota'"
      ]
     },
     "execution_count": 92,
     "metadata": {},
     "output_type": "execute_result"
    }
   ],
   "source": [
    "ex = Car('toyota')\n",
    "ex.brand"
   ]
  },
  {
   "cell_type": "code",
   "execution_count": 93,
   "metadata": {},
   "outputs": [
    {
     "name": "stdout",
     "output_type": "stream",
     "text": [
      "from the getter\n"
     ]
    },
    {
     "data": {
      "text/plain": [
       "'toyota'"
      ]
     },
     "execution_count": 93,
     "metadata": {},
     "output_type": "execute_result"
    }
   ],
   "source": [
    "ex.get_brand()"
   ]
  },
  {
   "cell_type": "code",
   "execution_count": 94,
   "metadata": {},
   "outputs": [
    {
     "name": "stdout",
     "output_type": "stream",
     "text": [
      "from the setter\n"
     ]
    },
    {
     "data": {
      "text/plain": [
       "'mazuda'"
      ]
     },
     "execution_count": 94,
     "metadata": {},
     "output_type": "execute_result"
    }
   ],
   "source": [
    "ex.set_brand('mazuda')\n",
    "ex.brand"
   ]
  },
  {
   "cell_type": "code",
   "execution_count": 73,
   "metadata": {},
   "outputs": [
    {
     "name": "stdout",
     "output_type": "stream",
     "text": [
      "kia\n",
      "lamborghini\n"
     ]
    }
   ],
   "source": [
    "# 2. property를 통해 (get_brand와 set_brand를 brand라는 변수명으로 사용)\n",
    "class Car :\n",
    "    def __init__(self, input_brand) :\n",
    "        self.hidden_brand = input_brand\n",
    "        \n",
    "    def get_brand(self) : \n",
    "        return self.hidden_brand\n",
    "    \n",
    "    def set_brand(self, input_brand) :\n",
    "        self.hidden_brand = input_brand\n",
    "    \n",
    "    # 내가 사용할 변수명\n",
    "    brand = property(get_brand, set_brand)\n",
    "        \n",
    "c = Car('kia')\n",
    "print(c.brand)\n",
    "\n",
    "c.brand = 'lamborghini'\n",
    "print(c.brand)"
   ]
  },
  {
   "cell_type": "code",
   "execution_count": 76,
   "metadata": {},
   "outputs": [
    {
     "name": "stdout",
     "output_type": "stream",
     "text": [
      "kia\n",
      "lamborghini\n"
     ]
    }
   ],
   "source": [
    "# 3. decorator : @...\n",
    "class Car :\n",
    "    def __init__(self, input_brand) :\n",
    "        self.hidden_brand = input_brand\n",
    "        \n",
    "    @property\n",
    "    def brand(self) : \n",
    "        return self.hidden_brand\n",
    "    \n",
    "    @brand.setter\n",
    "    def brand(self, input_brand) :\n",
    "        self.hidden_brand = input_brand\n",
    "        \n",
    "c = Car('kia')\n",
    "print(c.brand)\n",
    "\n",
    "c.brand = 'lamborghini'\n",
    "print(c.brand)"
   ]
  },
  {
   "cell_type": "code",
   "execution_count": 109,
   "metadata": {},
   "outputs": [
    {
     "ename": "AttributeError",
     "evalue": "'Car' object has no attribute '__brand'",
     "output_type": "error",
     "traceback": [
      "\u001b[1;31m---------------------------------------------------------------------------\u001b[0m",
      "\u001b[1;31mAttributeError\u001b[0m                            Traceback (most recent call last)",
      "\u001b[1;32m<ipython-input-109-98c987babf9c>\u001b[0m in \u001b[0;36m<module>\u001b[1;34m()\u001b[0m\n\u001b[0;32m     13\u001b[0m \u001b[1;33m\u001b[0m\u001b[0m\n\u001b[0;32m     14\u001b[0m \u001b[0mc\u001b[0m \u001b[1;33m=\u001b[0m \u001b[0mCar\u001b[0m\u001b[1;33m(\u001b[0m\u001b[1;34m'aa'\u001b[0m\u001b[1;33m)\u001b[0m\u001b[1;33m\u001b[0m\u001b[0m\n\u001b[1;32m---> 15\u001b[1;33m \u001b[0mc\u001b[0m\u001b[1;33m.\u001b[0m\u001b[0m__brand\u001b[0m\u001b[1;33m\u001b[0m\u001b[0m\n\u001b[0m",
      "\u001b[1;31mAttributeError\u001b[0m: 'Car' object has no attribute '__brand'"
     ]
    }
   ],
   "source": [
    "# 4. self.__변수명 으로 보호 => 변수명으로 접근할 수 없음. \n",
    "class Car :\n",
    "    def __init__(self, input_brand) :\n",
    "        self.__brand = input_brand\n",
    "        \n",
    "    @property\n",
    "    def brand(self) : \n",
    "        return self.__brand\n",
    "    \n",
    "    @brand.setter\n",
    "    def brand(self, input_brand) :\n",
    "        self.__brand = input_brand\n",
    "        \n",
    "c = Car('aa')\n",
    "c.__brand"
   ]
  },
  {
   "cell_type": "code",
   "execution_count": 110,
   "metadata": {},
   "outputs": [
    {
     "data": {
      "text/plain": [
       "'aa'"
      ]
     },
     "execution_count": 110,
     "metadata": {},
     "output_type": "execute_result"
    }
   ],
   "source": [
    "c.brand"
   ]
  },
  {
   "cell_type": "code",
   "execution_count": 112,
   "metadata": {},
   "outputs": [
    {
     "data": {
      "text/plain": [
       "10"
      ]
     },
     "execution_count": 112,
     "metadata": {},
     "output_type": "execute_result"
    }
   ],
   "source": [
    "class Circle :\n",
    "    def __init__(self, radius) :\n",
    "        self.radius = radius\n",
    "        \n",
    "    @property\n",
    "    def diameter(self) :\n",
    "        return self.radius * 2\n",
    "    \n",
    "c = Circle(5)\n",
    "c.diameter"
   ]
  },
  {
   "cell_type": "markdown",
   "metadata": {},
   "source": [
    "### 실습\n",
    "- 객체 : 메모장(노트),                         메모\n",
    "- 변수 : 제목, 페이지번호, 메모                글귀\n",
    "- 메소드 : 추가, 삭제, 페이지번호              쓰기, 지우기\n",
    "\n",
    "- getter, setter 메모장 제목에 설정하기\n",
    "- '메모' 객체에 글귀를 추가한다.\n",
    "- '메모장' 객체에 메모 추가한다.\n",
    "- 페이지번호가 늘어난다.\n",
    "- 메모를 삭제하면 페이지번호가 줄어들고\n",
    "- 페이지가 300을 넘으면 메모 추가 불가.\n",
    "- 페이지번호로 메모 찾기"
   ]
  },
  {
   "cell_type": "code",
   "execution_count": 60,
   "metadata": {},
   "outputs": [
    {
     "name": "stdout",
     "output_type": "stream",
     "text": [
      "현재 페이지 번호 : 2\n",
      "제목 : 메모장\n",
      "제목 : 바꾼 메모장\n"
     ]
    }
   ],
   "source": [
    "class Notebook :\n",
    "    def __init__(self, title = None):\n",
    "        self.__title = title\n",
    "        self.notes = []\n",
    "        self.page_num = 0\n",
    "        \n",
    "    def get_title(self) :\n",
    "        return self.__title\n",
    "    \n",
    "    def set_title(self, title) :\n",
    "        self.__title = title\n",
    "        \n",
    "    def add_note(self, memo) : # 노트북 맨 마지막에 노트 추가\n",
    "        if self.page_num >= 300 :\n",
    "            print(\"더 이상 메모를 추가할 수 없습니다.\")\n",
    "        else :\n",
    "            self.notes.append(memo)\n",
    "            self.page_num += 1\n",
    "            \n",
    "    def remove_note(self, page_num) : # page_num에 해당하는 노트 제거\n",
    "        del self.notes[page_num]\n",
    "        self.page_num -= 1\n",
    "        \n",
    "    def get_page_num(self):\n",
    "        return self.page_num - 1 # 노트 추가 후에 페이지 번호 하나 늘려주기 때문에.\n",
    "    \n",
    "    def print_pages(self) :\n",
    "        for i in range(self.page_num) :\n",
    "            print(f\"Page {i} : {self.notes[i]}\")\n",
    "    \n",
    "class Note :\n",
    "    memos = []\n",
    "    \n",
    "    def write(self, memo) :\n",
    "        self.memos.append(memo)\n",
    "        \n",
    "    def erase(self, memo_num) :\n",
    "        del self.memos[memo_num]\n",
    "    \n",
    "# 메모 추가하기\n",
    "memo1 = '꿈을 이루고자 하는 용기만 있다면 모든 꿈을 이룰 수 있다.'\n",
    "memo2 = '웃음이 없는 하루는 버린 하루다.'\n",
    "memo3 = '승리는 가장 끈기 있는 사람에게 돌아간다.'\n",
    "\n",
    "note = Note()\n",
    "note.write(memo1)\n",
    "note.write(memo2)\n",
    "note.write(memo3)\n",
    "\n",
    "# 메모장 만들기\n",
    "my_book = Notebook('메모장')\n",
    "\n",
    "# 메모장에 메모 추가하기\n",
    "my_book.add_note(note.memos[0])\n",
    "my_book.add_note(note.memos[1])\n",
    "my_book.add_note(note.memos[2])\n",
    "\n",
    "# 페이지 번호 확인하기\n",
    "print(f'현재 페이지 번호 : {my_book.get_page_num()}') # 2\n",
    "\n",
    "# 제목 확인하기\n",
    "print(f\"제목 : {my_book.get_title()}\")\n",
    "\n",
    "# 제목 바꾸기\n",
    "my_book.set_title('바꾼 메모장')\n",
    "print(f\"제목 : {my_book.get_title()}\")"
   ]
  },
  {
   "cell_type": "code",
   "execution_count": 61,
   "metadata": {},
   "outputs": [
    {
     "name": "stdout",
     "output_type": "stream",
     "text": [
      "Page 0 : 꿈을 이루고자 하는 용기만 있다면 모든 꿈을 이룰 수 있다.\n",
      "Page 1 : 웃음이 없는 하루는 버린 하루다.\n",
      "Page 2 : 승리는 가장 끈기 있는 사람에게 돌아간다.\n"
     ]
    }
   ],
   "source": [
    "# 메모장에 메모 내용 확인하기\n",
    "my_book.print_pages()"
   ]
  },
  {
   "cell_type": "code",
   "execution_count": 62,
   "metadata": {},
   "outputs": [
    {
     "name": "stdout",
     "output_type": "stream",
     "text": [
      "Page 0 : 꿈을 이루고자 하는 용기만 있다면 모든 꿈을 이룰 수 있다.\n",
      "Page 1 : 승리는 가장 끈기 있는 사람에게 돌아간다.\n"
     ]
    }
   ],
   "source": [
    "# 노트 삭제\n",
    "my_book.remove_note(1)\n",
    "my_book.print_pages()"
   ]
  },
  {
   "cell_type": "code",
   "execution_count": 63,
   "metadata": {},
   "outputs": [
    {
     "name": "stdout",
     "output_type": "stream",
     "text": [
      "Page 0 : 꿈을 이루고자 하는 용기만 있다면 모든 꿈을 이룰 수 있다.\n",
      "Page 1 : 승리는 가장 끈기 있는 사람에게 돌아간다.\n",
      "Page 2 : 메모 추가\n"
     ]
    }
   ],
   "source": [
    "# 노트 추가\n",
    "my_book.add_note('메모 추가')\n",
    "my_book.print_pages()"
   ]
  },
  {
   "cell_type": "code",
   "execution_count": 64,
   "metadata": {},
   "outputs": [
    {
     "data": {
      "text/plain": [
       "2"
      ]
     },
     "execution_count": 64,
     "metadata": {},
     "output_type": "execute_result"
    }
   ],
   "source": [
    "# 현재 페이지 번호 확인\n",
    "my_book.get_page_num()"
   ]
  },
  {
   "cell_type": "code",
   "execution_count": 65,
   "metadata": {},
   "outputs": [
    {
     "data": {
      "text/plain": [
       "'승리는 가장 끈기 있는 사람에게 돌아간다.'"
      ]
     },
     "execution_count": 65,
     "metadata": {},
     "output_type": "execute_result"
    }
   ],
   "source": [
    "# 페이지 번호로 메모 찾기\n",
    "my_book.notes[1]"
   ]
  },
  {
   "cell_type": "code",
   "execution_count": 66,
   "metadata": {},
   "outputs": [
    {
     "name": "stdout",
     "output_type": "stream",
     "text": [
      "['꿈을 이루고자 하는 용기만 있다면 모든 꿈을 이룰 수 있다.', '웃음이 없는 하루는 버린 하루다.', '승리는 가장 끈기 있는 사람에게 돌아간다.']\n"
     ]
    }
   ],
   "source": [
    "# 메모 내용 확인\n",
    "print(note.memos)"
   ]
  },
  {
   "cell_type": "code",
   "execution_count": 67,
   "metadata": {},
   "outputs": [
    {
     "name": "stdout",
     "output_type": "stream",
     "text": [
      "['꿈을 이루고자 하는 용기만 있다면 모든 꿈을 이룰 수 있다.', '승리는 가장 끈기 있는 사람에게 돌아간다.']\n"
     ]
    }
   ],
   "source": [
    "# 메모 제거\n",
    "note.erase(1)\n",
    "print(note.memos)"
   ]
  }
 ],
 "metadata": {
  "kernelspec": {
   "display_name": "Python 3",
   "language": "python",
   "name": "python3"
  },
  "language_info": {
   "codemirror_mode": {
    "name": "ipython",
    "version": 3
   },
   "file_extension": ".py",
   "mimetype": "text/x-python",
   "name": "python",
   "nbconvert_exporter": "python",
   "pygments_lexer": "ipython3",
   "version": "3.7.0"
  },
  "toc": {
   "base_numbering": 1,
   "nav_menu": {},
   "number_sections": true,
   "sideBar": true,
   "skip_h1_title": false,
   "title_cell": "Table of Contents",
   "title_sidebar": "Contents",
   "toc_cell": false,
   "toc_position": {},
   "toc_section_display": true,
   "toc_window_display": false
  }
 },
 "nbformat": 4,
 "nbformat_minor": 2
}
