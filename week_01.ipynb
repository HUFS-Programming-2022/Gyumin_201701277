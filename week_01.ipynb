{
  "nbformat": 4,
  "nbformat_minor": 0,
  "metadata": {
    "colab": {
      "name": "2022_03_04.ipynb",
      "provenance": [],
      "collapsed_sections": [],
      "authorship_tag": "ABX9TyNSFLtEAl9op5dX1XHF5SZy",
      "include_colab_link": true
    },
    "kernelspec": {
      "name": "python3",
      "display_name": "Python 3"
    },
    "language_info": {
      "name": "python"
    }
  },
  "cells": [
    {
      "cell_type": "markdown",
      "metadata": {
        "id": "view-in-github",
        "colab_type": "text"
      },
      "source": [
        "<a href=\"https://colab.research.google.com/github/Doorbals/Doorbals/blob/main/2022_03_04.ipynb\" target=\"_parent\"><img src=\"https://colab.research.google.com/assets/colab-badge.svg\" alt=\"Open In Colab\"/></a>"
      ]
    },
    {
      "cell_type": "markdown",
      "source": [
        "## 프로그래밍이란?\n",
        "- programming : 프로그래밍 언어를 사용하여 프로그램을 개발하는 것\n",
        "- program : 일련의 작업을 자동화하는 것\n",
        "- python : 프로그래밍 언어 중 하나. 인간이 컴퓨터에게 작업을 명령하기 위해 사용하는 컴퓨터가 이해할 수 있는 언어."
      ],
      "metadata": {
        "id": "nbCStIAxhAaa"
      }
    },
    {
      "cell_type": "markdown",
      "source": [
        "## CH2. Data : Types, Values, Variables, and Names"
      ],
      "metadata": {
        "id": "dqm-B2ShgeyM"
      }
    },
    {
      "cell_type": "code",
      "source": [
        "a = 2"
      ],
      "metadata": {
        "id": "Me2-E7yKgw6e"
      },
      "execution_count": null,
      "outputs": []
    },
    {
      "cell_type": "code",
      "source": [
        "a"
      ],
      "metadata": {
        "colab": {
          "base_uri": "https://localhost:8080/"
        },
        "id": "CY3KPJ0BoJKX",
        "outputId": "c6458e1d-918d-41ef-baba-4d34e98387f2"
      },
      "execution_count": null,
      "outputs": [
        {
          "output_type": "execute_result",
          "data": {
            "text/plain": [
              "2"
            ]
          },
          "metadata": {},
          "execution_count": 26
        }
      ]
    },
    {
      "cell_type": "code",
      "source": [
        "a == 2"
      ],
      "metadata": {
        "colab": {
          "base_uri": "https://localhost:8080/"
        },
        "id": "v7ryVxdcoKe_",
        "outputId": "1650ebce-bace-4c0a-c3a1-a71ce2f30713"
      },
      "execution_count": null,
      "outputs": [
        {
          "output_type": "execute_result",
          "data": {
            "text/plain": [
              "True"
            ]
          },
          "metadata": {},
          "execution_count": 27
        }
      ]
    },
    {
      "cell_type": "markdown",
      "source": [
        "- (markdown = m+)\n",
        "- 변수 | variable (a) : 특정 값을 저장하는 공간\n",
        "- 값 | value : 2\n",
        "- 자료형 : type : 2가 어떤 타입인가? 데이터의 형태(integer, int 타입)\n",
        "- 할당하다 | assign : 2를 a에 넣는 과정 (a = 2)"
      ],
      "metadata": {
        "id": "OGZlr6y-ho37"
      }
    },
    {
      "cell_type": "markdown",
      "source": [
        "### 변수의 타입\n",
        "- boolean | 불리언 : True, False (bool)\n",
        "- integer | 정수 : 1, 2, 3, 4,..(int)\n",
        "- floating point number | 부동소수점 : 1.0, 2.0 ... (float)\n",
        "- string | 문자열 : \"apple\", 'apple' (str)"
      ],
      "metadata": {
        "id": "D4Q8uJ_DinXA"
      }
    },
    {
      "cell_type": "code",
      "source": [
        "num = 4"
      ],
      "metadata": {
        "id": "26rn5XnrjILW"
      },
      "execution_count": 1,
      "outputs": []
    },
    {
      "cell_type": "code",
      "source": [
        "print(num)\n",
        "type(num)"
      ],
      "metadata": {
        "colab": {
          "base_uri": "https://localhost:8080/"
        },
        "id": "9xXPnUcmjM3-",
        "outputId": "d0ec2f67-6389-4b92-8aba-f156ae852c2b"
      },
      "execution_count": 2,
      "outputs": [
        {
          "output_type": "stream",
          "name": "stdout",
          "text": [
            "4\n"
          ]
        },
        {
          "output_type": "execute_result",
          "data": {
            "text/plain": [
              "int"
            ]
          },
          "metadata": {},
          "execution_count": 2
        }
      ]
    },
    {
      "cell_type": "code",
      "source": [
        "name = \"my name\"\n"
      ],
      "metadata": {
        "id": "3h2XTTBMj8vm"
      },
      "execution_count": 4,
      "outputs": []
    },
    {
      "cell_type": "code",
      "source": [
        "print(name)\n",
        "type(name)"
      ],
      "metadata": {
        "colab": {
          "base_uri": "https://localhost:8080/"
        },
        "id": "8So7PgVpjZTd",
        "outputId": "c9d596ad-179f-492d-f115-ea075057874a"
      },
      "execution_count": 5,
      "outputs": [
        {
          "output_type": "stream",
          "name": "stdout",
          "text": [
            "my name\n"
          ]
        },
        {
          "output_type": "execute_result",
          "data": {
            "text/plain": [
              "str"
            ]
          },
          "metadata": {},
          "execution_count": 5
        }
      ]
    },
    {
      "cell_type": "code",
      "source": [
        "print('i\\'m Sam') # single quote 안의 '를 문자로 인식 시키는 방법 ('앞에 \\를 붙여준다.)\n",
        "print(\"i'm Sam\")"
      ],
      "metadata": {
        "colab": {
          "base_uri": "https://localhost:8080/"
        },
        "id": "FwM9LkuNkEWu",
        "outputId": "3d04b6fc-6125-4dda-d2b8-3b6b65f22c74"
      },
      "execution_count": null,
      "outputs": [
        {
          "output_type": "stream",
          "name": "stdout",
          "text": [
            "i'm Sam\n",
            "i'm Sam\n"
          ]
        }
      ]
    },
    {
      "cell_type": "markdown",
      "source": [
        "### 변수명 정하기\n",
        "- 소문자, 대문자, 숫자, 언더바(__)를 사용한다.\n",
        "  - 예 : 'name', 'my_name', 'NAME', 'name3'\n",
        "  - 불가능한 예 : 'my-name', '3name'\n",
        "- 사용 불가능한 경우\n",
        "  - 숫자로 시작하는 경우\n",
        "  - 예약어(false, break 등 이미 파이썬에서 사용되고 있는 키워드들)"
      ],
      "metadata": {
        "id": "HE0v0PAQkR81"
      }
    },
    {
      "cell_type": "code",
      "source": [
        "3name = 'kim' # 숫자는 맨 앞에 올 수 없음."
      ],
      "metadata": {
        "colab": {
          "base_uri": "https://localhost:8080/",
          "height": 137
        },
        "id": "S9gbMVCIlLbw",
        "outputId": "8c849536-dbc2-45e4-a62e-362083d1e69b"
      },
      "execution_count": null,
      "outputs": [
        {
          "output_type": "error",
          "ename": "SyntaxError",
          "evalue": "ignored",
          "traceback": [
            "\u001b[0;36m  File \u001b[0;32m\"<ipython-input-15-527c1826df81>\"\u001b[0;36m, line \u001b[0;32m1\u001b[0m\n\u001b[0;31m    3name = 'kim' # 숫자는 맨 앞에 올 수 없음.\u001b[0m\n\u001b[0m        ^\u001b[0m\n\u001b[0;31mSyntaxError\u001b[0m\u001b[0;31m:\u001b[0m invalid syntax\n"
          ]
        }
      ]
    },
    {
      "cell_type": "code",
      "source": [
        "def = 'hwang' # 예약어는 변수명으로 사용할 수 없다."
      ],
      "metadata": {
        "id": "oFCzjF1Flh9T"
      },
      "execution_count": null,
      "outputs": []
    },
    {
      "cell_type": "markdown",
      "source": [
        "- 주의할 점 (특별한 용도가 있어 일반적으로 사용하지 않는 변수명 타입)\n",
        "  - 1. 언더바로 시작하는 변수명\n",
        "    예 : _name\n",
        "  - 2. 언더바가 2개 있는 변수명\n",
        "    예 : __name__\n",
        "  - 3. 대문자로 시작하는 변수명\n",
        "    예 : Car\n",
        "  - 4. 전체가 대문자인 변수명\n",
        "    예 : CAR\n",
        "    "
      ],
      "metadata": {
        "id": "5-74J9z_lnYq"
      }
    },
    {
      "cell_type": "code",
      "source": [
        "# number != Number # 대소문자가 구별된다.\n",
        "word1 = 'number'\n",
        "word2 = 'Number'"
      ],
      "metadata": {
        "id": "sjKWN_j3mHNj"
      },
      "execution_count": null,
      "outputs": []
    },
    {
      "cell_type": "code",
      "source": [
        "word1 == word2 # 대소문자 구별되므로 서로 다른 것으로 간주."
      ],
      "metadata": {
        "colab": {
          "base_uri": "https://localhost:8080/"
        },
        "id": "HDbrQHKtmgtS",
        "outputId": "9f30ca60-830f-49b0-c64b-ddf74f45fd76"
      },
      "execution_count": null,
      "outputs": [
        {
          "output_type": "execute_result",
          "data": {
            "text/plain": [
              "False"
            ]
          },
          "metadata": {},
          "execution_count": 17
        }
      ]
    },
    {
      "cell_type": "code",
      "source": [
        "word1 != word2"
      ],
      "metadata": {
        "colab": {
          "base_uri": "https://localhost:8080/"
        },
        "id": "BHVQB7sumkHv",
        "outputId": "e055eab2-44b3-4618-c1a8-fdaff84624f0"
      },
      "execution_count": null,
      "outputs": [
        {
          "output_type": "execute_result",
          "data": {
            "text/plain": [
              "True"
            ]
          },
          "metadata": {},
          "execution_count": 18
        }
      ]
    },
    {
      "cell_type": "markdown",
      "source": [
        "### 할당하기\n",
        "- 수학에서는 = 가 양변이 같음을 의미하나, 프로그램에서는 할당을 의미.\n",
        "  예 : 'name = 'lee'\n",
        "  - lee라는 값을 name에 넣는 것\n",
        "- 프로그램에서 오른쪽에 있는 모든 것은 값을 가져야 한다.(\"초기화\")\n",
        "- 오른쪽은 리터럴 값, 혹은 이미 값이 지정된 변수나 조합일 수 있다."
      ],
      "metadata": {
        "id": "gAPx4Mm7mnXx"
      }
    },
    {
      "cell_type": "code",
      "source": [
        "car = 'hyundai'"
      ],
      "metadata": {
        "id": "_UG0W_gXm5pH"
      },
      "execution_count": null,
      "outputs": []
    },
    {
      "cell_type": "code",
      "source": [
        "kia = 'kia'\n"
      ],
      "metadata": {
        "id": "5maFd21em9jS"
      },
      "execution_count": 7,
      "outputs": []
    },
    {
      "cell_type": "code",
      "source": [
        "truck = kia # 위의 kia = 'kia' 없이 해당 문장만 실행시키면 변수 truck에 아직 값이 없으므로 오류 발생 "
      ],
      "metadata": {
        "id": "-jYQbHPGksn8"
      },
      "execution_count": 8,
      "outputs": []
    },
    {
      "cell_type": "code",
      "source": [
        "x = 2\n",
        "y = x + 10\n",
        "print(x, y)"
      ],
      "metadata": {
        "colab": {
          "base_uri": "https://localhost:8080/"
        },
        "id": "LYtONK1vnWEU",
        "outputId": "61c41c4f-e1f1-46f2-b60d-71dcba27f63d"
      },
      "execution_count": null,
      "outputs": [
        {
          "output_type": "stream",
          "name": "stdout",
          "text": [
            "2 12\n"
          ]
        }
      ]
    },
    {
      "cell_type": "code",
      "source": [
        "type(car) # str"
      ],
      "metadata": {
        "colab": {
          "base_uri": "https://localhost:8080/"
        },
        "id": "4p517vDvnfFS",
        "outputId": "add66e08-edca-4197-eb50-eff32042a08a"
      },
      "execution_count": null,
      "outputs": [
        {
          "output_type": "execute_result",
          "data": {
            "text/plain": [
              "str"
            ]
          },
          "metadata": {},
          "execution_count": 22
        }
      ]
    },
    {
      "cell_type": "code",
      "source": [
        "# str car = 'kia'\n",
        "car = 'kia' # 원래 할당되어있던 'hyundai'가 아닌 'kia'로 덮어씌우므로 기존의 값은 없어짐."
      ],
      "metadata": {
        "id": "yQohTGkunhp-"
      },
      "execution_count": null,
      "outputs": []
    },
    {
      "cell_type": "code",
      "source": [
        "car"
      ],
      "metadata": {
        "colab": {
          "base_uri": "https://localhost:8080/",
          "height": 35
        },
        "id": "94nZ5K0Snorn",
        "outputId": "ca66ad61-498f-4688-94b8-420b9ec8aee2"
      },
      "execution_count": null,
      "outputs": [
        {
          "output_type": "execute_result",
          "data": {
            "application/vnd.google.colaboratory.intrinsic+json": {
              "type": "string"
            },
            "text/plain": [
              "'kia'"
            ]
          },
          "metadata": {},
          "execution_count": 24
        }
      ]
    }
  ]
}
