{
 "cells": [
  {
   "cell_type": "markdown",
   "metadata": {
    "id": "eY79f-8V9bPU"
   },
   "source": [
    "### 파일과 디렉터리\n",
    "- 디렉터리 : 폴더의 다른 말. 파일이 논리적으로 묶인 단위\n",
    "- 파일 : 컴퓨터를 실행하는 기본 단위\n",
    "  - 파일명 + 확장자\n",
    "  - 확장자 : 파일의 쓰임을 구분하는 구분자\n",
    "    - pdf, xlsx, txt, ... 등\n",
    "  - 종류 : 바이너리 파일, 텍스트 파일\n",
    "    - 바이너리 : 이진 정보로 저장됨\n",
    "      - 내용 확인 불가.\n",
    "      - 해당 확장자를 열 수 있는 프로그램 필요함.\n",
    "    - 텍스트 : 사람이 이해할 수 있는 문자열로 저장됨.\n",
    "      - 메모장, html, py\n",
    "      - 변경 기준 : 아스키코드, 유니코드\n",
    "      - 인코딩 (encoding)\n",
    "      - utf-8\n",
    "      - cp494\n"
   ]
  },
  {
   "cell_type": "markdown",
   "metadata": {
    "id": "UyGSQmTK-m_a"
   },
   "source": [
    "#### 파일 열기\n",
    "- open(파일명, 모드)\n",
    "- 모드\n",
    "  - r : read (default) - 읽기 모드\n",
    "  - w : write - 파일이 있으면 덮어쓰고, 없으면 생성\n",
    "  - x : 파일이 없을 때만 생성\n",
    "  - a : 파일이 있을 때 마지막 라인에 추가\n",
    "\n",
    "    추가 모드\n",
    "    - b : binary\n",
    "    - t : text(default)\n",
    "    - 'rb', 'rt'"
   ]
  },
  {
   "cell_type": "code",
   "execution_count": 1,
   "metadata": {
    "colab": {
     "base_uri": "https://localhost:8080/",
     "height": 190
    },
    "executionInfo": {
     "elapsed": 292,
     "status": "error",
     "timestamp": 1654837958814,
     "user": {
      "displayName": "문규민",
      "userId": "05820280739660035921"
     },
     "user_tz": -540
    },
    "id": "oJB_SCCi-rC4",
    "outputId": "83708150-c935-40ee-ebc6-4d1a24f60944"
   },
   "outputs": [],
   "source": [
    "file = 'test.txt'\n",
    "f = open(file, 'r')"
   ]
  },
  {
   "cell_type": "code",
   "execution_count": 5,
   "metadata": {
    "id": "CIjCM4PR_ceb"
   },
   "outputs": [
    {
     "data": {
      "text/plain": [
       "<_io.TextIOWrapper name='test.txt' mode='r' encoding='cp949'>"
      ]
     },
     "execution_count": 5,
     "metadata": {},
     "output_type": "execute_result"
    }
   ],
   "source": [
    "f"
   ]
  },
  {
   "cell_type": "markdown",
   "metadata": {
    "id": "TtZTh0NQ_nLT"
   },
   "source": [
    "#### 파일 읽기\n",
    "- read(n) : 전체를 하나의 str로 불러옴. n에 숫자 넣으면 해당 길이만큼만 불러옴\n",
    "  - read 하고 나면 포인터가 텍스트의 맨 뒤로 넘어감. 이후에 또 read()하면 빈 str 불러옴\n",
    "- readline() : 한줄만 str로 불러옴\n",
    "- readlines() : 전체를 list로 불러옴, 각 줄이 한 str로 리스트의 원소가 됨."
   ]
  },
  {
   "cell_type": "code",
   "execution_count": 6,
   "metadata": {},
   "outputs": [
    {
     "data": {
      "text/plain": [
       "'Hello World\\nNice to meet you'"
      ]
     },
     "execution_count": 6,
     "metadata": {},
     "output_type": "execute_result"
    }
   ],
   "source": [
    "f.read()"
   ]
  },
  {
   "cell_type": "code",
   "execution_count": 7,
   "metadata": {
    "id": "Xv332suE_2HK"
   },
   "outputs": [
    {
     "data": {
      "text/plain": [
       "'Hello'"
      ]
     },
     "execution_count": 7,
     "metadata": {},
     "output_type": "execute_result"
    }
   ],
   "source": [
    "f = open(file, 'r')\n",
    "f.read(5)"
   ]
  },
  {
   "cell_type": "code",
   "execution_count": 8,
   "metadata": {},
   "outputs": [
    {
     "data": {
      "text/plain": [
       "'Hello World\\n'"
      ]
     },
     "execution_count": 8,
     "metadata": {},
     "output_type": "execute_result"
    }
   ],
   "source": [
    "f = open(file, 'r')\n",
    "f.readline()"
   ]
  },
  {
   "cell_type": "code",
   "execution_count": 9,
   "metadata": {},
   "outputs": [
    {
     "data": {
      "text/plain": [
       "['Hello World\\n', 'Nice to meet you']"
      ]
     },
     "execution_count": 9,
     "metadata": {},
     "output_type": "execute_result"
    }
   ],
   "source": [
    "f = open(file, 'r')\n",
    "f.readlines()"
   ]
  },
  {
   "cell_type": "code",
   "execution_count": 10,
   "metadata": {
    "id": "fXSfOlKv_465"
   },
   "outputs": [],
   "source": [
    "f.close()"
   ]
  },
  {
   "cell_type": "code",
   "execution_count": 11,
   "metadata": {
    "id": "ix3zCxLQ_9Pp"
   },
   "outputs": [
    {
     "ename": "ValueError",
     "evalue": "I/O operation on closed file.",
     "output_type": "error",
     "traceback": [
      "\u001b[1;31m---------------------------------------------------------------------------\u001b[0m",
      "\u001b[1;31mValueError\u001b[0m                                Traceback (most recent call last)",
      "\u001b[1;32m<ipython-input-11-a448309bb2c8>\u001b[0m in \u001b[0;36m<module>\u001b[1;34m()\u001b[0m\n\u001b[1;32m----> 1\u001b[1;33m \u001b[0mf\u001b[0m\u001b[1;33m.\u001b[0m\u001b[0mread\u001b[0m\u001b[1;33m(\u001b[0m\u001b[1;33m)\u001b[0m \u001b[1;31m# close 하고 나면 읽어온 파일 객체가 삭제됨.\u001b[0m\u001b[1;33m\u001b[0m\u001b[0m\n\u001b[0m",
      "\u001b[1;31mValueError\u001b[0m: I/O operation on closed file."
     ]
    }
   ],
   "source": [
    "f.read() # close 하고 나면 읽어온 파일 객체가 삭제됨."
   ]
  },
  {
   "cell_type": "code",
   "execution_count": 12,
   "metadata": {
    "id": "qB-jRlLBAEqL"
   },
   "outputs": [],
   "source": [
    "f = open(file, 'r')\n",
    "sents = f.readlines()\n",
    "sents = [s.strip() for s in sents] # readlines로 읽어온 리스트의 각 원소(한 줄의 텍스트)를 strip하기 \n",
    "f.close()"
   ]
  },
  {
   "cell_type": "code",
   "execution_count": 13,
   "metadata": {
    "id": "3txE-vPTAUHy"
   },
   "outputs": [
    {
     "data": {
      "text/plain": [
       "['Hello World', 'Nice to meet you']"
      ]
     },
     "execution_count": 13,
     "metadata": {},
     "output_type": "execute_result"
    }
   ],
   "source": [
    "sents"
   ]
  },
  {
   "cell_type": "markdown",
   "metadata": {
    "id": "wJ5neYc_AkAE"
   },
   "source": [
    "#### 파일 닫기\n",
    "- 파일 여는 즉시 닫기\n",
    "- 자원 해제"
   ]
  },
  {
   "cell_type": "code",
   "execution_count": 2,
   "metadata": {
    "id": "L9VLLGaLAn9S"
   },
   "outputs": [],
   "source": [
    "with open(file, 'r') as f : # with open ~ as f 블록이 끝나면 자동으로 f,close()가 실행됨.\n",
    "  # open() 적용되는 블럭\n",
    "  content = f.read()\n",
    "# 파일 자동으로 닫힘"
   ]
  },
  {
   "cell_type": "code",
   "execution_count": 3,
   "metadata": {
    "id": "0dxMZjXhA7zE"
   },
   "outputs": [
    {
     "data": {
      "text/plain": [
       "'Hello World\\nNice to meet you'"
      ]
     },
     "execution_count": 3,
     "metadata": {},
     "output_type": "execute_result"
    }
   ],
   "source": [
    "content"
   ]
  },
  {
   "cell_type": "code",
   "execution_count": 4,
   "metadata": {},
   "outputs": [
    {
     "ename": "ValueError",
     "evalue": "I/O operation on closed file.",
     "output_type": "error",
     "traceback": [
      "\u001b[1;31m---------------------------------------------------------------------------\u001b[0m",
      "\u001b[1;31mValueError\u001b[0m                                Traceback (most recent call last)",
      "\u001b[1;32m<ipython-input-4-571e9fb02258>\u001b[0m in \u001b[0;36m<module>\u001b[1;34m()\u001b[0m\n\u001b[1;32m----> 1\u001b[1;33m \u001b[0mf\u001b[0m\u001b[1;33m.\u001b[0m\u001b[0mread\u001b[0m\u001b[1;33m(\u001b[0m\u001b[1;33m)\u001b[0m\u001b[1;33m\u001b[0m\u001b[0m\n\u001b[0m",
      "\u001b[1;31mValueError\u001b[0m: I/O operation on closed file."
     ]
    }
   ],
   "source": [
    "f.read()"
   ]
  },
  {
   "cell_type": "code",
   "execution_count": 5,
   "metadata": {
    "id": "4GW26l3tBFaM"
   },
   "outputs": [],
   "source": [
    "# readline 파일 읽는데, while 사용해서 한 줄씩 읽고 strip()해서 리스트에 반환하는 함수 만들기"
   ]
  },
  {
   "cell_type": "code",
   "execution_count": 13,
   "metadata": {
    "colab": {
     "base_uri": "https://localhost:8080/",
     "height": 244
    },
    "executionInfo": {
     "elapsed": 299,
     "status": "error",
     "timestamp": 1654838488775,
     "user": {
      "displayName": "문규민",
      "userId": "05820280739660035921"
     },
     "user_tz": -540
    },
    "id": "21tsFQABBFhq",
    "outputId": "cf4584b5-103f-4ab4-f19b-9d6f2609ef36"
   },
   "outputs": [
    {
     "name": "stdout",
     "output_type": "stream",
     "text": [
      "['Hello World', 'Nice to meet you']\n"
     ]
    }
   ],
   "source": [
    "file = 'test.txt'\n",
    "sents = []\n",
    "with open(file, 'r') as f:\n",
    "    line = f.readline().strip()\n",
    "    # while loop\n",
    "    while (line != '') : \n",
    "        sents.append(line)\n",
    "        line = f.readline().strip()\n",
    "        \n",
    "print(sents)"
   ]
  },
  {
   "cell_type": "markdown",
   "metadata": {
    "id": "Nn3Xq1zzErvc"
   },
   "source": [
    "#### 경로가 달라질 때\n",
    "- . : 현재 경로\n",
    "- .. : 상위 경로"
   ]
  },
  {
   "cell_type": "code",
   "execution_count": 28,
   "metadata": {
    "id": "hF8_sgTFE3A7"
   },
   "outputs": [
    {
     "name": "stdout",
     "output_type": "stream",
     "text": [
      "Hello World\n",
      "Nice to meet you\n"
     ]
    }
   ],
   "source": [
    "file = './test.txt'\n",
    "\n",
    "with open(file) as f :\n",
    "    print(f.read())"
   ]
  },
  {
   "cell_type": "code",
   "execution_count": 30,
   "metadata": {},
   "outputs": [
    {
     "name": "stdout",
     "output_type": "stream",
     "text": [
      "Hello World\n",
      "Nice to meet you\n"
     ]
    }
   ],
   "source": [
    "file = '../수업필기/test.txt'\n",
    "\n",
    "with open(file) as f :\n",
    "    print(f.read())"
   ]
  },
  {
   "cell_type": "markdown",
   "metadata": {
    "id": "9gudHUJiFFzT"
   },
   "source": [
    "#### 쓰기\n",
    "- 인코딩 유의"
   ]
  },
  {
   "cell_type": "code",
   "execution_count": 25,
   "metadata": {
    "id": "fUkq9V3IFID7"
   },
   "outputs": [],
   "source": [
    "with open('test2.txt', 'w', encoding = 'utf-8') as f :\n",
    "    for i in range(10) :\n",
    "        data = f'{i}번째 줄입니다.\\n'\n",
    "        f.write(data)"
   ]
  },
  {
   "cell_type": "code",
   "execution_count": 26,
   "metadata": {
    "id": "zjI42C3rFrOL"
   },
   "outputs": [],
   "source": [
    "# print\n",
    "file_out = open('test2.txt', 'a', encoding='utf-8')\n",
    "print('한 줄 추가했습니다.',  file = file_out)\n",
    "file_out.close()"
   ]
  },
  {
   "cell_type": "markdown",
   "metadata": {
    "id": "ht-QrP6dGwoq"
   },
   "source": [
    "#### folder 만들어서 추가하는 방법\n",
    "  - 폴더 만들어야 함\n",
    "  - 접근"
   ]
  },
  {
   "cell_type": "code",
   "execution_count": 32,
   "metadata": {
    "id": "9bu5HiHTFd8j"
   },
   "outputs": [
    {
     "ename": "FileNotFoundError",
     "evalue": "[Errno 2] No such file or directory: '../abc/test2.txt'",
     "output_type": "error",
     "traceback": [
      "\u001b[1;31m---------------------------------------------------------------------------\u001b[0m",
      "\u001b[1;31mFileNotFoundError\u001b[0m                         Traceback (most recent call last)",
      "\u001b[1;32m<ipython-input-32-34f65a9b0064>\u001b[0m in \u001b[0;36m<module>\u001b[1;34m()\u001b[0m\n\u001b[1;32m----> 1\u001b[1;33m \u001b[1;32mwith\u001b[0m \u001b[0mopen\u001b[0m\u001b[1;33m(\u001b[0m\u001b[1;34m'../abc/test2.txt'\u001b[0m\u001b[1;33m,\u001b[0m \u001b[1;34m'w'\u001b[0m\u001b[1;33m,\u001b[0m \u001b[0mencoding\u001b[0m \u001b[1;33m=\u001b[0m \u001b[1;34m'utf-8'\u001b[0m\u001b[1;33m)\u001b[0m \u001b[1;32mas\u001b[0m \u001b[0mf\u001b[0m \u001b[1;33m:\u001b[0m\u001b[1;33m\u001b[0m\u001b[0m\n\u001b[0m\u001b[0;32m      2\u001b[0m     \u001b[1;32mfor\u001b[0m \u001b[0mi\u001b[0m \u001b[1;32min\u001b[0m \u001b[0mrange\u001b[0m\u001b[1;33m(\u001b[0m\u001b[1;36m10\u001b[0m\u001b[1;33m)\u001b[0m \u001b[1;33m:\u001b[0m\u001b[1;33m\u001b[0m\u001b[0m\n\u001b[0;32m      3\u001b[0m         \u001b[0mdata\u001b[0m \u001b[1;33m=\u001b[0m \u001b[1;34mf'{i}번째 줄입니다.\\n'\u001b[0m\u001b[1;33m\u001b[0m\u001b[0m\n\u001b[0;32m      4\u001b[0m         \u001b[0mf\u001b[0m\u001b[1;33m.\u001b[0m\u001b[0mwrite\u001b[0m\u001b[1;33m(\u001b[0m\u001b[0mdata\u001b[0m\u001b[1;33m)\u001b[0m\u001b[1;33m\u001b[0m\u001b[0m\n",
      "\u001b[1;31mFileNotFoundError\u001b[0m: [Errno 2] No such file or directory: '../abc/test2.txt'"
     ]
    }
   ],
   "source": [
    "# 이렇게 해도 없는 경로라 생성 불가능. 폴더는 자동으로 만들어지지 않음.\n",
    "with open('./abc/test2.txt', 'w', encoding = 'utf-8') as f :\n",
    "    for i in range(10) :\n",
    "        data = f'{i}번째 줄입니다.\\n'\n",
    "        f.write(data)"
   ]
  },
  {
   "cell_type": "code",
   "execution_count": 43,
   "metadata": {
    "id": "FurslnrmGpaE"
   },
   "outputs": [],
   "source": [
    "import os"
   ]
  },
  {
   "cell_type": "code",
   "execution_count": 46,
   "metadata": {
    "id": "jHedZ6KoGupT"
   },
   "outputs": [],
   "source": [
    "path = 'abc'\n",
    "\n",
    "# 'abc' 폴더가 있는지 확인하기\n",
    "if not os.path.isdir(path) : # path 경로의 폴더 유무 확인하는 함수\n",
    "    os.mkdir(path) # path 경로로 폴더 만드는 함수\n",
    "\n",
    "# dir_name = './abc/test2.txt'\n",
    "dir_name = os.path.join(path, 'test2.txt') # 경로명 path와 파일명 'test2.txt'을 결합해 dir_name에 할당\n",
    "\n",
    "if not os.path.exists(dir_name) : # 해당 경로가 존재하지 않는다면\n",
    "    with open(dir_name, 'w') as f : # 해당 경로에 파일 만들어 write -> 덮어쓸 가능성 배제\n",
    "        pass "
   ]
  },
  {
   "cell_type": "code",
   "execution_count": null,
   "metadata": {
    "id": "6a4-En-5HVNk"
   },
   "outputs": [],
   "source": [
    "os.remove(file_name) # 파일을 삭제\n",
    "os.rmdir(dir_name) # 폴더를 삭제. 폴더 안에 파일 있으면 삭제 못함"
   ]
  },
  {
   "cell_type": "code",
   "execution_count": null,
   "metadata": {
    "id": "5RVPN12vHgfy"
   },
   "outputs": [],
   "source": [
    "import shutil\n",
    "\n",
    "shutil.rmtree(dir_name) # 폴더 안에 파일 있어도 강제로 전부 삭제"
   ]
  },
  {
   "cell_type": "markdown",
   "metadata": {
    "id": "Medx4qXZHnrL"
   },
   "source": [
    "#### 연습문제\n",
    "1. folder 새로 만들어서\n",
    "2. 파일에 내용 쓰기\n",
    "3. 파일 열기"
   ]
  },
  {
   "cell_type": "code",
   "execution_count": 59,
   "metadata": {},
   "outputs": [
    {
     "name": "stdout",
     "output_type": "stream",
     "text": [
      "[]\n"
     ]
    }
   ],
   "source": [
    "#1. 폴더 생성\n",
    "path = 'abcd'\n",
    "\n",
    "if not os.path.isdir(path) :\n",
    "    os.mkdir(path)\n",
    "\n",
    "dir_name = os.path.join(path, 'test3.txt')\n",
    "\n",
    "#2. 파일에 내용 쓰기\n",
    "if not os.path.exists(dir_name) : \n",
    "    with open(dir_name, 'w') as f :\n",
    "        f.write('abcdefghijklmn')\n",
    "        \n",
    "#3. 파일 읽기    \n",
    "with open('./abcd/test3.txt', 'r', encoding = 'utf-8') as f :\n",
    "    print(f.readlines())\n",
    "    "
   ]
  },
  {
   "cell_type": "code",
   "execution_count": null,
   "metadata": {
    "id": "0iKb2lw7IpGu"
   },
   "outputs": [],
   "source": [
    "os.getcwd() # 현재 디렉터리 get"
   ]
  },
  {
   "cell_type": "code",
   "execution_count": null,
   "metadata": {
    "id": "VnFPdGKjIsrs"
   },
   "outputs": [],
   "source": [
    "os.chdir('..') # 상위 디렉토리로 이동"
   ]
  },
  {
   "cell_type": "markdown",
   "metadata": {
    "id": "fgElVlyDIz-L"
   },
   "source": [
    "#### pickle\n",
    "- 객체를 파일로 저장하는 기능 제공"
   ]
  },
  {
   "cell_type": "code",
   "execution_count": 33,
   "metadata": {
    "id": "qZRmdjY2I8Gk"
   },
   "outputs": [],
   "source": [
    "import pickle"
   ]
  },
  {
   "cell_type": "code",
   "execution_count": 34,
   "metadata": {
    "id": "qVf9R1CgJmYz"
   },
   "outputs": [
    {
     "data": {
      "text/plain": [
       "[0, 1, 2, 3, 4, 5, 6, 7, 8, 9]"
      ]
     },
     "execution_count": 34,
     "metadata": {},
     "output_type": "execute_result"
    }
   ],
   "source": [
    "nums = list(range(10))\n",
    "nums"
   ]
  },
  {
   "cell_type": "code",
   "execution_count": 35,
   "metadata": {
    "id": "RhfNZuz2I9-k"
   },
   "outputs": [],
   "source": [
    "with open('test.pickle', 'wb') as f :\n",
    "    pickle.dump(nums, f) # dump(변수명, 파일명) : 저장"
   ]
  },
  {
   "cell_type": "code",
   "execution_count": 36,
   "metadata": {
    "id": "yLpUTjX4JXe0"
   },
   "outputs": [],
   "source": [
    "with open('test.pickle', 'rb') as f :\n",
    "    number = pickle.load(f) # load(파일명) : 불러오기"
   ]
  },
  {
   "cell_type": "code",
   "execution_count": 37,
   "metadata": {
    "id": "FxYBN59LJgDq"
   },
   "outputs": [
    {
     "data": {
      "text/plain": [
       "[0, 1, 2, 3, 4, 5, 6, 7, 8, 9]"
      ]
     },
     "execution_count": 37,
     "metadata": {},
     "output_type": "execute_result"
    }
   ],
   "source": [
    "number"
   ]
  }
 ],
 "metadata": {
  "colab": {
   "authorship_tag": "ABX9TyOdbIY6b1Jzqk9k0O/9ILFd",
   "collapsed_sections": [],
   "name": "week_15.ipynb",
   "provenance": []
  },
  "kernelspec": {
   "display_name": "Python 3",
   "language": "python",
   "name": "python3"
  },
  "language_info": {
   "codemirror_mode": {
    "name": "ipython",
    "version": 3
   },
   "file_extension": ".py",
   "mimetype": "text/x-python",
   "name": "python",
   "nbconvert_exporter": "python",
   "pygments_lexer": "ipython3",
   "version": "3.7.0"
  },
  "toc": {
   "base_numbering": 1,
   "nav_menu": {},
   "number_sections": true,
   "sideBar": true,
   "skip_h1_title": false,
   "title_cell": "Table of Contents",
   "title_sidebar": "Contents",
   "toc_cell": false,
   "toc_position": {},
   "toc_section_display": true,
   "toc_window_display": false
  }
 },
 "nbformat": 4,
 "nbformat_minor": 1
}
