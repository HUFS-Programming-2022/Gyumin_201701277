{
 "cells": [
  {
   "cell_type": "markdown",
   "metadata": {},
   "source": [
    "### 상속 | inheritance\n",
    "- 이전 클래스의 내용을 추가, 변경해야할 경우\n",
    "- 코드 재사용에 유용하다.\n",
    "\n",
    "- ex. Vehicle <- Car\n",
    "    - 기준 : Vehicle, 부모클래스(parent, super, base)\n",
    "    - 상속 받는 클래스 : Car, 자식 클래스(child, sub, derived)\n",
    "    - 부모클래스를 자식클래스가 구체화시킨다.\n",
    "    - Car is-a-Vehicle\n",
    "    - has-a : Notebook has-a-Note"
   ]
  },
  {
   "cell_type": "code",
   "execution_count": 10,
   "metadata": {},
   "outputs": [],
   "source": [
    "# 부모 클래스\n",
    "class Vehicle : \n",
    "    def __init__(self, speed) : # 클래스 생성 시 속성을 초기화 하는 함수\n",
    "        self.speed = speed\n",
    "        \n",
    "    def go(self) : # 클래스 내의 함수\n",
    "        print(f\"{self.speed}의 속도로 달린다.\")\n",
    "              \n",
    "# 자식클래스\n",
    "class Car(Vehicle) :\n",
    "    pass        "
   ]
  },
  {
   "cell_type": "code",
   "execution_count": 11,
   "metadata": {},
   "outputs": [],
   "source": [
    "car = Car('15km/h')"
   ]
  },
  {
   "cell_type": "code",
   "execution_count": 12,
   "metadata": {},
   "outputs": [
    {
     "name": "stdout",
     "output_type": "stream",
     "text": [
      "15km/h의 속도로 달린다.\n"
     ]
    }
   ],
   "source": [
    "car.go()"
   ]
  },
  {
   "cell_type": "markdown",
   "metadata": {},
   "source": [
    "### 추가, 변경\n",
    "- 속성(변수)"
   ]
  },
  {
   "cell_type": "code",
   "execution_count": 13,
   "metadata": {},
   "outputs": [],
   "source": [
    "class Car(Vehicle) :\n",
    "    def __init__(self, speed, brand) :\n",
    "        super().__init__(speed) # 상속받은 속성\n",
    "        self.brand = brand # 해당 클래스에서 추가한 속성\n",
    "        # self == 나 자신, super() == 부모"
   ]
  },
  {
   "cell_type": "code",
   "execution_count": 14,
   "metadata": {},
   "outputs": [],
   "source": [
    "car2 = Car('14km/h', 'kia')"
   ]
  },
  {
   "cell_type": "code",
   "execution_count": 15,
   "metadata": {},
   "outputs": [
    {
     "data": {
      "text/plain": [
       "'14km/h'"
      ]
     },
     "execution_count": 15,
     "metadata": {},
     "output_type": "execute_result"
    }
   ],
   "source": [
    "car2.speed # 부모 클래스로부터 상속받은 속성 사용"
   ]
  },
  {
   "cell_type": "markdown",
   "metadata": {},
   "source": [
    "- 메소드 변경 : 오버라이드(override), 재정의"
   ]
  },
  {
   "cell_type": "code",
   "execution_count": 16,
   "metadata": {},
   "outputs": [],
   "source": [
    "class Car(Vehicle) : # 부모클래스와 차별성을 가지게 되는 부분에 주목.\n",
    "    def __init__(self, speed, brand) :\n",
    "        super().__init__(speed)\n",
    "        self.brand = brand\n",
    "        \n",
    "    def go(self) : # override\n",
    "        super().go() # override해도 super()를 사용해 부모 클래스의 메소드도 사용 가능하다.\n",
    "        print(f\"차종은 {self.brand}\")\n",
    "        \n",
    "    def stop(self) : # 부모클래스에 없는 메소드\n",
    "        print('차가 멈춘다.')"
   ]
  },
  {
   "cell_type": "code",
   "execution_count": 17,
   "metadata": {},
   "outputs": [
    {
     "name": "stdout",
     "output_type": "stream",
     "text": [
      "15km/h의 속도로 달린다.\n",
      "차종은 nissan\n"
     ]
    }
   ],
   "source": [
    "car3 = Car('15km/h', 'nissan')\n",
    "car3.go()"
   ]
  },
  {
   "cell_type": "code",
   "execution_count": 18,
   "metadata": {},
   "outputs": [],
   "source": [
    "### 실습\n",
    "\"\"\"Person <- Doctor, Male, Female\"\"\"\n",
    "\n",
    "class Person : # 부모 클래스\n",
    "    # name\n",
    "    def __init__(self, name) :\n",
    "        self.name = name\n",
    "\n",
    "class Doctor(Person) :\n",
    "    # 'Dr. name'\n",
    "    def __init__(self, name) :\n",
    "        super().__init__(name)\n",
    "        self.name = (f\"Dr. {self.name}\")\n",
    "   \n",
    "class Male(Person) : \n",
    "    #'Mr. name'\n",
    "    def __init__(self, name) :\n",
    "        super().__init__(name)\n",
    "        self.name = (f'Mr. {self.name}')\n",
    "\n",
    "class Female(Person) :\n",
    "    #'Ms, name'\n",
    "    def __init__(self, name) :\n",
    "        super().__init__(name)\n",
    "        self.name = (f'Ms. {self.name}')   \n"
   ]
  },
  {
   "cell_type": "code",
   "execution_count": 19,
   "metadata": {},
   "outputs": [
    {
     "data": {
      "text/plain": [
       "'Tom'"
      ]
     },
     "execution_count": 19,
     "metadata": {},
     "output_type": "execute_result"
    }
   ],
   "source": [
    "person = Person('Tom')\n",
    "person.name"
   ]
  },
  {
   "cell_type": "code",
   "execution_count": 20,
   "metadata": {},
   "outputs": [
    {
     "data": {
      "text/plain": [
       "'Dr. Paul'"
      ]
     },
     "execution_count": 20,
     "metadata": {},
     "output_type": "execute_result"
    }
   ],
   "source": [
    "doctor = Doctor('Paul')\n",
    "doctor.name"
   ]
  },
  {
   "cell_type": "code",
   "execution_count": 21,
   "metadata": {},
   "outputs": [
    {
     "data": {
      "text/plain": [
       "'Mr. James'"
      ]
     },
     "execution_count": 21,
     "metadata": {},
     "output_type": "execute_result"
    }
   ],
   "source": [
    "man = Male('James')\n",
    "man.name"
   ]
  },
  {
   "cell_type": "code",
   "execution_count": 22,
   "metadata": {},
   "outputs": [
    {
     "data": {
      "text/plain": [
       "'Ms. Lisa'"
      ]
     },
     "execution_count": 22,
     "metadata": {},
     "output_type": "execute_result"
    }
   ],
   "source": [
    "woman = Female('Lisa')\n",
    "woman.name"
   ]
  },
  {
   "cell_type": "markdown",
   "metadata": {},
   "source": [
    "### 다중 상속\n",
    "- method resoultion order (MRO)\n",
    "\n",
    "- Animal <- Horse\n",
    "    - <- Donkey\n",
    "        - Mule(Donkey > Horse)\n",
    "        - Hinny(Horse > Donkey)"
   ]
  },
  {
   "cell_type": "code",
   "execution_count": 23,
   "metadata": {},
   "outputs": [],
   "source": [
    "class Animal :\n",
    "    def says(self) :\n",
    "        return \"동물이 운다.\"\n",
    "        \n",
    "# -------------------------------- child\n",
    "class Horse(Animal) :\n",
    "    def says(self) :\n",
    "        return \"히히힝\"\n",
    "    \n",
    "class Donkey(Animal) :\n",
    "    def says(self) :\n",
    "        return \"히이호\"\n",
    "    \n",
    "# -------------------------------- grandchild\n",
    "class Mule(Donkey, Horse) : # 먼저 적힌 부모의 속성이 먼저 나타남\n",
    "    pass\n",
    "\n",
    "class Hinny(Horse, Donkey) :\n",
    "    pass"
   ]
  },
  {
   "cell_type": "code",
   "execution_count": 24,
   "metadata": {},
   "outputs": [
    {
     "data": {
      "text/plain": [
       "'히이호'"
      ]
     },
     "execution_count": 24,
     "metadata": {},
     "output_type": "execute_result"
    }
   ],
   "source": [
    "mule = Mule()\n",
    "mule.says() # Donkey"
   ]
  },
  {
   "cell_type": "code",
   "execution_count": 25,
   "metadata": {},
   "outputs": [
    {
     "data": {
      "text/plain": [
       "'히히힝'"
      ]
     },
     "execution_count": 25,
     "metadata": {},
     "output_type": "execute_result"
    }
   ],
   "source": [
    "Hinny().says() # Horse / 변수에 대입 안해준 상태에서는 Hinny()와 같이 괄호 사용해서 호출해야함."
   ]
  },
  {
   "cell_type": "code",
   "execution_count": 26,
   "metadata": {},
   "outputs": [
    {
     "data": {
      "text/plain": [
       "[__main__.Mule, __main__.Donkey, __main__.Horse, __main__.Animal, object]"
      ]
     },
     "execution_count": 26,
     "metadata": {},
     "output_type": "execute_result"
    }
   ],
   "source": [
    "Mule.mro() # 해당 클래스가 어떤 클래스를 상속 받았는지 파악할 수 있는 명령어"
   ]
  },
  {
   "cell_type": "markdown",
   "metadata": {},
   "source": [
    "### 다형성(Duck Typing)"
   ]
  },
  {
   "cell_type": "code",
   "execution_count": 27,
   "metadata": {},
   "outputs": [
    {
     "name": "stdout",
     "output_type": "stream",
     "text": [
      "동물이 운다.\n",
      "히히힝\n",
      "히이호\n"
     ]
    }
   ],
   "source": [
    "for animal in [Animal(), Horse(), Mule()] : # 같은 이름의 say가 클래스에 따라 다른 기능으로 사용됨.= 다형성\n",
    "    print(animal.says())"
   ]
  },
  {
   "cell_type": "markdown",
   "metadata": {},
   "source": [
    "### 메소드\n",
    "- 인스턴스 메소드 :\n",
    "    - 첫 번째 인수가 self인 메소드\n",
    "    - 우리가 지금까지 배운 메소드\n",
    "    - 객체 생성 -> 사용 가능\n",
    "    \n",
    "- 클래스 메소드 :\n",
    "    - 객체마다 달라지지 않음\n",
    "    - 모든 객체가 공유하는 (클래스) 변수, 메소드\n",
    "    - cls\n",
    "    - decorater : @classmethod 사용\n",
    "    - 객체 생성하지 않고 메소드에 접근 가능!\n",
    "    \n",
    "- 정적 메소드 :\n",
    "    - @staticmethod\n",
    "    - 1번째 인수가 self 아님\n",
    "    - 클래스나 인스턴스에 접근하지 않는 메소드\n",
    "    - 비슷한 유틸리티에서 클래스 내에 묶어둘 때 사용한다.\n",
    "    - 객체 생성하지 않고 메소드 접근 가능!\n",
    "    \n",
    "- 추상 메소드\n",
    "    - @abstractmethod\n",
    "    - 메소드의 내용을 구체화하지 않음.\n",
    "    - 추상 메소드가 들어있는 클래스(= 추상 클래스)를 상속받는 클래스에서 해당 메소드를 구체화 하도록 함.\n",
    "    - 비슷한 기능이지만 세부적 구현이 다른 메소드 상속에 사용.\n",
    "    - 추상 클래스를 상속받는 자식 클래스는 반드시 추상 클래스에 있는 모든 추상 메소드를 재정의해야함."
   ]
  },
  {
   "cell_type": "code",
   "execution_count": 28,
   "metadata": {},
   "outputs": [
    {
     "data": {
      "text/plain": [
       "'히히힝'"
      ]
     },
     "execution_count": 28,
     "metadata": {},
     "output_type": "execute_result"
    }
   ],
   "source": [
    "h = Hinny()\n",
    "h.says()"
   ]
  },
  {
   "cell_type": "code",
   "execution_count": 36,
   "metadata": {},
   "outputs": [],
   "source": [
    "class A :\n",
    "    cnt = 0\n",
    "    \n",
    "    @ classmethod\n",
    "    def move(cls) : # self, super(), cls\n",
    "        print(cls.cnt)"
   ]
  },
  {
   "cell_type": "code",
   "execution_count": 37,
   "metadata": {},
   "outputs": [
    {
     "name": "stdout",
     "output_type": "stream",
     "text": [
      "0\n"
     ]
    }
   ],
   "source": [
    "A().move()"
   ]
  },
  {
   "cell_type": "code",
   "execution_count": 38,
   "metadata": {},
   "outputs": [],
   "source": [
    "class B :\n",
    "    cnt = 0\n",
    "    \n",
    "    def __init__(self) :\n",
    "        B.cnt += 1 # 객체가 생성될 때마다 횟수 증가\n",
    "        \n",
    "    @ classmethod\n",
    "    def count(cls) :\n",
    "        print(cls.cnt) # 클래스 변수 cnt 출력"
   ]
  },
  {
   "cell_type": "code",
   "execution_count": 39,
   "metadata": {},
   "outputs": [
    {
     "name": "stdout",
     "output_type": "stream",
     "text": [
      "3\n",
      "3\n",
      "3\n"
     ]
    }
   ],
   "source": [
    "b1 = B()\n",
    "b2 = B()\n",
    "b3 = B()\n",
    "b1.count() # 모든 객체가 같은 cnt 변수 공유\n",
    "b2.count()\n",
    "b3.count()"
   ]
  },
  {
   "cell_type": "code",
   "execution_count": 105,
   "metadata": {},
   "outputs": [],
   "source": [
    "class Person :\n",
    "    def __init__(self, name, age) :\n",
    "        self.name = name\n",
    "        self.age = age\n",
    "        \n",
    "    @classmethod\n",
    "    def tuple_object(cls, args) :\n",
    "        # 튜플로 인자 받아서 객체 생성하는 메소드 만들기\n",
    "        return cls(args[0], args[1])\n",
    "    \n",
    "name = 'hong'\n",
    "age = 24\n",
    "\n",
    "p = Person(name, age)\n",
    "\n",
    "info = name, age\n",
    "p = Person.tuple_object(info) # 객체 생성하지 않고 메소드에 접근한다,"
   ]
  },
  {
   "cell_type": "code",
   "execution_count": 106,
   "metadata": {},
   "outputs": [
    {
     "data": {
      "text/plain": [
       "'hong'"
      ]
     },
     "execution_count": 106,
     "metadata": {},
     "output_type": "execute_result"
    }
   ],
   "source": [
    "p.name"
   ]
  },
  {
   "cell_type": "code",
   "execution_count": 107,
   "metadata": {},
   "outputs": [
    {
     "data": {
      "text/plain": [
       "24"
      ]
     },
     "execution_count": 107,
     "metadata": {},
     "output_type": "execute_result"
    }
   ],
   "source": [
    "p.age"
   ]
  },
  {
   "cell_type": "code",
   "execution_count": 108,
   "metadata": {},
   "outputs": [
    {
     "data": {
      "text/plain": [
       "'hi'"
      ]
     },
     "execution_count": 108,
     "metadata": {},
     "output_type": "execute_result"
    }
   ],
   "source": [
    "# @staticmethod\n",
    "class Coyote :\n",
    "    \n",
    "    @staticmethod\n",
    "    def says(): # self 없음 => 클래스나 인스턴스에 접근 X\n",
    "        return 'hi'\n",
    "    \n",
    "Coyote.says()"
   ]
  },
  {
   "cell_type": "code",
   "execution_count": 47,
   "metadata": {},
   "outputs": [],
   "source": [
    "# @abstractmethod\n",
    "\n",
    "from abc import *\n",
    "\n",
    "class Vehicle(metaclass = ABCMeta) : # 추상 클래스\n",
    "    # 변수에 뭘 넣을지 정의하기\n",
    "    speed = '속도'\n",
    "    \n",
    "    # 자식 클래스가 오버라이드해야 하는 메소드 정의, 구체화 하지 않는다.\n",
    "    @abstractmethod\n",
    "    def drive(self) :\n",
    "        print('교통수단에 관하여')\n",
    "        \n",
    "    def stop(self) :\n",
    "        pass\n",
    "    \n",
    "    def park(self) :\n",
    "        pass\n",
    "        \n",
    "class Car(Vehicle) :\n",
    "    pass"
   ]
  },
  {
   "cell_type": "code",
   "execution_count": 48,
   "metadata": {},
   "outputs": [
    {
     "ename": "TypeError",
     "evalue": "Can't instantiate abstract class Car with abstract methods drive",
     "output_type": "error",
     "traceback": [
      "\u001b[1;31m---------------------------------------------------------------------------\u001b[0m",
      "\u001b[1;31mTypeError\u001b[0m                                 Traceback (most recent call last)",
      "\u001b[1;32m<ipython-input-48-a707ed3deccb>\u001b[0m in \u001b[0;36m<module>\u001b[1;34m()\u001b[0m\n\u001b[1;32m----> 1\u001b[1;33m \u001b[0mCar\u001b[0m\u001b[1;33m(\u001b[0m\u001b[1;33m)\u001b[0m \u001b[1;31m# 추상 메소드를 재정의하지 않았기 때문에 클래스를 만들 수 X\u001b[0m\u001b[1;33m\u001b[0m\u001b[0m\n\u001b[0m",
      "\u001b[1;31mTypeError\u001b[0m: Can't instantiate abstract class Car with abstract methods drive"
     ]
    }
   ],
   "source": [
    "Car() # 추상 메소드를 재정의하지 않았기 때문에 클래스를 만들 수 X"
   ]
  },
  {
   "cell_type": "code",
   "execution_count": 49,
   "metadata": {},
   "outputs": [
    {
     "data": {
      "text/plain": [
       "<__main__.Car at 0x4250c30>"
      ]
     },
     "execution_count": 49,
     "metadata": {},
     "output_type": "execute_result"
    }
   ],
   "source": [
    "class Car(Vehicle) : # 모든 추상 메소드 재정의하면 클래스 만들어진다.\n",
    "    def drive(self) :\n",
    "        print(\"drive\")\n",
    "        \n",
    "    def stop(self) :\n",
    "        print(\"stop\")\n",
    "        \n",
    "    def park(self) :\n",
    "        print(\"park\")\n",
    "        \n",
    "Car()"
   ]
  },
  {
   "cell_type": "markdown",
   "metadata": {},
   "source": [
    "### 매직메소드\n",
    "- __init__ : special method\n",
    "- __str__ \n",
    "- __repr__"
   ]
  },
  {
   "cell_type": "code",
   "execution_count": 50,
   "metadata": {},
   "outputs": [],
   "source": [
    "class Person :\n",
    "    def __init__(self, name) :\n",
    "        self.name = name\n",
    "    \n",
    "    def __str__(self) :\n",
    "        # 인스턴스를 스트링으로 출력 : 이름, 메모리주소\n",
    "        # print(인스턴스)했을 때 출력되는 값\n",
    "        # 반드시 str만 return 되도록 해야 함.\n",
    "        return self.name\n",
    "    \n",
    "    def __repr__(self) :\n",
    "        # 시용자가 이해할 수 있게 객체를 출력하고 싶을 때 사용한다.\n",
    "        # 객체 이름만 입력 했을 때 출력되는 값\n",
    "        return f'Person({self.name})'\n",
    "    "
   ]
  },
  {
   "cell_type": "code",
   "execution_count": 130,
   "metadata": {},
   "outputs": [],
   "source": [
    "p = Person('lee')"
   ]
  },
  {
   "cell_type": "code",
   "execution_count": 123,
   "metadata": {},
   "outputs": [
    {
     "data": {
      "text/plain": [
       "<__main__.Person at 0x42a0df0>"
      ]
     },
     "execution_count": 123,
     "metadata": {},
     "output_type": "execute_result"
    }
   ],
   "source": [
    "p"
   ]
  },
  {
   "cell_type": "code",
   "execution_count": 124,
   "metadata": {},
   "outputs": [
    {
     "name": "stdout",
     "output_type": "stream",
     "text": [
      "<__main__.Person object at 0x042A0DF0>\n"
     ]
    }
   ],
   "source": [
    "print(p)"
   ]
  },
  {
   "cell_type": "code",
   "execution_count": 128,
   "metadata": {},
   "outputs": [
    {
     "name": "stdout",
     "output_type": "stream",
     "text": [
      "lee\n"
     ]
    }
   ],
   "source": [
    "# __str__ 사용했을 때\n",
    "print(p)"
   ]
  },
  {
   "cell_type": "code",
   "execution_count": 131,
   "metadata": {},
   "outputs": [
    {
     "data": {
      "text/plain": [
       "Person(lee)"
      ]
     },
     "execution_count": 131,
     "metadata": {},
     "output_type": "execute_result"
    }
   ],
   "source": [
    "# __repr__ 사용했을 때\n",
    "p"
   ]
  },
  {
   "cell_type": "markdown",
   "metadata": {},
   "source": [
    "### namedtuple, dataclass\n",
    "- 변수만 있는 클래스 설정할 때 더 효율적으로 사용하는 수단\n",
    "- 딕셔너리 키와 같은 기능\n",
    "- 불변 객체"
   ]
  },
  {
   "cell_type": "code",
   "execution_count": 51,
   "metadata": {},
   "outputs": [],
   "source": [
    "from collections import namedtuple\n",
    "\n",
    "Person = namedtuple('Person', 'name age') # namedtuple('클래스명', '변수1, 변수2, ...')"
   ]
  },
  {
   "cell_type": "code",
   "execution_count": 53,
   "metadata": {},
   "outputs": [
    {
     "data": {
      "text/plain": [
       "Person(name='kim', age=33)"
      ]
     },
     "execution_count": 53,
     "metadata": {},
     "output_type": "execute_result"
    }
   ],
   "source": [
    "a = Person('kim', 33)\n",
    "a"
   ]
  },
  {
   "cell_type": "code",
   "execution_count": 54,
   "metadata": {},
   "outputs": [
    {
     "data": {
      "text/plain": [
       "'kim'"
      ]
     },
     "execution_count": 54,
     "metadata": {},
     "output_type": "execute_result"
    }
   ],
   "source": [
    "a.name"
   ]
  },
  {
   "cell_type": "code",
   "execution_count": 55,
   "metadata": {},
   "outputs": [
    {
     "data": {
      "text/plain": [
       "33"
      ]
     },
     "execution_count": 55,
     "metadata": {},
     "output_type": "execute_result"
    }
   ],
   "source": [
    "a.age"
   ]
  },
  {
   "cell_type": "code",
   "execution_count": 56,
   "metadata": {},
   "outputs": [
    {
     "data": {
      "text/plain": [
       "Person(name='lee', age=33)"
      ]
     },
     "execution_count": 56,
     "metadata": {},
     "output_type": "execute_result"
    }
   ],
   "source": [
    "b = a._replace(name = 'lee') # 불변객체지만 _replace를 통해서는 변경 가능\n",
    "b"
   ]
  },
  {
   "cell_type": "code",
   "execution_count": 57,
   "metadata": {},
   "outputs": [],
   "source": [
    "from dataclasses import dataclass\n",
    "\n",
    "@dataclass\n",
    "class Person :\n",
    "    name : str # 변수 타입만 지정\n",
    "    age : int"
   ]
  },
  {
   "cell_type": "code",
   "execution_count": 58,
   "metadata": {},
   "outputs": [],
   "source": [
    "a = Person('kim', 33)"
   ]
  },
  {
   "cell_type": "code",
   "execution_count": 59,
   "metadata": {},
   "outputs": [
    {
     "data": {
      "text/plain": [
       "Person(name='kim', age=33)"
      ]
     },
     "execution_count": 59,
     "metadata": {},
     "output_type": "execute_result"
    }
   ],
   "source": [
    "a"
   ]
  }
 ],
 "metadata": {
  "kernelspec": {
   "display_name": "Python 3",
   "language": "python",
   "name": "python3"
  },
  "language_info": {
   "codemirror_mode": {
    "name": "ipython",
    "version": 3
   },
   "file_extension": ".py",
   "mimetype": "text/x-python",
   "name": "python",
   "nbconvert_exporter": "python",
   "pygments_lexer": "ipython3",
   "version": "3.7.0"
  },
  "toc": {
   "base_numbering": 1,
   "nav_menu": {},
   "number_sections": true,
   "sideBar": true,
   "skip_h1_title": false,
   "title_cell": "Table of Contents",
   "title_sidebar": "Contents",
   "toc_cell": false,
   "toc_position": {},
   "toc_section_display": true,
   "toc_window_display": false
  }
 },
 "nbformat": 4,
 "nbformat_minor": 2
}
