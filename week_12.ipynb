{
 "cells": [
  {
   "cell_type": "markdown",
   "metadata": {},
   "source": [
    "## 함수 II"
   ]
  },
  {
   "cell_type": "markdown",
   "metadata": {},
   "source": [
    "### asterisk (stars) *, **"
   ]
  },
  {
   "cell_type": "code",
   "execution_count": 16,
   "metadata": {},
   "outputs": [
    {
     "name": "stdout",
     "output_type": "stream",
     "text": [
      "('hey', 'hello', 'hi')\n"
     ]
    }
   ],
   "source": [
    "def print_arg(*args) :\n",
    "    # 인자를 튜플로 묶어서 활용하는 역할\n",
    "    print(args)\n",
    "    \n",
    "print_arg('hey', 'hello', 'hi') # 인자로 전달되는 모든 값들을 튜플로 묶어서 출력한다."
   ]
  },
  {
   "cell_type": "code",
   "execution_count": 17,
   "metadata": {},
   "outputs": [
    {
     "name": "stdout",
     "output_type": "stream",
     "text": [
      "hey hello hi\n"
     ]
    }
   ],
   "source": [
    "def print_arg(*args) : # 1. 패킹 (인자를 튜플로 묶어서 활용하는 역할)\n",
    "    print(*args) # 2. 언패킹 (튜플 -> 인자로)\n",
    "    \n",
    "print_arg('hey', 'hello', 'hi')"
   ]
  },
  {
   "cell_type": "code",
   "execution_count": 18,
   "metadata": {},
   "outputs": [
    {
     "name": "stdout",
     "output_type": "stream",
     "text": [
      "obligatory book\n",
      "1 2 3 4\n",
      "obligatory book\n",
      "(1, 2, 3, 4)\n",
      "obligatory book\n",
      "1 2 3 4\n"
     ]
    }
   ],
   "source": [
    "def print_arg2(name, *args) :\n",
    "    print(\"obligatory\", name)\n",
    "    print(*args)\n",
    "\n",
    "print_arg2('book', 1, 2, 3, 4) # 첫 인자('book)는 name에 들어가고 뒤 인자들(1, 2, 3, 4)은 패킹됨.\n",
    "nums = (1, 2, 3, 4)\n",
    "x = print_arg2('book', nums)\n",
    "y = print_arg2('book', *nums)"
   ]
  },
  {
   "cell_type": "markdown",
   "metadata": {},
   "source": [
    "### 외부에서 활용하기\n",
    "- 컬렉션 자료형 언패킹 출력시\n",
    "- zip()\n",
    "- 키워드 전용 인수 선언\n",
    "    - 별 뒤에 오는 매개변수들은 반드시 키워드 인수로 들어오도록 설정하는 역할\n",
    "    - kargs와 혼선을 빚지 않기 위해서 사용."
   ]
  },
  {
   "cell_type": "code",
   "execution_count": 11,
   "metadata": {},
   "outputs": [
    {
     "name": "stdout",
     "output_type": "stream",
     "text": [
      "0 1 2 3 4\n"
     ]
    }
   ],
   "source": [
    "nums = list(range(5))\n",
    "print(*nums)"
   ]
  },
  {
   "cell_type": "code",
   "execution_count": 13,
   "metadata": {},
   "outputs": [
    {
     "name": "stdout",
     "output_type": "stream",
     "text": [
      "(1, 3, 5)\n",
      "(2, 4, 6)\n"
     ]
    }
   ],
   "source": [
    "a = [\n",
    "    [1, 2],\n",
    "    [3, 4],\n",
    "    [5, 6]\n",
    "]\n",
    "\n",
    "# 1, 3, 5 / 2, 4, 6 (열을 순회하고 싶다.)\n",
    "for row in zip(*a) :\n",
    "    print(row)"
   ]
  },
  {
   "cell_type": "code",
   "execution_count": 19,
   "metadata": {},
   "outputs": [
    {
     "name": "stdout",
     "output_type": "stream",
     "text": [
      "2\n",
      "3\n"
     ]
    }
   ],
   "source": [
    "def print_data(data, *, start, end) : # start, end -> start = 0\n",
    "    for value in data[start:end] : \n",
    "        print(value)\n",
    "        \n",
    "print_data(nums, start = 1, end = 3)"
   ]
  },
  {
   "cell_type": "markdown",
   "metadata": {},
   "source": [
    "### **"
   ]
  },
  {
   "cell_type": "code",
   "execution_count": 25,
   "metadata": {},
   "outputs": [
    {
     "name": "stdout",
     "output_type": "stream",
     "text": [
      "{'wine': 'merlot', 'dessert': 'cake'}\n"
     ]
    }
   ],
   "source": [
    "def print_kargs(**kargs) : # 딕셔너리로 묶는 기능\n",
    "    print(kargs) # 언패킹 기능 없기 때문에 **print(**kargs) 형태 사용 불가\n",
    "    # print(kargs['wine'], 'is semi-sweet') # get(key, default)\n",
    "    \n",
    "print_kargs(wine = \"merlot\", dessert = 'cake')"
   ]
  },
  {
   "cell_type": "code",
   "execution_count": 26,
   "metadata": {},
   "outputs": [
    {
     "name": "stdout",
     "output_type": "stream",
     "text": [
      "{'wine': 'merlot', 'dessert': 'scone'}\n",
      "{'wine': 'cabernet', 'dessert': 'scone'}\n",
      "{'wine': 'crianze', 'dessert': 'scone'}\n"
     ]
    }
   ],
   "source": [
    "wine_list = 'merlot cabernet crianze'.split()\n",
    "for wine in wine_list : \n",
    "    print_kargs(wine = wine, dessert = 'scone')"
   ]
  },
  {
   "cell_type": "code",
   "execution_count": 27,
   "metadata": {},
   "outputs": [
    {
     "name": "stdout",
     "output_type": "stream",
     "text": [
      "15\n",
      "{'first': 1, 'second': 2}\n"
     ]
    }
   ],
   "source": [
    "def print_both(one, two, *args, **kargs) : # 위치인수 -> args -> kargs\n",
    "    print(one + two + sum(args))\n",
    "    print(kargs)\n",
    "    \n",
    "print_both(1, 2, 3, 4, 5, first = 1, second = 2)"
   ]
  },
  {
   "cell_type": "markdown",
   "metadata": {},
   "source": [
    "#### 딕셔너리 결합할 때 사용할 수 있다(3.5 이상)"
   ]
  },
  {
   "cell_type": "code",
   "execution_count": 28,
   "metadata": {},
   "outputs": [],
   "source": [
    "x = {1 : 'a', 2 : 'b'}\n",
    "y = {2 : 'c', 3 : 'd'}\n",
    "z = {**x, **y}"
   ]
  },
  {
   "cell_type": "code",
   "execution_count": 29,
   "metadata": {},
   "outputs": [
    {
     "data": {
      "text/plain": [
       "{1: 'a', 2: 'c', 3: 'd'}"
      ]
     },
     "execution_count": 29,
     "metadata": {},
     "output_type": "execute_result"
    }
   ],
   "source": [
    "z"
   ]
  },
  {
   "cell_type": "markdown",
   "metadata": {},
   "source": [
    "### 일급객체\n",
    "- first class object / fist class citizen\n",
    "- 함수도 객체다.\n",
    "- 함수의 인자로 전달 가능\n",
    "- 반환값이 될 수 있다.\n",
    "- 수정, 할당될 수 있다."
   ]
  },
  {
   "cell_type": "code",
   "execution_count": 31,
   "metadata": {},
   "outputs": [
    {
     "name": "stdout",
     "output_type": "stream",
     "text": [
      "43\n",
      "43\n"
     ]
    }
   ],
   "source": [
    "def answer() :\n",
    "    print(43)\n",
    "    \n",
    "def run_something(func) : # 함수를 인자로 넣는다. 파이썬에서만 가능, 함수가 객체이므로\n",
    "    func()\n",
    "    \n",
    "run_something(answer)\n",
    "\n",
    "def run_anything(func) : \n",
    "    return func\n",
    "\n",
    "run_anything(answer)() # 괄호 -> 실행"
   ]
  },
  {
   "cell_type": "code",
   "execution_count": 33,
   "metadata": {},
   "outputs": [
    {
     "data": {
      "text/plain": [
       "13"
      ]
     },
     "execution_count": 33,
     "metadata": {},
     "output_type": "execute_result"
    }
   ],
   "source": [
    "def sum_args(*args) :\n",
    "    return sum(args)\n",
    "\n",
    "def run_with_positional_args(func, *args) :\n",
    "    return func(*args)\n",
    "\n",
    "run_with_positional_args(sum_args, 1, 3, 4, 5)"
   ]
  },
  {
   "cell_type": "code",
   "execution_count": 34,
   "metadata": {},
   "outputs": [],
   "source": [
    "# 가변 인자일 때 -> 초기화하지 않으면 변수 내용이 변할 수 있음.\n",
    "def func(num_list) :\n",
    "    # 변할 수 있음을 문서화할 것. 혹은 다른 방법 찾아볼 것.\n",
    "    sum_num = sum(num_list)\n",
    "    num_list.append(sum_num)\n",
    "    \n",
    "a = [1, 3, 5]\n",
    "func(a)"
   ]
  },
  {
   "cell_type": "code",
   "execution_count": 35,
   "metadata": {},
   "outputs": [
    {
     "data": {
      "text/plain": [
       "[1, 3, 5, 9]"
      ]
     },
     "execution_count": 35,
     "metadata": {},
     "output_type": "execute_result"
    }
   ],
   "source": [
    "a"
   ]
  },
  {
   "cell_type": "code",
   "execution_count": 36,
   "metadata": {},
   "outputs": [],
   "source": [
    "func(a)"
   ]
  },
  {
   "cell_type": "code",
   "execution_count": 37,
   "metadata": {},
   "outputs": [
    {
     "data": {
      "text/plain": [
       "[1, 3, 5, 9, 18]"
      ]
     },
     "execution_count": 37,
     "metadata": {},
     "output_type": "execute_result"
    }
   ],
   "source": [
    "a"
   ]
  },
  {
   "cell_type": "markdown",
   "metadata": {},
   "source": [
    "### 익명함수(람다)\n",
    "- lambda\n",
    "- 함수인데 이름이 없음 (def, return)\n",
    "- 단순한 함수 사용할 때\n",
    "- 단, 잦은 사용은 권장하지 않는다. -> 직관적이지 않고 재활용 하기 힘들다.\n",
    "- lambda x : <x를 요리할 코드>"
   ]
  },
  {
   "cell_type": "code",
   "execution_count": 1,
   "metadata": {},
   "outputs": [
    {
     "data": {
      "text/plain": [
       "'ok'"
      ]
     },
     "execution_count": 1,
     "metadata": {},
     "output_type": "execute_result"
    }
   ],
   "source": [
    "def f(x) :\n",
    "    return x.lower()\n",
    "\n",
    "# 위와 같은 결과\n",
    "f2 = lambda x : x.lower()\n",
    "f2('OK')"
   ]
  },
  {
   "cell_type": "code",
   "execution_count": 2,
   "metadata": {},
   "outputs": [
    {
     "data": {
      "text/plain": [
       "'ok'"
      ]
     },
     "execution_count": 2,
     "metadata": {},
     "output_type": "execute_result"
    }
   ],
   "source": [
    "# 진짜 이름 없이 사용하기.\n",
    "(lambda x : x.lower())('OK') "
   ]
  },
  {
   "cell_type": "code",
   "execution_count": 40,
   "metadata": {},
   "outputs": [
    {
     "data": {
      "text/plain": [
       "10"
      ]
     },
     "execution_count": 40,
     "metadata": {},
     "output_type": "execute_result"
    }
   ],
   "source": [
    "f3 = lambda x, y : x + y\n",
    "f3(5, 5)"
   ]
  },
  {
   "cell_type": "code",
   "execution_count": 43,
   "metadata": {},
   "outputs": [
    {
     "data": {
      "text/plain": [
       "'Abc!'"
      ]
     },
     "execution_count": 43,
     "metadata": {},
     "output_type": "execute_result"
    }
   ],
   "source": [
    "# abc -> Abc!\n",
    "\n",
    "f4 = lambda str : str.title() + '!'\n",
    "f4('abc')"
   ]
  }
 ],
 "metadata": {
  "kernelspec": {
   "display_name": "Python 3",
   "language": "python",
   "name": "python3"
  },
  "language_info": {
   "codemirror_mode": {
    "name": "ipython",
    "version": 3
   },
   "file_extension": ".py",
   "mimetype": "text/x-python",
   "name": "python",
   "nbconvert_exporter": "python",
   "pygments_lexer": "ipython3",
   "version": "3.7.0"
  },
  "toc": {
   "base_numbering": 1,
   "nav_menu": {},
   "number_sections": true,
   "sideBar": true,
   "skip_h1_title": false,
   "title_cell": "Table of Contents",
   "title_sidebar": "Contents",
   "toc_cell": false,
   "toc_position": {},
   "toc_section_display": true,
   "toc_window_display": false
  }
 },
 "nbformat": 4,
 "nbformat_minor": 2
}
