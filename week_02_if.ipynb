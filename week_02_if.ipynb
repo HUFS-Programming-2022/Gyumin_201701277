{
 "cells": [
  {
   "cell_type": "markdown",
   "metadata": {},
   "source": [
    "### IF 조건문"
   ]
  },
  {
   "cell_type": "markdown",
   "metadata": {},
   "source": [
    "#### 코드 짜는 팁\n",
    "- 주석 달기\n",
    "    - '#' hash, sharp, ...\n",
    "    - 시작 지점부터 라인 끝까지가 주석 처리됨. 라인이 바뀌면 코드로 인식\n",
    "    - \"\"\" \"\"\" 사용하면 여러 라인 거쳐서 주석 사용 가능.\n",
    "    - 문자열 안에 있는 sharp는 부호로 인식한다.\n",
    "    - 이유? 코드에 대한 설명은 최대한 하지 않는다. 의도를 나타내기 위해, 오류가 있다거나, ...\n",
    "\n",
    "- 라인 유지하기\n",
    "    - 들여쓰기(default space 4ro, 탭을 이용해서)\n",
    "    - 논리 구조 나타내기 때문에 매우 중요.\n",
    "    - 한 라인에 80자 정도. (백슬래시로 라인을 끊어준다.)"
   ]
  },
  {
   "cell_type": "code",
   "execution_count": null,
   "metadata": {},
   "outputs": [],
   "source": [
    "a = 3 # 주석\n",
    "\"\"\"\n",
    "주석1\n",
    "주석2\n",
    "주석3\n",
    "\"\"\"\n",
    "print(a)"
   ]
  },
  {
   "cell_type": "code",
   "execution_count": null,
   "metadata": {},
   "outputs": [],
   "source": [
    "print('hey, there #') # 문자열 안에 있는 #은 주석 아님."
   ]
  },
  {
   "cell_type": "markdown",
   "metadata": {},
   "source": [
    "### if\n",
    "if 조건식 : \n",
    "    실행할 코드"
   ]
  },
  {
   "cell_type": "code",
   "execution_count": 1,
   "metadata": {},
   "outputs": [],
   "source": [
    "if 3 != 1 :\n",
    "    print(\"두 수는 같지 않다.\")"
   ]
  },
  {
   "cell_type": "markdown",
   "metadata": {},
   "source": [
    "### if-else\n",
    "\n",
    "if 조건식 :\n",
    "    실행할 코드\n",
    "else : \n",
    "    실행할 코드"
   ]
  },
  {
   "cell_type": "code",
   "execution_count": 3,
   "metadata": {},
   "outputs": [
    {
     "name": "stdout",
     "output_type": "stream",
     "text": [
      "두 수는 같다.\n"
     ]
    }
   ],
   "source": [
    "if 1 != 1 :\n",
    "    print(\"두 수는 같지 않다.\")\n",
    "else :\n",
    "    print(\"두 수는 같다.\")"
   ]
  },
  {
   "cell_type": "markdown",
   "metadata": {},
   "source": [
    "### if - elif - else \n",
    "- 조건이 3가지 이상일 때\n",
    "\n",
    "if 조건식 :\n",
    "    실행할 코드\n",
    "elif 조건식 :\n",
    "    실행할 코드\n",
    "else : \n",
    "    실행할 코드"
   ]
  },
  {
   "cell_type": "code",
   "execution_count": 6,
   "metadata": {},
   "outputs": [
    {
     "name": "stdout",
     "output_type": "stream",
     "text": [
      "3보다 크다.\n"
     ]
    }
   ],
   "source": [
    "a = 4\n",
    "\n",
    "if a < 3 :\n",
    "    print(\"3보다 작다.\")\n",
    "elif a == 3 :\n",
    "    print(\"3이다.\")\n",
    "else :\n",
    "    print(\"3보다 크다.\")"
   ]
  },
  {
   "cell_type": "code",
   "execution_count": 7,
   "metadata": {},
   "outputs": [],
   "source": [
    "if a < 3 :\n",
    "    print(\"3보다 작다.\")\n",
    "    \n",
    "if a == 3 :\n",
    "    print(\"3이다.\")\n",
    "    \n",
    "if a > 4:\n",
    "    print(\"3보다 크다.\")"
   ]
  },
  {
   "cell_type": "markdown",
   "metadata": {},
   "source": [
    "### 비교 연산자\n",
    "- x < y\n",
    "- x > y\n",
    "- x >= y\n",
    "- x <= y\n",
    "- x == y\n",
    "- x != y\n",
    "- x is y (값, 메모리주소)\n",
    "- x is not y"
   ]
  },
  {
   "cell_type": "markdown",
   "metadata": {},
   "source": [
    "### 퀴즈\n",
    "- 시험 점수를 입력 받고, 80점 이상이면 True, 아니면 False 반환\n",
    "- 시험 점수를 입력 받고, 95 이상 A+, 90 이상 A, 85 이상 B+, 나머지 F 출력"
   ]
  },
  {
   "cell_type": "code",
   "execution_count": 4,
   "metadata": {},
   "outputs": [
    {
     "name": "stdout",
     "output_type": "stream",
     "text": [
      "시험 점수 입력 : 30\n",
      "False\n"
     ]
    }
   ],
   "source": [
    "score = int(input(\"시험 점수 입력 : \"))\n",
    "if score >= 80 :\n",
    "    print(True)\n",
    "else : \n",
    "    print(False)"
   ]
  },
  {
   "cell_type": "code",
   "execution_count": 5,
   "metadata": {},
   "outputs": [
    {
     "name": "stdout",
     "output_type": "stream",
     "text": [
      "시험 점수 입력 : 90\n",
      "True\n"
     ]
    }
   ],
   "source": [
    "score = int(input(\"시험 점수 입력 : \"))\n",
    "result = score >= 80\n",
    "if result :\n",
    "    print(result)\n",
    "else : \n",
    "    print(result)"
   ]
  },
  {
   "cell_type": "code",
   "execution_count": 13,
   "metadata": {},
   "outputs": [
    {
     "name": "stdout",
     "output_type": "stream",
     "text": [
      "시험 점수 입력 : 0\n",
      "F\n"
     ]
    }
   ],
   "source": [
    "score = int(input(\"시험 점수 입력 : \"))\n",
    "if score >= 95 :\n",
    "    print(\"A+\")\n",
    "elif score >= 90 :\n",
    "    print(\"A\")\n",
    "elif score >= 85 :\n",
    "    print(\"B+\")\n",
    "else : \n",
    "    print(\"F\")"
   ]
  }
 ],
 "metadata": {
  "kernelspec": {
   "display_name": "Python 3",
   "language": "python",
   "name": "python3"
  },
  "language_info": {
   "codemirror_mode": {
    "name": "ipython",
    "version": 3
   },
   "file_extension": ".py",
   "mimetype": "text/x-python",
   "name": "python",
   "nbconvert_exporter": "python",
   "pygments_lexer": "ipython3",
   "version": "3.7.0"
  },
  "toc": {
   "base_numbering": 1,
   "nav_menu": {},
   "number_sections": true,
   "sideBar": true,
   "skip_h1_title": false,
   "title_cell": "Table of Contents",
   "title_sidebar": "Contents",
   "toc_cell": false,
   "toc_position": {},
   "toc_section_display": true,
   "toc_window_display": false
  }
 },
 "nbformat": 4,
 "nbformat_minor": 2
}
