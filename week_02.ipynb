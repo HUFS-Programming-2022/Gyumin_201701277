{
 "cells": [
  {
   "cell_type": "markdown",
   "metadata": {},
   "source": [
    "# [Week_02] "
   ]
  },
  {
   "cell_type": "markdown",
   "metadata": {},
   "source": [
    "## Ch02. Data"
   ]
  },
  {
   "cell_type": "markdown",
   "metadata": {},
   "source": [
    "### 자료형 변환하기\n",
    "- int(정수), str(문자열). float(실수), bool(부울형)"
   ]
  },
  {
   "cell_type": "code",
   "execution_count": 1,
   "metadata": {},
   "outputs": [
    {
     "data": {
      "text/plain": [
       "int"
      ]
     },
     "execution_count": 1,
     "metadata": {},
     "output_type": "execute_result"
    }
   ],
   "source": [
    "a = 10\n",
    "type(a)"
   ]
  },
  {
   "cell_type": "code",
   "execution_count": 2,
   "metadata": {},
   "outputs": [
    {
     "data": {
      "text/plain": [
       "10.0"
      ]
     },
     "execution_count": 2,
     "metadata": {},
     "output_type": "execute_result"
    }
   ],
   "source": [
    "# int -> float\n",
    "float(a)"
   ]
  },
  {
   "cell_type": "code",
   "execution_count": 3,
   "metadata": {},
   "outputs": [
    {
     "data": {
      "text/plain": [
       "'10'"
      ]
     },
     "execution_count": 3,
     "metadata": {},
     "output_type": "execute_result"
    }
   ],
   "source": [
    "# int -> str\n",
    "str(a)"
   ]
  },
  {
   "cell_type": "code",
   "execution_count": 4,
   "metadata": {},
   "outputs": [
    {
     "data": {
      "text/plain": [
       "True"
      ]
     },
     "execution_count": 4,
     "metadata": {},
     "output_type": "execute_result"
    }
   ],
   "source": [
    "# int -> bool\n",
    "bool(10)"
   ]
  },
  {
   "cell_type": "code",
   "execution_count": 5,
   "metadata": {},
   "outputs": [
    {
     "data": {
      "text/plain": [
       "10"
      ]
     },
     "execution_count": 5,
     "metadata": {},
     "output_type": "execute_result"
    }
   ],
   "source": [
    "# float -> int : 10.6\n",
    "int(10.9)"
   ]
  },
  {
   "cell_type": "code",
   "execution_count": 6,
   "metadata": {},
   "outputs": [
    {
     "name": "stdout",
     "output_type": "stream",
     "text": [
      "12\n",
      "11\n"
     ]
    }
   ],
   "source": [
    "x = 4.6\n",
    "y = 7.9\n",
    "\n",
    "print(int(x + y)) # 12.5 / 소숫점 자리 내림 됨.\n",
    "print(int(x) + int(y)) # 4 + 7"
   ]
  },
  {
   "cell_type": "code",
   "execution_count": 7,
   "metadata": {},
   "outputs": [
    {
     "data": {
      "text/plain": [
       "88.3"
      ]
     },
     "execution_count": 7,
     "metadata": {},
     "output_type": "execute_result"
    }
   ],
   "source": [
    "# str -> int\n",
    "p = '88.3'\n",
    "float(p)\n",
    "# int(p) => float 형식의 문자열을 int로 바꾸려고 하면 오류 발생. 같은 형식으로 바꿔줘야 함."
   ]
  },
  {
   "cell_type": "markdown",
   "metadata": {},
   "source": [
    "### print() 팁"
   ]
  },
  {
   "cell_type": "code",
   "execution_count": 8,
   "metadata": {},
   "outputs": [
    {
     "name": "stdout",
     "output_type": "stream",
     "text": [
      "orange apple tomato\n",
      "the next line\n"
     ]
    }
   ],
   "source": [
    "print('orange', 'apple', 'tomato') # default : 띄어쓰기, 줄바꾸기\n",
    "print(\"the next line\")"
   ]
  },
  {
   "cell_type": "code",
   "execution_count": 9,
   "metadata": {},
   "outputs": [
    {
     "name": "stdout",
     "output_type": "stream",
     "text": [
      "orangeappletomato\n",
      "orange apple tomato\n",
      "orange_apple_tomato\n",
      "\n",
      "EOL\n"
     ]
    }
   ],
   "source": [
    "orange = 'orange'\n",
    "apple = 'apple'\n",
    "tomato = 'tomato'\n",
    "\n",
    "# 1.\n",
    "print(orange + apple + tomato) # 연결 가능하지만 원소들 간 공백 사라짐.\n",
    "print(orange, apple, tomato, sep =' ', end ='\\n') # default : sep은 원소 사이 연결 문자를 지정, end는 줄 마지막 문자를 지정.\n",
    "print(orange, apple, tomato, sep ='_', end ='\\n\\n') # sep를 _로, end를 두 줄 개행으로 바꿈.\n",
    "print('EOL')"
   ]
  },
  {
   "cell_type": "code",
   "execution_count": 10,
   "metadata": {},
   "outputs": [],
   "source": [
    "# 라인이 짧을 때 => :\n",
    "orange = 'orange'; apple = 'apple'; tomato = 'tomato' # ; 은 라인 넘긴 것과 같은 효과"
   ]
  },
  {
   "cell_type": "markdown",
   "metadata": {},
   "source": [
    "### input()\n",
    "- console에서 사용자에게 값을 입력 받는 함수 \n",
    "- 입력 받는 값의 타입은 문자열(str).\n",
    "- 입력 받은 값을 변수에 담아서 사용."
   ]
  },
  {
   "cell_type": "code",
   "execution_count": 13,
   "metadata": {},
   "outputs": [
    {
     "name": "stdout",
     "output_type": "stream",
     "text": [
      "What's your name? : 문규민\n"
     ]
    },
    {
     "data": {
      "text/plain": [
       "'문규민'"
      ]
     },
     "execution_count": 13,
     "metadata": {},
     "output_type": "execute_result"
    }
   ],
   "source": [
    "input(\"What's your name? : \")"
   ]
  },
  {
   "cell_type": "code",
   "execution_count": 14,
   "metadata": {},
   "outputs": [
    {
     "name": "stdout",
     "output_type": "stream",
     "text": [
      "What's your name? : 문규민\n"
     ]
    }
   ],
   "source": [
    "# 방법 1. \n",
    "name = input(\"What's your name? : \")"
   ]
  },
  {
   "cell_type": "code",
   "execution_count": 15,
   "metadata": {},
   "outputs": [
    {
     "name": "stdout",
     "output_type": "stream",
     "text": [
      "What's your name?\n",
      "문규민\n"
     ]
    }
   ],
   "source": [
    "# 방법 2.\n",
    "print(\"What's your name?\")\n",
    "name = input()"
   ]
  },
  {
   "cell_type": "code",
   "execution_count": 16,
   "metadata": {},
   "outputs": [
    {
     "name": "stdout",
     "output_type": "stream",
     "text": [
      "문규민\n"
     ]
    }
   ],
   "source": [
    "print(name)"
   ]
  },
  {
   "cell_type": "markdown",
   "metadata": {},
   "source": [
    "- input()을 str이 아닌 다른 타입으로 사용하고 싶을 때는 미리 형 변환을 해준다. (기본적으로 str형으로 받기 때문)"
   ]
  },
  {
   "cell_type": "code",
   "execution_count": 17,
   "metadata": {},
   "outputs": [
    {
     "name": "stdout",
     "output_type": "stream",
     "text": [
      "How old are you? 25\n"
     ]
    }
   ],
   "source": [
    "age = int(input(\"How old are you? \"))"
   ]
  },
  {
   "cell_type": "code",
   "execution_count": 19,
   "metadata": {},
   "outputs": [
    {
     "data": {
      "text/plain": [
       "int"
      ]
     },
     "execution_count": 19,
     "metadata": {},
     "output_type": "execute_result"
    }
   ],
   "source": [
    "type(age)"
   ]
  },
  {
   "cell_type": "code",
   "execution_count": 20,
   "metadata": {},
   "outputs": [
    {
     "name": "stdout",
     "output_type": "stream",
     "text": [
      "당신이 태어난 해는 1998 입니다.\n"
     ]
    }
   ],
   "source": [
    "print(\"당신이 태어난 해는\", 2022 - age + 1, \"입니다.\") # int형으로 바뀌어 연산이 가능해짐."
   ]
  },
  {
   "cell_type": "markdown",
   "metadata": {},
   "source": [
    "### printing"
   ]
  },
  {
   "cell_type": "code",
   "execution_count": 21,
   "metadata": {},
   "outputs": [
    {
     "name": "stdout",
     "output_type": "stream",
     "text": [
      "당신이 태어난 해는 1998 입니다.\n"
     ]
    }
   ],
   "source": [
    "print(f'당신이 태어난 해는 {2022 - age + 1} 입니다.') # print(f'{<variable>}')"
   ]
  },
  {
   "cell_type": "markdown",
   "metadata": {},
   "source": [
    "### Quiz 1\n",
    "- 택배 정보를 입력받고 무게에 따른 값 산정하기\n",
    "    - 수취인 성명 : \n",
    "    - 수취인 주소 :\n",
    "    - 배송비 : 3000원\n",
    "    - 물건 비용 : <계산된 값>원\n",
    "    - 총 합계 : <계산된 값>원\n",
    "- 물건 비용은 무게(g) * 5\n",
    "- 입력 값 = 이름, 주소, 무게"
   ]
  },
  {
   "cell_type": "code",
   "execution_count": 22,
   "metadata": {},
   "outputs": [
    {
     "name": "stdout",
     "output_type": "stream",
     "text": [
      "수취인 성명 : 문규민\n"
     ]
    }
   ],
   "source": [
    "name = input(\"수취인 성명 : \")"
   ]
  },
  {
   "cell_type": "code",
   "execution_count": 23,
   "metadata": {},
   "outputs": [
    {
     "name": "stdout",
     "output_type": "stream",
     "text": [
      "수취인 주소 : 경기도 부천\n"
     ]
    }
   ],
   "source": [
    "address = input(\"수취인 주소 : \")"
   ]
  },
  {
   "cell_type": "code",
   "execution_count": 24,
   "metadata": {},
   "outputs": [],
   "source": [
    "deliv_fee = 3000"
   ]
  },
  {
   "cell_type": "code",
   "execution_count": 25,
   "metadata": {},
   "outputs": [
    {
     "name": "stdout",
     "output_type": "stream",
     "text": [
      "배송비 : 3000원\n"
     ]
    }
   ],
   "source": [
    "print(\"배송비 : \" + str(deliv_fee) + \"원\")"
   ]
  },
  {
   "cell_type": "code",
   "execution_count": 26,
   "metadata": {},
   "outputs": [
    {
     "name": "stdout",
     "output_type": "stream",
     "text": [
      "물건 무게 : 500\n"
     ]
    }
   ],
   "source": [
    "weight = int(input(\"물건 무게 : \"))"
   ]
  },
  {
   "cell_type": "code",
   "execution_count": 31,
   "metadata": {},
   "outputs": [],
   "source": [
    "fee = weight * 5"
   ]
  },
  {
   "cell_type": "code",
   "execution_count": 32,
   "metadata": {},
   "outputs": [
    {
     "name": "stdout",
     "output_type": "stream",
     "text": [
      "물건 비용 : 2500원\n"
     ]
    }
   ],
   "source": [
    "print(\"물건 비용 : \" + str(fee)  + \"원\")"
   ]
  },
  {
   "cell_type": "code",
   "execution_count": 33,
   "metadata": {},
   "outputs": [
    {
     "name": "stdout",
     "output_type": "stream",
     "text": [
      "총 합계 : 5500원\n"
     ]
    }
   ],
   "source": [
    "print(\"총 합계 : \" + str(fee + deliv_fee) + \"원\")"
   ]
  },
  {
   "cell_type": "markdown",
   "metadata": {},
   "source": [
    "## Ch03. Numbers"
   ]
  },
  {
   "cell_type": "markdown",
   "metadata": {},
   "source": [
    "### boolean\n",
    "- True / False\n",
    "- False인 값\n",
    "- if문 (조건식) : 만약 어떤 값이 True면..\n",
    "- 항상 False : bool(0), bool(None).."
   ]
  },
  {
   "cell_type": "markdown",
   "metadata": {},
   "source": [
    "### Integer\n",
    "- 분수나 소수가 아닌 수\n",
    "- 음수는 '-' 기호를 붙인다. ex. -50\n",
    "- default = 양수\n",
    "- 숫자 앞에는 0을 쓰지 못한다. ex. 09\n",
    "    - 0bxx (10진수가 아닌 수는 예외)\n",
    "- 숫자 사이에 쉼표를 쓰면 오류 : 100,000  # 두 개의 원소로 취급됨.\n",
    "    - 숫자 사이의 언더바는 인식하지 않는다. ex. 100_000 와 같은 형식으로 표현."
   ]
  },
  {
   "cell_type": "code",
   "execution_count": 34,
   "metadata": {},
   "outputs": [
    {
     "ename": "SyntaxError",
     "evalue": "invalid token (<ipython-input-34-eec9b508376e>, line 1)",
     "output_type": "error",
     "traceback": [
      "\u001b[1;36m  File \u001b[1;32m\"<ipython-input-34-eec9b508376e>\"\u001b[1;36m, line \u001b[1;32m1\u001b[0m\n\u001b[1;33m    a = 09 # 숫자 앞에 0 쓸 수 없음.\u001b[0m\n\u001b[1;37m         ^\u001b[0m\n\u001b[1;31mSyntaxError\u001b[0m\u001b[1;31m:\u001b[0m invalid token\n"
     ]
    }
   ],
   "source": [
    "a = 09 # 숫자 앞에 0 쓸 수 없음."
   ]
  },
  {
   "cell_type": "code",
   "execution_count": 35,
   "metadata": {},
   "outputs": [
    {
     "data": {
      "text/plain": [
       "-1"
      ]
     },
     "execution_count": 35,
     "metadata": {},
     "output_type": "execute_result"
    }
   ],
   "source": [
    "a = -50\n",
    "b = 49\n",
    "a + b"
   ]
  },
  {
   "cell_type": "markdown",
   "metadata": {},
   "source": [
    "### 연산자 Operator\n",
    "- +, -, *, /\n",
    "- 피연산자 | operand : 1, 2, ...\n",
    "- 수식 | experssion"
   ]
  },
  {
   "cell_type": "code",
   "execution_count": 36,
   "metadata": {},
   "outputs": [
    {
     "data": {
      "text/plain": [
       "6561"
      ]
     },
     "execution_count": 36,
     "metadata": {},
     "output_type": "execute_result"
    }
   ],
   "source": [
    "x = 9\n",
    "y = 4\n",
    "\n",
    "# 연산\n",
    "x + y\n",
    "x - y\n",
    "x * y\n",
    "x / y # 정수 나눗셈\n",
    "x ** y # 거듭제곱 | exponential"
   ]
  },
  {
   "cell_type": "markdown",
   "metadata": {},
   "source": [
    "### 나눗셈 = 몫, 나머지"
   ]
  },
  {
   "cell_type": "code",
   "execution_count": 37,
   "metadata": {},
   "outputs": [
    {
     "data": {
      "text/plain": [
       "1"
      ]
     },
     "execution_count": 37,
     "metadata": {},
     "output_type": "execute_result"
    }
   ],
   "source": [
    "x / y # 결과물 (실수 나눗셈)\n",
    "x // y # 몫 (정수 나눗셈)\n",
    "x % y # 나머지"
   ]
  },
  {
   "cell_type": "code",
   "execution_count": 38,
   "metadata": {},
   "outputs": [
    {
     "data": {
      "text/plain": [
       "(2, 1)"
      ]
     },
     "execution_count": 38,
     "metadata": {},
     "output_type": "execute_result"
    }
   ],
   "source": [
    "divmod(x, y) # x와 y의 나눗셈 연산을 (몫, 나머지) 형태로 출력"
   ]
  },
  {
   "cell_type": "markdown",
   "metadata": {},
   "source": [
    "- division by zero 항상 유의"
   ]
  },
  {
   "cell_type": "code",
   "execution_count": 39,
   "metadata": {},
   "outputs": [
    {
     "data": {
      "text/plain": [
       "20"
      ]
     },
     "execution_count": 39,
     "metadata": {},
     "output_type": "execute_result"
    }
   ],
   "source": [
    "1 + 9                  + 10"
   ]
  },
  {
   "cell_type": "markdown",
   "metadata": {},
   "source": [
    "### 복합 대입 연산자 | compound assignment operato"
   ]
  },
  {
   "cell_type": "code",
   "execution_count": 40,
   "metadata": {},
   "outputs": [
    {
     "name": "stdout",
     "output_type": "stream",
     "text": [
      "5\n"
     ]
    }
   ],
   "source": [
    "x = 5\n",
    "x - 3\n",
    "print(x)"
   ]
  },
  {
   "cell_type": "code",
   "execution_count": 41,
   "metadata": {},
   "outputs": [
    {
     "name": "stdout",
     "output_type": "stream",
     "text": [
      "2\n"
     ]
    }
   ],
   "source": [
    "x = x - 3\n",
    "print(x)\n",
    "\n",
    "#1. x - 3 계산\n",
    "#2. temp = x - 3 (임시변수에 담는다.)\n",
    "#3. x = temp"
   ]
  },
  {
   "cell_type": "code",
   "execution_count": 42,
   "metadata": {},
   "outputs": [
    {
     "name": "stdout",
     "output_type": "stream",
     "text": [
      "-1\n"
     ]
    }
   ],
   "source": [
    "x -= 3   # x = x - 3 과 같다.\n",
    "print(x) # 2 - 3"
   ]
  },
  {
   "cell_type": "code",
   "execution_count": 43,
   "metadata": {},
   "outputs": [],
   "source": [
    "x += 3\n",
    "x -= 3\n",
    "x *= 3\n",
    "x /= 3\n",
    "\n",
    "x += 1"
   ]
  },
  {
   "cell_type": "markdown",
   "metadata": {},
   "source": [
    "### Quiz 2.\n",
    "- 반지름을 입력 받아서 원의 면적 구하기\n",
    "- 면적 : pi * r의 제곱\n"
   ]
  },
  {
   "cell_type": "code",
   "execution_count": 45,
   "metadata": {},
   "outputs": [
    {
     "name": "stdout",
     "output_type": "stream",
     "text": [
      "원의 반지름 : 5\n",
      "78.5398\n"
     ]
    }
   ],
   "source": [
    "radius = float(input(\"원의 반지름 : \"))\n",
    "pi = 3.141592\n",
    "area = pi * (radius * radius)\n",
    "print(area)"
   ]
  },
  {
   "cell_type": "markdown",
   "metadata": {},
   "source": [
    "### Quiz 3.\n",
    "- 숫자를 입력받고 3의 배수인지 확인하기\n",
    "- 숫자를 입력받고 홀수인지 확인하기"
   ]
  },
  {
   "cell_type": "code",
   "execution_count": 46,
   "metadata": {},
   "outputs": [
    {
     "name": "stdout",
     "output_type": "stream",
     "text": [
      "숫자 입력 : 3\n",
      "3의 배수입니까? : True\n"
     ]
    }
   ],
   "source": [
    "number = int(input(\"숫자 입력 : \"))\n",
    "result = bool(not number % 3)\n",
    "print(\"3의 배수입니까? :\", result)"
   ]
  },
  {
   "cell_type": "code",
   "execution_count": 47,
   "metadata": {},
   "outputs": [
    {
     "name": "stdout",
     "output_type": "stream",
     "text": [
      "숫자 입력 : 2\n",
      "홀수입니까? : False\n"
     ]
    }
   ],
   "source": [
    "number = int(input(\"숫자 입력 : \"))\n",
    "result = bool(number % 2)\n",
    "print(\"홀수입니까? :\", result)"
   ]
  },
  {
   "cell_type": "markdown",
   "metadata": {},
   "source": [
    "### 지수 표현\n",
    "- 예 : 0e-4\n",
    "- e의 앞부분은 소수, 정수 둘 다 됨\n",
    "- 뒷부분은 정수여야함\n",
    "- 뒷부분이 음수면 소숫점 자리수를 의미"
   ]
  },
  {
   "cell_type": "code",
   "execution_count": 48,
   "metadata": {},
   "outputs": [
    {
     "data": {
      "text/plain": [
       "0.0001"
      ]
     },
     "execution_count": 48,
     "metadata": {},
     "output_type": "execute_result"
    }
   ],
   "source": [
    "1.0e-4 # 소숫점 넷째자리까지 표현."
   ]
  },
  {
   "cell_type": "code",
   "execution_count": 49,
   "metadata": {},
   "outputs": [
    {
     "data": {
      "text/plain": [
       "0.0004005"
      ]
     },
     "execution_count": 49,
     "metadata": {},
     "output_type": "execute_result"
    }
   ],
   "source": [
    "# 0.0004005 지수로 표현\n",
    "4.005e-4"
   ]
  },
  {
   "cell_type": "markdown",
   "metadata": {},
   "source": [
    "### 연습문제 1.\n",
    "- 1시간은 몇 초인가? 대화식 인터프리터를 계산기로 사용해서 1시간(60분)에 1분(60초) 곱하기\n",
    "\n",
    "### 연습문제 2.\n",
    "- 계산 결과를 seconds_per_hour 변수에 저장"
   ]
  },
  {
   "cell_type": "code",
   "execution_count": 50,
   "metadata": {},
   "outputs": [
    {
     "name": "stdout",
     "output_type": "stream",
     "text": [
      "3600\n"
     ]
    }
   ],
   "source": [
    "hour = 60\n",
    "seconds_per_hour = hour * 60\n",
    "print(seconds_per_hour)"
   ]
  },
  {
   "cell_type": "markdown",
   "metadata": {},
   "source": [
    "### 연습문제 3.\n",
    "- 1일은 몇 초인가?\n",
    "\n",
    "### 연습문제 4.\n",
    "- 계산한 결과를 seconds_per_day 변수에 저장"
   ]
  },
  {
   "cell_type": "code",
   "execution_count": 51,
   "metadata": {},
   "outputs": [
    {
     "name": "stdout",
     "output_type": "stream",
     "text": [
      "86400\n"
     ]
    }
   ],
   "source": [
    "seconds_per_day = seconds_per_hour * 24\n",
    "print(seconds_per_day)"
   ]
  },
  {
   "cell_type": "markdown",
   "metadata": {},
   "source": [
    "### 연습문제 5\n",
    "- 부동소수점(/) 나눗셈을 사용해서 seconds_per_day를 seconds_per_hour로 나누기"
   ]
  },
  {
   "cell_type": "code",
   "execution_count": 52,
   "metadata": {},
   "outputs": [
    {
     "name": "stdout",
     "output_type": "stream",
     "text": [
      "24.0\n"
     ]
    }
   ],
   "source": [
    "result = seconds_per_day / seconds_per_hour\n",
    "print(result)"
   ]
  },
  {
   "cell_type": "markdown",
   "metadata": {},
   "source": [
    "### 연습문제 6\n",
    "- 정수(//) 나눗셈을 사용해서 seconds_per_day를 seconds_per_hour로 나누기 (.0 부분을 제외하고 결과 같음.)"
   ]
  },
  {
   "cell_type": "code",
   "execution_count": 53,
   "metadata": {},
   "outputs": [
    {
     "name": "stdout",
     "output_type": "stream",
     "text": [
      "24\n"
     ]
    }
   ],
   "source": [
    "result = seconds_per_day // seconds_per_hour\n",
    "print(result)"
   ]
  },
  {
   "cell_type": "markdown",
   "metadata": {},
   "source": [
    "## CH04. IF"
   ]
  },
  {
   "cell_type": "markdown",
   "metadata": {},
   "source": [
    "### 코드 짜는 팁\n",
    "- 주석 달기\n",
    "    - '#' : hash, sharp, ...\n",
    "    - 시작 지점부터 라인 끝까지가 주석 처리됨. 라인이 바뀌면 코드로 인식\n",
    "    - \"\"\" \"\"\" 사용하면 여러 라인 거쳐서 주석 사용 가능.\n",
    "    - 문자열 안에 있는 sharp는 부호로 인식한다.\n",
    "    - 이유? 코드에 대한 설명은 최대한 하지 않는다. 오류가 있을 때나, 의도 나타낼 때 사용\n",
    "\n",
    "- 라인 유지하기\n",
    "    - 들여쓰기(default는 space 4개, 탭을 이용하면 같은 효과)\n",
    "    - 논리 구조 나타내기 때문에 매우 중요.\n",
    "    - 한 라인에 80자 정도. (백슬래시로 라인을 끊어준다.)"
   ]
  },
  {
   "cell_type": "code",
   "execution_count": 62,
   "metadata": {},
   "outputs": [
    {
     "name": "stdout",
     "output_type": "stream",
     "text": [
      "3\n"
     ]
    }
   ],
   "source": [
    "a = 3 # 주석\n",
    "\"\"\"   # 여기부터\n",
    "주석1\n",
    "주석2\n",
    "주석3  # 여기까지는 전부 주석\n",
    "\"\"\" \n",
    "print(a)"
   ]
  },
  {
   "cell_type": "code",
   "execution_count": 63,
   "metadata": {},
   "outputs": [
    {
     "name": "stdout",
     "output_type": "stream",
     "text": [
      "hey, there #\n"
     ]
    }
   ],
   "source": [
    "print('hey, there #') # 문자열 안에 있는 #은 주석 아님."
   ]
  },
  {
   "cell_type": "markdown",
   "metadata": {},
   "source": [
    "### if\n",
    "if 조건식 : \n",
    "    실행할 코드"
   ]
  },
  {
   "cell_type": "code",
   "execution_count": 54,
   "metadata": {},
   "outputs": [
    {
     "name": "stdout",
     "output_type": "stream",
     "text": [
      "두 수는 같지 않다.\n"
     ]
    }
   ],
   "source": [
    "if 3 != 1 :\n",
    "    print(\"두 수는 같지 않다.\")"
   ]
  },
  {
   "cell_type": "markdown",
   "metadata": {},
   "source": [
    "### if-else\n",
    "\n",
    "if 조건식 :\n",
    "    실행할 코드\n",
    "else : \n",
    "    실행할 코드"
   ]
  },
  {
   "cell_type": "code",
   "execution_count": 55,
   "metadata": {},
   "outputs": [
    {
     "name": "stdout",
     "output_type": "stream",
     "text": [
      "두 수는 같다.\n"
     ]
    }
   ],
   "source": [
    "if 1 != 1 :\n",
    "    print(\"두 수는 같지 않다.\")\n",
    "else :\n",
    "    print(\"두 수는 같다.\")"
   ]
  },
  {
   "cell_type": "markdown",
   "metadata": {},
   "source": [
    "### if - elif - else \n",
    "- 조건이 3가지 이상일 때\n",
    "\n",
    "if 조건식 :\n",
    "    실행할 코드\n",
    "elif 조건식 :\n",
    "    실행할 코드\n",
    "else : \n",
    "    실행할 코드"
   ]
  },
  {
   "cell_type": "code",
   "execution_count": 56,
   "metadata": {},
   "outputs": [
    {
     "name": "stdout",
     "output_type": "stream",
     "text": [
      "3이다.\n"
     ]
    }
   ],
   "source": [
    "a = 3\n",
    "\n",
    "if a < 3 :\n",
    "    print(\"3보다 작다.\")\n",
    "elif a == 3 :\n",
    "    print(\"3이다.\")\n",
    "else :\n",
    "    print(\"3보다 크다.\")"
   ]
  },
  {
   "cell_type": "code",
   "execution_count": 57,
   "metadata": {},
   "outputs": [],
   "source": [
    "a = 4 # 아래 조건문들은 개별로 작동하고 아무 조건에도 맞지 않아 아무것도 출력 X\n",
    "\n",
    "if a < 3 :\n",
    "    print(\"3보다 작다.\")\n",
    "    \n",
    "if a == 3 :\n",
    "    print(\"3이다.\")\n",
    "    \n",
    "if a > 4:\n",
    "    print(\"4보다 크다.\")"
   ]
  },
  {
   "cell_type": "markdown",
   "metadata": {},
   "source": [
    "### 비교 연산자\n",
    "- x < y\n",
    "- x > y\n",
    "- x >= y\n",
    "- x <= y\n",
    "- x == y\n",
    "- x != y\n",
    "- x is y (값, 메모리주소)\n",
    "- x is not y"
   ]
  },
  {
   "cell_type": "markdown",
   "metadata": {},
   "source": [
    "### Quiz 4\n",
    "- 시험 점수를 입력 받고, 80점 이상이면 True, 아니면 False 반환\n",
    "- 시험 점수를 입력 받고, 95 이상 A+, 90 이상 A, 85 이상 B+, 나머지 F 출력"
   ]
  },
  {
   "cell_type": "code",
   "execution_count": 58,
   "metadata": {},
   "outputs": [
    {
     "name": "stdout",
     "output_type": "stream",
     "text": [
      "시험 점수 입력 : 90\n",
      "True\n"
     ]
    }
   ],
   "source": [
    "# 1번 -1\n",
    "score = int(input(\"시험 점수 입력 : \"))\n",
    "if score >= 80 :\n",
    "    print(True)\n",
    "else : \n",
    "    print(False)"
   ]
  },
  {
   "cell_type": "code",
   "execution_count": 59,
   "metadata": {},
   "outputs": [
    {
     "name": "stdout",
     "output_type": "stream",
     "text": [
      "시험 점수 입력 : 90\n",
      "True\n"
     ]
    }
   ],
   "source": [
    "# 1번 -2\n",
    "score = int(input(\"시험 점수 입력 : \"))\n",
    "result = score >= 80\n",
    "if result :\n",
    "    print(result)\n",
    "else : \n",
    "    print(result)"
   ]
  },
  {
   "cell_type": "code",
   "execution_count": 61,
   "metadata": {},
   "outputs": [
    {
     "name": "stdout",
     "output_type": "stream",
     "text": [
      "시험 점수 입력 : 85\n",
      "B+\n"
     ]
    }
   ],
   "source": [
    "# 2번\n",
    "score = int(input(\"시험 점수 입력 : \"))\n",
    "if score >= 95 :\n",
    "    print(\"A+\")\n",
    "elif score >= 90 :\n",
    "    print(\"A\")\n",
    "elif score >= 85 :\n",
    "    print(\"B+\")\n",
    "else : \n",
    "    print(\"F\")"
   ]
  }
 ],
 "metadata": {
  "kernelspec": {
   "display_name": "Python 3",
   "language": "python",
   "name": "python3"
  },
  "language_info": {
   "codemirror_mode": {
    "name": "ipython",
    "version": 3
   },
   "file_extension": ".py",
   "mimetype": "text/x-python",
   "name": "python",
   "nbconvert_exporter": "python",
   "pygments_lexer": "ipython3",
   "version": "3.7.0"
  },
  "toc": {
   "base_numbering": 1,
   "nav_menu": {},
   "number_sections": true,
   "sideBar": true,
   "skip_h1_title": false,
   "title_cell": "Table of Contents",
   "title_sidebar": "Contents",
   "toc_cell": false,
   "toc_position": {},
   "toc_section_display": true,
   "toc_window_display": false
  }
 },
 "nbformat": 4,
 "nbformat_minor": 2
}
